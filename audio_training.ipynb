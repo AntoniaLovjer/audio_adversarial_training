{
 "cells": [
  {
   "cell_type": "code",
   "execution_count": 1,
   "metadata": {},
   "outputs": [],
   "source": [
    "%load_ext autoreload\n",
    "%autoreload 2"
   ]
  },
  {
   "cell_type": "code",
   "execution_count": 2,
   "metadata": {},
   "outputs": [
    {
     "name": "stdout",
     "output_type": "stream",
     "text": [
      "attacks.py\t\t     basetrainer.py    models\r\n",
      "Audio Reconstruction.ipynb   CustomDataset.py  __pycache__\r\n",
      "audio_training2.ipynb\t     dataloader.py     saved\r\n",
      "audio_training.ipynb\t     evaluation.ipynb  spectogram.py\r\n",
      "audio_training_output.ipynb  logs\t       utils.py\r\n"
     ]
    }
   ],
   "source": [
    "!ls"
   ]
  },
  {
   "cell_type": "markdown",
   "metadata": {
    "colab_type": "text",
    "id": "8pDrv-WQ2QVn"
   },
   "source": [
    "## Extract data from zip file\n",
    "\n",
    "\n"
   ]
  },
  {
   "cell_type": "code",
   "execution_count": 4,
   "metadata": {
    "colab": {
     "base_uri": "https://localhost:8080/",
     "height": 102
    },
    "colab_type": "code",
    "executionInfo": {
     "elapsed": 4546,
     "status": "ok",
     "timestamp": 1572873608402,
     "user": {
      "displayName": "Antonia Lovjer",
      "photoUrl": "",
      "userId": "16395681258946800452"
     },
     "user_tz": 300
    },
    "id": "lAIamznNy8fo",
    "outputId": "7d5d965f-9b54-4384-a991-f6cc7236a6fa"
   },
   "outputs": [
    {
     "name": "stdout",
     "output_type": "stream",
     "text": [
      "Reading package lists... Done\n",
      "Building dependency tree       \n",
      "Reading state information... Done\n",
      "p7zip-full is already the newest version (16.02+dfsg-3+deb9u1).\n",
      "0 upgraded, 0 newly installed, 0 to remove and 0 not upgraded.\n"
     ]
    }
   ],
   "source": [
    "# import package to unzip .7zip file\n",
    "!sudo apt-get install -y p7zip-full"
   ]
  },
  {
   "cell_type": "code",
   "execution_count": 5,
   "metadata": {
    "colab": {
     "base_uri": "https://localhost:8080/",
     "height": 428
    },
    "colab_type": "code",
    "executionInfo": {
     "elapsed": 113960,
     "status": "ok",
     "timestamp": 1572873725080,
     "user": {
      "displayName": "Antonia Lovjer",
      "photoUrl": "",
      "userId": "16395681258946800452"
     },
     "user_tz": 300
    },
    "id": "05cAj2gwyQ2k",
    "outputId": "4658aa78-5d58-4b21-c4fc-24f41f2b4031",
    "scrolled": true
   },
   "outputs": [],
   "source": [
    "# locally unzip the audio files in train.7z\n",
    "# !cd ../Data/ && p7zip -d train.7z"
   ]
  },
  {
   "cell_type": "code",
   "execution_count": 6,
   "metadata": {},
   "outputs": [],
   "source": [
    "# !ls ../Data/train/audio"
   ]
  },
  {
   "cell_type": "markdown",
   "metadata": {
    "colab_type": "text",
    "id": "n4KBXX6szo28"
   },
   "source": [
    "## Imports"
   ]
  },
  {
   "cell_type": "code",
   "execution_count": 3,
   "metadata": {
    "colab": {},
    "colab_type": "code",
    "id": "14LKOMt0y3rX"
   },
   "outputs": [],
   "source": [
    "%matplotlib inline\n",
    "\n",
    "import IPython.display\n",
    "import numpy as np\n",
    "import matplotlib.pyplot as plt\n",
    "import copy\n",
    "from scipy.io import wavfile\n",
    "from scipy.signal import butter, lfilter\n",
    "import scipy.ndimage\n",
    "\n",
    "import torch\n",
    "from torch.utils.data import DataLoader\n",
    "\n",
    "from utils import log_textfile\n",
    "from basetrainer import BaseTrainer\n",
    "from dataloader import load_data\n",
    "from CustomDataset import CustomDatasetSimple\n",
    "from models.resnet import ResNet, resnet34\n",
    "from attacks import fgsm, pgd_linf"
   ]
  },
  {
   "cell_type": "markdown",
   "metadata": {
    "colab_type": "text",
    "id": "Jpi0p5JP0n24"
   },
   "source": [
    "## Data Loader"
   ]
  },
  {
   "cell_type": "code",
   "execution_count": 4,
   "metadata": {},
   "outputs": [
    {
     "name": "stdout",
     "output_type": "stream",
     "text": [
      "There are 21105 train and 2577 val samples\n"
     ]
    }
   ],
   "source": [
    "DATADIR = '../Data/'\n",
    "\n",
    "trainset, valset = load_data(DATADIR)"
   ]
  },
  {
   "cell_type": "markdown",
   "metadata": {
    "colab_type": "text",
    "id": "xsiliYP4qiev"
   },
   "source": [
    "### Data subset"
   ]
  },
  {
   "cell_type": "code",
   "execution_count": 5,
   "metadata": {
    "colab": {
     "base_uri": "https://localhost:8080/",
     "height": 34
    },
    "colab_type": "code",
    "executionInfo": {
     "elapsed": 945,
     "status": "ok",
     "timestamp": 1572873967823,
     "user": {
      "displayName": "Antonia Lovjer",
      "photoUrl": "",
      "userId": "16395681258946800452"
     },
     "user_tz": 300
    },
    "id": "Tc1QhN3U-V_h",
    "outputId": "ef85b0b6-ab47-4464-c36e-a33300b7e3b1"
   },
   "outputs": [],
   "source": [
    "# from random import sample\n",
    "# from random import shuffle\n",
    "\n",
    "# # training set subsample\n",
    "# trainset_sub = sample(trainset, 2000)\n",
    "# len(trainset_sub)\n",
    "\n",
    "# # validation subample\n",
    "# shuffle(valset)\n",
    "# valset_sub = valset[:1000]\n",
    "\n",
    "# # subsample the training set from the validation for now!\n",
    "# testset_sub = valset[1000:2000]\n",
    "# print('length of trainset: ' + str(len(trainset_sub)) + ', length of validation set: ' +  str(len(valset_sub)), \n",
    "#       ', length of test set: ' + str(len(testset_sub)))"
   ]
  },
  {
   "cell_type": "markdown",
   "metadata": {
    "colab_type": "text",
    "id": "roDTcA97jzUK"
   },
   "source": [
    "### Get filenames"
   ]
  },
  {
   "cell_type": "code",
   "execution_count": 6,
   "metadata": {},
   "outputs": [],
   "source": [
    "trainset_dl = trainset\n",
    "valset_dl = valset\n",
    "#test_dl = testset_sub\n",
    "\n",
    "train_filepaths = [i[2] for i in trainset_dl]\n",
    "train_labels = [i[0] for i in trainset_dl]\n",
    "valid_filepaths = [i[2] for i in valset_dl]\n",
    "val_labels = [i[0] for i in valset_dl]\n",
    "#test_filepaths = [i[2] for i in test_dl]\n",
    "#test_labels = [i[0] for i in valset_dl]"
   ]
  },
  {
   "cell_type": "code",
   "execution_count": 13,
   "metadata": {
    "colab": {},
    "colab_type": "code",
    "id": "8KJ8KkYiqqPG"
   },
   "outputs": [],
   "source": [
    "# if False:\n",
    "#     trainset_dl = trainset\n",
    "#     valset_dl = valset\n",
    "#     test_dl = testset_sub\n",
    "\n",
    "#     # train\n",
    "#     train_filepaths = [i[2] for i in trainset_dl]\n",
    "#     train_audio_files = [wavfile.read(i)[1] for i in train_filepaths]\n",
    "#     train_labels = [i[0] for i in trainset_dl]\n",
    "\n",
    "#     train_spec = []\n",
    "#     for i in range(len(train_audio_files)):\n",
    "#       spec = pretty_spectrogram(train_audio_files[i].astype('float64'), fft_size = fft_size, step_size = step_size, log = True, thresh = spec_thresh)\n",
    "#       height = spec.shape[0]\n",
    "#       if height!=112:\n",
    "#         spec = pad_dimesions(spec)\n",
    "#       train_spec.append(spec)\n",
    "\n",
    "#     # validation\n",
    "#     valid_filepaths = [i[2] for i in valset_dl]\n",
    "#     valid_audio_files = [wavfile.read(i)[1] for i in valid_filepaths]\n",
    "#     val_labels = [i[0] for i in valset_dl]\n",
    "\n",
    "#     valid_spec = []\n",
    "#     for i in range(len(valid_audio_files)):\n",
    "#       spec = pretty_spectrogram(valid_audio_files[i].astype('float64'), fft_size = fft_size, step_size = step_size, log = True, thresh = spec_thresh)\n",
    "#       if height!=112:\n",
    "#         spec = pad_dimesions(spec)\n",
    "#       valid_spec.append(spec)\n",
    "\n",
    "#     # test\n",
    "#     test_filepaths = [i[2] for i in test_dl]\n",
    "#     test_audio_files = [wavfile.read(i)[1] for i in test_filepaths]\n",
    "#     test_labels = [i[0] for i in valset_dl]\n",
    "\n",
    "#     test_spec = []\n",
    "#     for i in range(len(test_audio_files)):\n",
    "#       spec = pretty_spectrogram(test_audio_files[i].astype('float64'), fft_size = fft_size, step_size = step_size, log = True, thresh = spec_thresh)\n",
    "#       if height!=112:\n",
    "#         spec = pad_dimesions(spec)\n",
    "#       test_spec.append(spec)"
   ]
  },
  {
   "cell_type": "code",
   "execution_count": 7,
   "metadata": {
    "colab": {},
    "colab_type": "code",
    "id": "WCzvFAM1rW6x"
   },
   "outputs": [],
   "source": [
    "# from utils import get_mean_std\n",
    "#mean, std = get_mean_std(train_data_loader)\n",
    "\n",
    "mean=-3.1259581955996425\n",
    "std=0.8961027914827521\n",
    "batch_size=32\n",
    "num_workers=8\n",
    "data_train_sub = CustomDatasetSimple(train_filepaths, train_labels, mean, std)\n",
    "data_valid_sub = CustomDatasetSimple(valid_filepaths, val_labels, mean, std)\n",
    "\n",
    "train_data_loader = torch.utils.data.DataLoader(\n",
    "    dataset=data_train_sub, batch_size=batch_size, shuffle=True,\n",
    "    num_workers=num_workers)\n",
    "\n",
    "valid_data_loader = torch.utils.data.DataLoader(\n",
    "    dataset=data_valid_sub, batch_size=batch_size, shuffle=True,\n",
    "    num_workers=num_workers)\n"
   ]
  },
  {
   "cell_type": "code",
   "execution_count": null,
   "metadata": {},
   "outputs": [],
   "source": [
    "MODELNAME = 'full_dataset_normal'\n",
    "LOGFILE_PATH = 'logs/' + MODELNAME\n",
    "\n",
    "model = resnet34(pretrained=False, progress=False).cuda()\n",
    "\n",
    "criterion = torch.nn.CrossEntropyLoss()\n",
    "\n",
    "for param in model.parameters():\n",
    "  param.requires_grad = True\n",
    "\n",
    "trainer_pgd = BaseTrainer(model=model, \n",
    "                      train_dl=train_data_loader, \n",
    "                      valid_dl=valid_data_loader, \n",
    "                      criterion=criterion, \n",
    "                      model_filename=MODELNAME, \n",
    "                      n_epochs=3)\n",
    "\n",
    "trainer_pgd.fit_model_new(optimizer=optim.Adam(model.parameters(), lr=.001), \n",
    "                      n_epochs=1, \n",
    "                      LOGFILE_PATH=LOGFILE_PATH,\n",
    "                      model_filename=MODELNAME, \n",
    "                      attack=None, \n",
    "                      epsilon=0.3, \n",
    "                      alpha=alpha, \n",
    "                      num_iter=7)"
   ]
  },
  {
   "cell_type": "code",
   "execution_count": null,
   "metadata": {},
   "outputs": [],
   "source": [
    "MODELNAME = 'full_dataset_fgsm03'\n",
    "LOGFILE_PATH = 'logs/' + MODELNAME\n",
    "\n",
    "model = resnet34(pretrained=False, progress=False).cuda()\n",
    "\n",
    "criterion = torch.nn.CrossEntropyLoss()\n",
    "\n",
    "for param in model.parameters():\n",
    "  param.requires_grad = True\n",
    "\n",
    "trainer_pgd = BaseTrainer(model=model, \n",
    "                      train_dl=train_data_loader, \n",
    "                      valid_dl=valid_data_loader, \n",
    "                      criterion=criterion, \n",
    "                      model_filename=MODELNAME, \n",
    "                      n_epochs=3)\n",
    "\n",
    "trainer_pgd.fit_model_new(optimizer=optim.Adam(model.parameters(), lr=.001), \n",
    "                      n_epochs=1, \n",
    "                      LOGFILE_PATH=LOGFILE_PATH,\n",
    "                      model_filename=MODELNAME, \n",
    "                      attack=None, \n",
    "                      epsilon=0.3, \n",
    "                      alpha=None, \n",
    "                      num_iter=None)"
   ]
  },
  {
   "cell_type": "code",
   "execution_count": null,
   "metadata": {},
   "outputs": [],
   "source": [
    "MODELNAME = 'full_dataset_fgsm20'\n",
    "LOGFILE_PATH = 'logs/' + MODELNAME\n",
    "\n",
    "model = resnet34(pretrained=False, progress=False).cuda()\n",
    "\n",
    "criterion = torch.nn.CrossEntropyLoss()\n",
    "\n",
    "for param in model.parameters():\n",
    "  param.requires_grad = True\n",
    "\n",
    "trainer_pgd = BaseTrainer(model=model, \n",
    "                      train_dl=train_data_loader, \n",
    "                      valid_dl=valid_data_loader, \n",
    "                      criterion=criterion, \n",
    "                      model_filename=MODELNAME, \n",
    "                      n_epochs=3)\n",
    "\n",
    "trainer_pgd.fit_model_new(optimizer=optim.Adam(model.parameters(), lr=.001), \n",
    "                      n_epochs=1, \n",
    "                      LOGFILE_PATH=LOGFILE_PATH,\n",
    "                      model_filename=MODELNAME, \n",
    "                      attack=None, \n",
    "                      epsilon=2.0, \n",
    "                      alpha=None, \n",
    "                      num_iter=None)"
   ]
  },
  {
   "cell_type": "code",
   "execution_count": null,
   "metadata": {},
   "outputs": [],
   "source": [
    "MODELNAME = 'full_dataset_pdg03'\n",
    "LOGFILE_PATH = 'logs/' + MODELNAME\n",
    "\n",
    "model = resnet34(pretrained=False, progress=False).cuda()\n",
    "\n",
    "criterion = torch.nn.CrossEntropyLoss()\n",
    "\n",
    "for param in model.parameters():\n",
    "  param.requires_grad = True\n",
    "\n",
    "trainer_pgd = BaseTrainer(model=model, \n",
    "                      train_dl=train_data_loader, \n",
    "                      valid_dl=valid_data_loader, \n",
    "                      criterion=criterion, \n",
    "                      model_filename=MODELNAME, \n",
    "                      n_epochs=3)\n",
    "\n",
    "trainer_pgd.fit_model_new(optimizer=optim.Adam(model.parameters(), lr=.001), \n",
    "                      n_epochs=1, \n",
    "                      LOGFILE_PATH=LOGFILE_PATH,\n",
    "                      model_filename=MODELNAME, \n",
    "                      attack=pgd_linf, \n",
    "                      epsilon=0.3, \n",
    "                      alpha=0.01, \n",
    "                      num_iter=7)"
   ]
  },
  {
   "cell_type": "code",
   "execution_count": 18,
   "metadata": {},
   "outputs": [],
   "source": [
    "normalTrain1 = load_model('saved/normalTrain1')\n",
    "full_dataset_fgsm03 = load_model('saved/full_dataset_fgsm03')\n",
    "full_dataset_fgsm20 = load_model('saved/full_dataset_fgsm20')\n",
    "full_dataset_pdg03 = load_model('saved/full_dataset_pdg03')\n",
    "full_dataset_normal = load_model('saved/full_dataset_normal')"
   ]
  },
  {
   "cell_type": "markdown",
   "metadata": {},
   "source": [
    "### No attacks"
   ]
  },
  {
   "cell_type": "code",
   "execution_count": 32,
   "metadata": {},
   "outputs": [
    {
     "name": "stdout",
     "output_type": "stream",
     "text": [
      "20\n",
      "[epoch: 1, batch:     21] loss: 0.00817 time model: 0.00666 acc: 0.92344\n",
      "40\n",
      "[epoch: 1, batch:     41] loss: 0.00740 time model: 0.00658 acc: 0.92344\n",
      "60\n",
      "[epoch: 1, batch:     61] loss: 0.00727 time model: 0.00656 acc: 0.92500\n",
      "80\n",
      "[epoch: 1, batch:     81] loss: 0.00714 time model: 0.00654 acc: 0.92500\n"
     ]
    }
   ],
   "source": [
    "criterion = torch.nn.CrossEntropyLoss()\n",
    "\n",
    "LOGFILE_PATH = 'logs/eval/full_dataset_normal'\n",
    "trainer_full_dataset_normal = BaseTrainer(model=full_dataset_normal, \n",
    "                                   train_dl=train_data_loader, \n",
    "                                   valid_dl=valid_data_loader, \n",
    "                                   test_dl=valid_data_loader, \n",
    "                                   criterion=criterion, \n",
    "                                   model_filename='eval_full_dataset_normal', \n",
    "                                   n_epochs=1)\n",
    "\n",
    "trainer_full_dataset_normal.model.eval()\n",
    "trainer_full_dataset_normal = trainer_full_dataset_normal.run_epoch(0, valid_data_loader, \n",
    "                                                      optimizer=None, \n",
    "                                                      attack=None)"
   ]
  },
  {
   "cell_type": "code",
   "execution_count": 34,
   "metadata": {},
   "outputs": [
    {
     "name": "stdout",
     "output_type": "stream",
     "text": [
      "20\n",
      "[epoch: 1, batch:     21] loss: 0.01081 time model: 0.00661 acc: 0.89062\n",
      "40\n",
      "[epoch: 1, batch:     41] loss: 0.01098 time model: 0.00654 acc: 0.89219\n",
      "60\n",
      "[epoch: 1, batch:     61] loss: 0.01109 time model: 0.00652 acc: 0.88854\n",
      "80\n",
      "[epoch: 1, batch:     81] loss: 0.01108 time model: 0.00651 acc: 0.89023\n"
     ]
    }
   ],
   "source": [
    "LOGFILE_PATH = 'logs/eval/full_dataset_fgsm03'\n",
    "trainer_full_dataset_fgsm03 = BaseTrainer(model=full_dataset_fgsm03, \n",
    "                                   train_dl=train_data_loader, \n",
    "                                   valid_dl=valid_data_loader, \n",
    "                                   test_dl=valid_data_loader, \n",
    "                                   criterion=criterion, \n",
    "                                   model_filename='eval_full_dataset_fgsm03', \n",
    "                                   n_epochs=1)\n",
    "\n",
    "trainer_full_dataset_fgsm03.model.eval()\n",
    "trainer_full_dataset_fgsm03 = trainer_full_dataset_fgsm03.run_epoch(0, valid_data_loader, \n",
    "                                                      optimizer=None, \n",
    "                                                      attack=None)"
   ]
  },
  {
   "cell_type": "code",
   "execution_count": 35,
   "metadata": {},
   "outputs": [
    {
     "name": "stdout",
     "output_type": "stream",
     "text": [
      "20\n",
      "[epoch: 2, batch:     21] loss: 0.04389 time model: 0.00661 acc: 0.56406\n",
      "40\n",
      "[epoch: 2, batch:     41] loss: 0.04621 time model: 0.00654 acc: 0.54844\n",
      "60\n",
      "[epoch: 2, batch:     61] loss: 0.04587 time model: 0.00652 acc: 0.55573\n",
      "80\n",
      "[epoch: 2, batch:     81] loss: 0.04547 time model: 0.00650 acc: 0.55977\n"
     ]
    }
   ],
   "source": [
    "LOGFILE_PATH = 'logs/eval/full_dataset_fgsm20'\n",
    "trainer_full_dataset_fgsm20 = BaseTrainer(model=full_dataset_fgsm20, \n",
    "                                   train_dl=train_data_loader, \n",
    "                                   valid_dl=valid_data_loader, \n",
    "                                   test_dl=valid_data_loader, \n",
    "                                   criterion=criterion, \n",
    "                                   model_filename='eval_normalTrain1', \n",
    "                                   n_epochs=1)\n",
    "\n",
    "trainer_full_dataset_fgsm20.model.eval()\n",
    "trainer_full_dataset_fgsm20 = trainer_full_dataset_fgsm20.run_epoch(0, valid_data_loader, \n",
    "                                                      optimizer=None, \n",
    "                                                      attack=None)"
   ]
  },
  {
   "cell_type": "code",
   "execution_count": 36,
   "metadata": {},
   "outputs": [
    {
     "name": "stdout",
     "output_type": "stream",
     "text": [
      "20\n",
      "[epoch: 1, batch:     21] loss: 0.01020 time model: 0.00665 acc: 0.88906\n",
      "40\n",
      "[epoch: 1, batch:     41] loss: 0.00962 time model: 0.00656 acc: 0.89531\n",
      "60\n",
      "[epoch: 1, batch:     61] loss: 0.00995 time model: 0.00653 acc: 0.89740\n",
      "80\n",
      "[epoch: 1, batch:     81] loss: 0.00980 time model: 0.00651 acc: 0.89883\n"
     ]
    }
   ],
   "source": [
    "LOGFILE_PATH = 'logs/eval/full_dataset_pdg030'\n",
    "trainer_full_dataset_pdg03 = BaseTrainer(model=full_dataset_pdg03, \n",
    "                                   train_dl=train_data_loader, \n",
    "                                   valid_dl=valid_data_loader, \n",
    "                                   test_dl=valid_data_loader, \n",
    "                                   criterion=criterion, \n",
    "                                   model_filename='eval_normalTrain1', \n",
    "                                   n_epochs=1)\n",
    "\n",
    "trainer_full_dataset_pdg03.model.eval()\n",
    "trainer_full_full_dataset_pdg03 = trainer_full_dataset_pdg03.run_epoch(0, valid_data_loader, \n",
    "                                                      optimizer=None, \n",
    "                                                      attack=None)"
   ]
  },
  {
   "cell_type": "markdown",
   "metadata": {},
   "source": [
    "### Attack: FGSM"
   ]
  },
  {
   "cell_type": "code",
   "execution_count": 41,
   "metadata": {},
   "outputs": [
    {
     "name": "stdout",
     "output_type": "stream",
     "text": [
      "20\n",
      "[epoch: 1, batch:     21] loss: 0.28684 time model: 0.02669 acc: 0.02500\n",
      "40\n",
      "[epoch: 1, batch:     41] loss: 0.29466 time model: 0.02658 acc: 0.02656\n",
      "60\n",
      "[epoch: 1, batch:     61] loss: 0.29380 time model: 0.02656 acc: 0.02708\n",
      "80\n",
      "[epoch: 1, batch:     81] loss: 0.29359 time model: 0.02655 acc: 0.02383\n"
     ]
    }
   ],
   "source": [
    "LOGFILE_PATH = 'logs/eval/full_dataset_normal_fgsm'\n",
    "trainer_full_dataset_normal = BaseTrainer(model=full_dataset_normal, \n",
    "                                   train_dl=train_data_loader, \n",
    "                                   valid_dl=valid_data_loader, \n",
    "                                   test_dl=valid_data_loader, \n",
    "                                   criterion=criterion, \n",
    "                                   model_filename='eval_full_dataset_normal_fgsm', \n",
    "                                   n_epochs=1)\n",
    "\n",
    "trainer_full_dataset_normal.model.eval()\n",
    "trainer_full_dataset_normal = trainer_full_dataset_normal.run_epoch(0, valid_data_loader, \n",
    "                                                      optimizer=None, \n",
    "                                                      attack=fgsm)"
   ]
  },
  {
   "cell_type": "code",
   "execution_count": 44,
   "metadata": {},
   "outputs": [
    {
     "name": "stdout",
     "output_type": "stream",
     "text": [
      "20\n",
      "[epoch: 1, batch:     21] loss: 0.25050 time model: 0.14552 acc: 0.03906\n",
      "40\n",
      "[epoch: 1, batch:     41] loss: 0.24649 time model: 0.14537 acc: 0.04922\n",
      "60\n",
      "[epoch: 1, batch:     61] loss: 0.24717 time model: 0.14549 acc: 0.05260\n",
      "80\n",
      "[epoch: 1, batch:     81] loss: 0.25027 time model: 0.14559 acc: 0.05273\n"
     ]
    }
   ],
   "source": [
    "LOGFILE_PATH = 'logs/eval/full_dataset_normal_pgd'\n",
    "trainer_full_dataset_normal = BaseTrainer(model=full_dataset_normal, \n",
    "                                   train_dl=train_data_loader, \n",
    "                                   valid_dl=valid_data_loader, \n",
    "                                   test_dl=valid_data_loader, \n",
    "                                   criterion=criterion, \n",
    "                                   model_filename='eval_full_dataset_normal_fgsm', \n",
    "                                   n_epochs=1)\n",
    "\n",
    "trainer_full_dataset_normal.model.eval()\n",
    "trainer_full_dataset_normal = trainer_full_dataset_normal.run_epoch(0, valid_data_loader, \n",
    "                                                      optimizer=None, \n",
    "                                                      attack=pgd_linf)"
   ]
  },
  {
   "cell_type": "code",
   "execution_count": 45,
   "metadata": {},
   "outputs": [
    {
     "name": "stdout",
     "output_type": "stream",
     "text": [
      "20\n",
      "[epoch: 1, batch:     21] loss: 0.00736 time model: 0.02667 acc: 0.92500\n",
      "40\n",
      "[epoch: 1, batch:     41] loss: 0.00708 time model: 0.02657 acc: 0.93359\n",
      "60\n",
      "[epoch: 1, batch:     61] loss: 0.00720 time model: 0.02655 acc: 0.93281\n",
      "80\n",
      "[epoch: 1, batch:     81] loss: 0.00730 time model: 0.02653 acc: 0.93359\n"
     ]
    }
   ],
   "source": [
    "LOGFILE_PATH = 'logs/eval/full_dataset_fgsm03_fgsm_a'\n",
    "trainer_full_dataset_fgsm03 = BaseTrainer(model=full_dataset_fgsm03, \n",
    "                                   train_dl=train_data_loader, \n",
    "                                   valid_dl=valid_data_loader, \n",
    "                                   test_dl=valid_data_loader, \n",
    "                                   criterion=criterion, \n",
    "                                   model_filename='eval_full_dataset_fgsm03_fgsm', \n",
    "                                   n_epochs=1)\n",
    "\n",
    "trainer_full_dataset_fgsm03.model.eval()\n",
    "trainer_full_dataset_fgsm03 = trainer_full_dataset_fgsm03.run_epoch(0, valid_data_loader, \n",
    "                                                      optimizer=None, \n",
    "                                                      attack=fgsm)"
   ]
  },
  {
   "cell_type": "code",
   "execution_count": 46,
   "metadata": {},
   "outputs": [
    {
     "name": "stdout",
     "output_type": "stream",
     "text": [
      "20\n",
      "[epoch: 1, batch:     21] loss: 0.21727 time model: 0.02634 acc: 0.02344\n",
      "40\n",
      "[epoch: 1, batch:     41] loss: 0.21897 time model: 0.02637 acc: 0.01875\n",
      "60\n",
      "[epoch: 1, batch:     61] loss: 0.21923 time model: 0.02638 acc: 0.01458\n",
      "80\n",
      "[epoch: 1, batch:     81] loss: 0.21898 time model: 0.02639 acc: 0.01328\n"
     ]
    }
   ],
   "source": [
    "LOGFILE_PATH = 'logs/eval/full_dataset_fgsm20_fgsm_a'\n",
    "trainer_full_dataset_fgsm20 = BaseTrainer(model=full_dataset_fgsm20, \n",
    "                                   train_dl=train_data_loader, \n",
    "                                   valid_dl=valid_data_loader, \n",
    "                                   test_dl=valid_data_loader, \n",
    "                                   criterion=criterion, \n",
    "                                   model_filename='eval_full_dataset_fgsm20_fgsm', \n",
    "                                   n_epochs=1)\n",
    "\n",
    "trainer_full_dataset_fgsm20.model.eval()\n",
    "trainer_full_dataset_fgsm20 = trainer_full_dataset_fgsm20.run_epoch(0, valid_data_loader, \n",
    "                                                      optimizer=None, \n",
    "                                                      attack=fgsm)"
   ]
  },
  {
   "cell_type": "code",
   "execution_count": 22,
   "metadata": {},
   "outputs": [
    {
     "name": "stdout",
     "output_type": "stream",
     "text": [
      "20\n",
      "[epoch: 1, batch:     21] loss: 0.11575 time model: 0.02652 acc: 0.12656\n",
      "40\n",
      "[epoch: 1, batch:     41] loss: 0.11749 time model: 0.02652 acc: 0.10859\n",
      "60\n",
      "[epoch: 1, batch:     61] loss: 0.12037 time model: 0.02654 acc: 0.09688\n",
      "80\n",
      "[epoch: 1, batch:     81] loss: 0.12010 time model: 0.02655 acc: 0.09375\n"
     ]
    }
   ],
   "source": [
    "LOGFILE_PATH = 'logs/eval/full_dataset_pdg030_fgsm'\n",
    "trainer_full_dataset_pdg03 = BaseTrainer(model=full_dataset_pdg03, \n",
    "                                   train_dl=train_data_loader, \n",
    "                                   valid_dl=valid_data_loader, \n",
    "                                   test_dl=valid_data_loader, \n",
    "                                   criterion=criterion, \n",
    "                                   model_filename='full_dataset_pdg030_fgsm', \n",
    "                                   n_epochs=1)\n",
    "\n",
    "trainer_full_dataset_pdg03.model.eval()\n",
    "trainer_full_full_dataset_pdg03 = trainer_full_dataset_pdg03.run_epoch(0, valid_data_loader, \n",
    "                                                      optimizer=None, \n",
    "                                                      attack=fgsm)"
   ]
  },
  {
   "cell_type": "markdown",
   "metadata": {},
   "source": [
    "### Attack PDG_03\n"
   ]
  },
  {
   "cell_type": "code",
   "execution_count": 48,
   "metadata": {},
   "outputs": [],
   "source": [
    "global_eps = 0.3\n",
    "\n",
    "def fgsm(model, X, y, epsilon=0.3):\n",
    "    \"\"\" Construct FGSM adversarial examples on the examples X\"\"\"\n",
    "    epsilon = global_eps\n",
    "    delta = torch.zeros_like(X, requires_grad=True)\n",
    "    delta = delta.cuda()\n",
    "    loss = nn.CrossEntropyLoss()(model(X + delta), y)\n",
    "    loss.backward()\n",
    "    return epsilon * delta.grad.detach().sign()\n",
    "\n",
    "\n",
    "def pgd_linf(model, X, y, epsilon=0.1, alpha=0.01, num_iter=7, randomize=False):\n",
    "    \"\"\" Construct PGD adversarial examples on the examples X\"\"\"\n",
    "    epsilon = global_eps\n",
    "    if randomize:\n",
    "        delta = torch.rand_like(X, requires_grad=True)\n",
    "        delta.data = delta.data * 2 * epsilon - epsilon\n",
    "    else:\n",
    "        delta = torch.zeros_like(X, requires_grad=True)\n",
    "        \n",
    "    for t in range(num_iter):\n",
    "        loss = nn.CrossEntropyLoss()(model(X + delta), y)\n",
    "        loss.backward()\n",
    "        delta.data = (delta + alpha*delta.grad.detach().sign()).clamp(-epsilon,epsilon)\n",
    "        delta.grad.zero_()\n",
    "    return delta.detach()"
   ]
  },
  {
   "cell_type": "code",
   "execution_count": 50,
   "metadata": {
    "collapsed": true
   },
   "outputs": [
    {
     "name": "stderr",
     "output_type": "stream",
     "text": [
      "Traceback (most recent call last):\n",
      "Traceback (most recent call last):\n",
      "  File \"/opt/anaconda3/lib/python3.7/multiprocessing/queues.py\", line 242, in _feed\n",
      "    send_bytes(obj)\n",
      "  File \"/opt/anaconda3/lib/python3.7/multiprocessing/connection.py\", line 200, in send_bytes\n",
      "    self._send_bytes(m[offset:offset + size])\n",
      "  File \"/opt/anaconda3/lib/python3.7/multiprocessing/connection.py\", line 404, in _send_bytes\n",
      "    self._send(header + buf)\n",
      "  File \"/opt/anaconda3/lib/python3.7/multiprocessing/connection.py\", line 368, in _send\n",
      "    n = write(self._handle, buf)\n",
      "BrokenPipeError: [Errno 32] Broken pipe\n",
      "  File \"/opt/anaconda3/lib/python3.7/multiprocessing/queues.py\", line 242, in _feed\n",
      "    send_bytes(obj)\n",
      "  File \"/opt/anaconda3/lib/python3.7/multiprocessing/connection.py\", line 200, in send_bytes\n",
      "    self._send_bytes(m[offset:offset + size])\n",
      "  File \"/opt/anaconda3/lib/python3.7/multiprocessing/connection.py\", line 404, in _send_bytes\n",
      "    self._send(header + buf)\n",
      "  File \"/opt/anaconda3/lib/python3.7/multiprocessing/connection.py\", line 368, in _send\n",
      "    n = write(self._handle, buf)\n",
      "BrokenPipeError: [Errno 32] Broken pipe\n"
     ]
    },
    {
     "ename": "KeyboardInterrupt",
     "evalue": "",
     "output_type": "error",
     "traceback": [
      "\u001b[0;31m---------------------------------------------------------------------------\u001b[0m",
      "\u001b[0;31mKeyboardInterrupt\u001b[0m                         Traceback (most recent call last)",
      "\u001b[0;32m<ipython-input-50-eb342eaa6f1e>\u001b[0m in \u001b[0;36m<module>\u001b[0;34m\u001b[0m\n\u001b[1;32m     11\u001b[0m trainer_full_dataset_normal = trainer_full_dataset_normal.run_epoch(0, valid_data_loader, \n\u001b[1;32m     12\u001b[0m                                                       \u001b[0moptimizer\u001b[0m\u001b[0;34m=\u001b[0m\u001b[0;32mNone\u001b[0m\u001b[0;34m,\u001b[0m\u001b[0;34m\u001b[0m\u001b[0;34m\u001b[0m\u001b[0m\n\u001b[0;32m---> 13\u001b[0;31m                                                       attack=pgd_linf)\n\u001b[0m",
      "\u001b[0;32m<ipython-input-40-f6bac94ef4e7>\u001b[0m in \u001b[0;36mrun_epoch\u001b[0;34m(self, epoch, loader, optimizer, attack)\u001b[0m\n\u001b[1;32m     46\u001b[0m           \u001b[0moptimizer\u001b[0m\u001b[0;34m.\u001b[0m\u001b[0mzero_grad\u001b[0m\u001b[0;34m(\u001b[0m\u001b[0;34m)\u001b[0m\u001b[0;34m\u001b[0m\u001b[0;34m\u001b[0m\u001b[0m\n\u001b[1;32m     47\u001b[0m         \u001b[0;32mif\u001b[0m \u001b[0mattack\u001b[0m\u001b[0;34m!=\u001b[0m\u001b[0;32mNone\u001b[0m\u001b[0;34m:\u001b[0m\u001b[0;34m\u001b[0m\u001b[0;34m\u001b[0m\u001b[0m\n\u001b[0;32m---> 48\u001b[0;31m           \u001b[0mdelta\u001b[0m \u001b[0;34m=\u001b[0m \u001b[0mattack\u001b[0m\u001b[0;34m(\u001b[0m\u001b[0mself\u001b[0m\u001b[0;34m.\u001b[0m\u001b[0mmodel\u001b[0m\u001b[0;34m,\u001b[0m \u001b[0mX\u001b[0m\u001b[0;34m,\u001b[0m \u001b[0my_true\u001b[0m\u001b[0;34m)\u001b[0m\u001b[0;34m\u001b[0m\u001b[0;34m\u001b[0m\u001b[0m\n\u001b[0m\u001b[1;32m     49\u001b[0m           \u001b[0mdelta\u001b[0m \u001b[0;34m=\u001b[0m \u001b[0mdelta\u001b[0m\u001b[0;34m.\u001b[0m\u001b[0mcuda\u001b[0m\u001b[0;34m(\u001b[0m\u001b[0;34m)\u001b[0m\u001b[0;34m\u001b[0m\u001b[0;34m\u001b[0m\u001b[0m\n\u001b[1;32m     50\u001b[0m           \u001b[0my_pred\u001b[0m \u001b[0;34m=\u001b[0m \u001b[0mself\u001b[0m\u001b[0;34m.\u001b[0m\u001b[0mmodel\u001b[0m\u001b[0;34m(\u001b[0m\u001b[0mX\u001b[0m \u001b[0;34m+\u001b[0m \u001b[0mdelta\u001b[0m\u001b[0;34m)\u001b[0m\u001b[0;34m\u001b[0m\u001b[0;34m\u001b[0m\u001b[0m\n",
      "\u001b[0;32m<ipython-input-48-bfcd93717572>\u001b[0m in \u001b[0;36mpgd_linf\u001b[0;34m(model, X, y, epsilon, alpha, num_iter, randomize)\u001b[0m\n\u001b[1;32m     22\u001b[0m     \u001b[0;32mfor\u001b[0m \u001b[0mt\u001b[0m \u001b[0;32min\u001b[0m \u001b[0mrange\u001b[0m\u001b[0;34m(\u001b[0m\u001b[0mnum_iter\u001b[0m\u001b[0;34m)\u001b[0m\u001b[0;34m:\u001b[0m\u001b[0;34m\u001b[0m\u001b[0;34m\u001b[0m\u001b[0m\n\u001b[1;32m     23\u001b[0m         \u001b[0mloss\u001b[0m \u001b[0;34m=\u001b[0m \u001b[0mnn\u001b[0m\u001b[0;34m.\u001b[0m\u001b[0mCrossEntropyLoss\u001b[0m\u001b[0;34m(\u001b[0m\u001b[0;34m)\u001b[0m\u001b[0;34m(\u001b[0m\u001b[0mmodel\u001b[0m\u001b[0;34m(\u001b[0m\u001b[0mX\u001b[0m \u001b[0;34m+\u001b[0m \u001b[0mdelta\u001b[0m\u001b[0;34m)\u001b[0m\u001b[0;34m,\u001b[0m \u001b[0my\u001b[0m\u001b[0;34m)\u001b[0m\u001b[0;34m\u001b[0m\u001b[0;34m\u001b[0m\u001b[0m\n\u001b[0;32m---> 24\u001b[0;31m         \u001b[0mloss\u001b[0m\u001b[0;34m.\u001b[0m\u001b[0mbackward\u001b[0m\u001b[0;34m(\u001b[0m\u001b[0;34m)\u001b[0m\u001b[0;34m\u001b[0m\u001b[0;34m\u001b[0m\u001b[0m\n\u001b[0m\u001b[1;32m     25\u001b[0m         \u001b[0mdelta\u001b[0m\u001b[0;34m.\u001b[0m\u001b[0mdata\u001b[0m \u001b[0;34m=\u001b[0m \u001b[0;34m(\u001b[0m\u001b[0mdelta\u001b[0m \u001b[0;34m+\u001b[0m \u001b[0malpha\u001b[0m\u001b[0;34m*\u001b[0m\u001b[0mdelta\u001b[0m\u001b[0;34m.\u001b[0m\u001b[0mgrad\u001b[0m\u001b[0;34m.\u001b[0m\u001b[0mdetach\u001b[0m\u001b[0;34m(\u001b[0m\u001b[0;34m)\u001b[0m\u001b[0;34m.\u001b[0m\u001b[0msign\u001b[0m\u001b[0;34m(\u001b[0m\u001b[0;34m)\u001b[0m\u001b[0;34m)\u001b[0m\u001b[0;34m.\u001b[0m\u001b[0mclamp\u001b[0m\u001b[0;34m(\u001b[0m\u001b[0;34m-\u001b[0m\u001b[0mepsilon\u001b[0m\u001b[0;34m,\u001b[0m\u001b[0mepsilon\u001b[0m\u001b[0;34m)\u001b[0m\u001b[0;34m\u001b[0m\u001b[0;34m\u001b[0m\u001b[0m\n\u001b[1;32m     26\u001b[0m         \u001b[0mdelta\u001b[0m\u001b[0;34m.\u001b[0m\u001b[0mgrad\u001b[0m\u001b[0;34m.\u001b[0m\u001b[0mzero_\u001b[0m\u001b[0;34m(\u001b[0m\u001b[0;34m)\u001b[0m\u001b[0;34m\u001b[0m\u001b[0;34m\u001b[0m\u001b[0m\n",
      "\u001b[0;32m/opt/anaconda3/lib/python3.7/site-packages/torch/tensor.py\u001b[0m in \u001b[0;36mbackward\u001b[0;34m(self, gradient, retain_graph, create_graph)\u001b[0m\n\u001b[1;32m    116\u001b[0m                 \u001b[0mproducts\u001b[0m\u001b[0;34m.\u001b[0m \u001b[0mDefaults\u001b[0m \u001b[0mto\u001b[0m\u001b[0;31m \u001b[0m\u001b[0;31m`\u001b[0m\u001b[0;31m`\u001b[0m\u001b[0;32mFalse\u001b[0m\u001b[0;31m`\u001b[0m\u001b[0;31m`\u001b[0m\u001b[0;34m.\u001b[0m\u001b[0;34m\u001b[0m\u001b[0;34m\u001b[0m\u001b[0m\n\u001b[1;32m    117\u001b[0m         \"\"\"\n\u001b[0;32m--> 118\u001b[0;31m         \u001b[0mtorch\u001b[0m\u001b[0;34m.\u001b[0m\u001b[0mautograd\u001b[0m\u001b[0;34m.\u001b[0m\u001b[0mbackward\u001b[0m\u001b[0;34m(\u001b[0m\u001b[0mself\u001b[0m\u001b[0;34m,\u001b[0m \u001b[0mgradient\u001b[0m\u001b[0;34m,\u001b[0m \u001b[0mretain_graph\u001b[0m\u001b[0;34m,\u001b[0m \u001b[0mcreate_graph\u001b[0m\u001b[0;34m)\u001b[0m\u001b[0;34m\u001b[0m\u001b[0;34m\u001b[0m\u001b[0m\n\u001b[0m\u001b[1;32m    119\u001b[0m \u001b[0;34m\u001b[0m\u001b[0m\n\u001b[1;32m    120\u001b[0m     \u001b[0;32mdef\u001b[0m \u001b[0mregister_hook\u001b[0m\u001b[0;34m(\u001b[0m\u001b[0mself\u001b[0m\u001b[0;34m,\u001b[0m \u001b[0mhook\u001b[0m\u001b[0;34m)\u001b[0m\u001b[0;34m:\u001b[0m\u001b[0;34m\u001b[0m\u001b[0;34m\u001b[0m\u001b[0m\n",
      "\u001b[0;32m/opt/anaconda3/lib/python3.7/site-packages/torch/autograd/__init__.py\u001b[0m in \u001b[0;36mbackward\u001b[0;34m(tensors, grad_tensors, retain_graph, create_graph, grad_variables)\u001b[0m\n\u001b[1;32m     91\u001b[0m     Variable._execution_engine.run_backward(\n\u001b[1;32m     92\u001b[0m         \u001b[0mtensors\u001b[0m\u001b[0;34m,\u001b[0m \u001b[0mgrad_tensors\u001b[0m\u001b[0;34m,\u001b[0m \u001b[0mretain_graph\u001b[0m\u001b[0;34m,\u001b[0m \u001b[0mcreate_graph\u001b[0m\u001b[0;34m,\u001b[0m\u001b[0;34m\u001b[0m\u001b[0;34m\u001b[0m\u001b[0m\n\u001b[0;32m---> 93\u001b[0;31m         allow_unreachable=True)  # allow_unreachable flag\n\u001b[0m\u001b[1;32m     94\u001b[0m \u001b[0;34m\u001b[0m\u001b[0m\n\u001b[1;32m     95\u001b[0m \u001b[0;34m\u001b[0m\u001b[0m\n",
      "\u001b[0;31mKeyboardInterrupt\u001b[0m: "
     ]
    }
   ],
   "source": [
    "LOGFILE_PATH = 'logs/eval/full_dataset_normal_pgd'\n",
    "trainer_full_dataset_normal = BaseTrainer(model=full_dataset_normal, \n",
    "                                   train_dl=train_data_loader, \n",
    "                                   valid_dl=valid_data_loader, \n",
    "                                   test_dl=valid_data_loader, \n",
    "                                   criterion=criterion, \n",
    "                                   model_filename='eval_full_dataset_normal_pdg', \n",
    "                                   n_epochs=1)\n",
    "\n",
    "trainer_full_dataset_normal.model.eval()\n",
    "trainer_full_dataset_normal = trainer_full_dataset_normal.run_epoch(0, valid_data_loader, \n",
    "                                                      optimizer=None, \n",
    "                                                      attack=pgd_linf)"
   ]
  },
  {
   "cell_type": "code",
   "execution_count": 20,
   "metadata": {},
   "outputs": [
    {
     "name": "stdout",
     "output_type": "stream",
     "text": [
      "20\n",
      "[epoch: 1, batch:     21] loss: 0.35759 time model: 0.15166 acc: 0.02656\n",
      "40\n",
      "[epoch: 1, batch:     41] loss: 0.35994 time model: 0.14841 acc: 0.01875\n",
      "60\n",
      "[epoch: 1, batch:     61] loss: 0.36105 time model: 0.14732 acc: 0.01771\n",
      "80\n",
      "[epoch: 1, batch:     81] loss: 0.36105 time model: 0.14679 acc: 0.01836\n"
     ]
    }
   ],
   "source": [
    "LOGFILE_PATH = 'logs/eval/full_dataset_fgsm03_pgd_a'\n",
    "trainer_full_dataset_fgsm03 = BaseTrainer(model=full_dataset_fgsm03, \n",
    "                                   train_dl=train_data_loader, \n",
    "                                   valid_dl=valid_data_loader, \n",
    "                                   test_dl=valid_data_loader, \n",
    "                                   criterion=criterion, \n",
    "                                   model_filename='eval_full_dataset_fgsm03_pgd', \n",
    "                                   n_epochs=1)\n",
    "\n",
    "trainer_full_dataset_fgsm03.model.eval()\n",
    "trainer_full_dataset_fgsm03 = trainer_full_dataset_fgsm03.run_epoch(0, valid_data_loader, \n",
    "                                                      optimizer=None, \n",
    "                                                      attack=pgd_linf)"
   ]
  },
  {
   "cell_type": "code",
   "execution_count": 21,
   "metadata": {},
   "outputs": [
    {
     "name": "stdout",
     "output_type": "stream",
     "text": [
      "20\n",
      "[epoch: 1, batch:     21] loss: 0.18556 time model: 0.14512 acc: 0.02969\n",
      "40\n",
      "[epoch: 1, batch:     41] loss: 0.18164 time model: 0.14515 acc: 0.03672\n",
      "80\n",
      "[epoch: 1, batch:     81] loss: 0.18309 time model: 0.14530 acc: 0.03516\n"
     ]
    }
   ],
   "source": [
    "LOGFILE_PATH = 'logs/eval/full_dataset_fgsm20_pgd_a'\n",
    "trainer_full_dataset_fgsm20 = BaseTrainer(model=full_dataset_fgsm20, \n",
    "                                   train_dl=train_data_loader, \n",
    "                                   valid_dl=valid_data_loader, \n",
    "                                   test_dl=valid_data_loader, \n",
    "                                   criterion=criterion, \n",
    "                                   model_filename='eval_full_dataset_fgsm20_pgd', \n",
    "                                   n_epochs=1)\n",
    "\n",
    "trainer_full_dataset_fgsm20.model.eval()\n",
    "trainer_full_dataset_fgsm20 = trainer_full_dataset_fgsm20.run_epoch(0, valid_data_loader, \n",
    "                                                      optimizer=None, \n",
    "                                                      attack=pgd_linf)"
   ]
  },
  {
   "cell_type": "code",
   "execution_count": 23,
   "metadata": {},
   "outputs": [
    {
     "name": "stdout",
     "output_type": "stream",
     "text": [
      "20\n",
      "[epoch: 1, batch:     21] loss: 0.02575 time model: 0.14571 acc: 0.70312\n",
      "40\n",
      "[epoch: 1, batch:     41] loss: 0.02659 time model: 0.14564 acc: 0.68594\n",
      "60\n",
      "[epoch: 1, batch:     61] loss: 0.02633 time model: 0.14561 acc: 0.68802\n",
      "80\n",
      "[epoch: 1, batch:     81] loss: 0.02566 time model: 0.14552 acc: 0.69688\n"
     ]
    }
   ],
   "source": [
    "LOGFILE_PATH = 'logs/eval/full_dataset_pdg030_pgd'\n",
    "trainer_full_dataset_pdg03 = BaseTrainer(model=full_dataset_pdg03, \n",
    "                                   train_dl=train_data_loader, \n",
    "                                   valid_dl=valid_data_loader, \n",
    "                                   test_dl=valid_data_loader, \n",
    "                                   criterion=criterion, \n",
    "                                   model_filename='full_dataset_pdg030_pgd', \n",
    "                                   n_epochs=1)\n",
    "\n",
    "trainer_full_dataset_pdg03.model.eval()\n",
    "trainer_full_full_dataset_pdg03 = trainer_full_dataset_pdg03.run_epoch(0, valid_data_loader, \n",
    "                                                      optimizer=None, \n",
    "                                                      attack=pgd_linf)"
   ]
  },
  {
   "cell_type": "code",
   "execution_count": null,
   "metadata": {},
   "outputs": [],
   "source": []
  }
 ],
 "metadata": {
  "accelerator": "GPU",
  "colab": {
   "collapsed_sections": [],
   "name": "audio_training.ipynb",
   "provenance": [],
   "toc_visible": true
  },
  "kernelspec": {
   "display_name": "Python 3",
   "language": "python",
   "name": "python3"
  },
  "language_info": {
   "codemirror_mode": {
    "name": "ipython",
    "version": 3
   },
   "file_extension": ".py",
   "mimetype": "text/x-python",
   "name": "python",
   "nbconvert_exporter": "python",
   "pygments_lexer": "ipython3",
   "version": "3.7.4"
  }
 },
 "nbformat": 4,
 "nbformat_minor": 1
}
