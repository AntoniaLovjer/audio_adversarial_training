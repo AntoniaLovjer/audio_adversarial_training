{
 "cells": [
  {
   "cell_type": "code",
   "execution_count": 1,
   "metadata": {
    "papermill": {
     "duration": 0.041819,
     "end_time": "2019-11-05T03:34:52.974414",
     "exception": false,
     "start_time": "2019-11-05T03:34:52.932595",
     "status": "completed"
    },
    "tags": []
   },
   "outputs": [],
   "source": [
    "%load_ext autoreload\n",
    "%autoreload 2"
   ]
  },
  {
   "cell_type": "code",
   "execution_count": 2,
   "metadata": {
    "papermill": {
     "duration": 0.14648,
     "end_time": "2019-11-05T03:34:53.144453",
     "exception": false,
     "start_time": "2019-11-05T03:34:52.997973",
     "status": "completed"
    },
    "tags": []
   },
   "outputs": [
    {
     "name": "stdout",
     "output_type": "stream",
     "text": [
      "audio_training.ipynb\t     logs    __pycache__  utils.py\r\n",
      "audio_training_output.ipynb  models  saved\r\n"
     ]
    }
   ],
   "source": [
    "!ls"
   ]
  },
  {
   "cell_type": "markdown",
   "metadata": {
    "colab_type": "text",
    "id": "8pDrv-WQ2QVn",
    "papermill": {
     "duration": 0.023706,
     "end_time": "2019-11-05T03:34:53.192619",
     "exception": false,
     "start_time": "2019-11-05T03:34:53.168913",
     "status": "completed"
    },
    "tags": []
   },
   "source": [
    "## Extract data from zip file\n",
    "\n",
    "\n"
   ]
  },
  {
   "cell_type": "code",
   "execution_count": 3,
   "metadata": {
    "colab": {
     "base_uri": "https://localhost:8080/",
     "height": 102
    },
    "colab_type": "code",
    "executionInfo": {
     "elapsed": 4546,
     "status": "ok",
     "timestamp": 1572873608402,
     "user": {
      "displayName": "Antonia Lovjer",
      "photoUrl": "",
      "userId": "16395681258946800452"
     },
     "user_tz": 300
    },
    "id": "lAIamznNy8fo",
    "outputId": "7d5d965f-9b54-4384-a991-f6cc7236a6fa",
    "papermill": {
     "duration": 0.453914,
     "end_time": "2019-11-05T03:34:53.669884",
     "exception": false,
     "start_time": "2019-11-05T03:34:53.215970",
     "status": "completed"
    },
    "tags": []
   },
   "outputs": [
    {
     "name": "stdout",
     "output_type": "stream",
     "text": [
      "\r",
      "Reading package lists... 0%\r"
     ]
    },
    {
     "name": "stdout",
     "output_type": "stream",
     "text": [
      "\r",
      "Reading package lists... 100%\r",
      "\r",
      "Reading package lists... Done\r",
      "\r\n",
      "\r",
      "Building dependency tree... 0%\r",
      "\r",
      "Building dependency tree... 0%\r",
      "\r",
      "Building dependency tree... 50%\r",
      "\r",
      "Building dependency tree... 50%\r"
     ]
    },
    {
     "name": "stdout",
     "output_type": "stream",
     "text": [
      "\r",
      "Building dependency tree       \r",
      "\r\n",
      "\r",
      "Reading state information... 0%\r",
      "\r",
      "Reading state information... 0%\r",
      "\r",
      "Reading state information... Done\r",
      "\r\n"
     ]
    },
    {
     "name": "stdout",
     "output_type": "stream",
     "text": [
      "p7zip-full is already the newest version (16.02+dfsg-3+deb9u1).\r\n"
     ]
    },
    {
     "name": "stdout",
     "output_type": "stream",
     "text": [
      "0 upgraded, 0 newly installed, 0 to remove and 0 not upgraded.\r\n"
     ]
    }
   ],
   "source": [
    "# import package to unzip .7zip file\n",
    "!sudo apt-get install -y p7zip-full"
   ]
  },
  {
   "cell_type": "code",
   "execution_count": 4,
   "metadata": {
    "colab": {
     "base_uri": "https://localhost:8080/",
     "height": 428
    },
    "colab_type": "code",
    "executionInfo": {
     "elapsed": 113960,
     "status": "ok",
     "timestamp": 1572873725080,
     "user": {
      "displayName": "Antonia Lovjer",
      "photoUrl": "",
      "userId": "16395681258946800452"
     },
     "user_tz": 300
    },
    "id": "05cAj2gwyQ2k",
    "outputId": "4658aa78-5d58-4b21-c4fc-24f41f2b4031",
    "papermill": {
     "duration": 0.039935,
     "end_time": "2019-11-05T03:34:53.735828",
     "exception": false,
     "start_time": "2019-11-05T03:34:53.695893",
     "status": "completed"
    },
    "scrolled": true,
    "tags": []
   },
   "outputs": [],
   "source": [
    "# locally unzip the audio files in train.7z\n",
    "# !cd ../Data/ && p7zip -d train.7z"
   ]
  },
  {
   "cell_type": "code",
   "execution_count": 5,
   "metadata": {
    "papermill": {
     "duration": 0.038918,
     "end_time": "2019-11-05T03:34:53.800148",
     "exception": false,
     "start_time": "2019-11-05T03:34:53.761230",
     "status": "completed"
    },
    "tags": []
   },
   "outputs": [],
   "source": [
    "# !ls ../Data/train/audio"
   ]
  },
  {
   "cell_type": "markdown",
   "metadata": {
    "colab_type": "text",
    "id": "n4KBXX6szo28",
    "papermill": {
     "duration": 0.025,
     "end_time": "2019-11-05T03:34:53.850303",
     "exception": false,
     "start_time": "2019-11-05T03:34:53.825303",
     "status": "completed"
    },
    "tags": []
   },
   "source": [
    "## Imports"
   ]
  },
  {
   "cell_type": "code",
   "execution_count": 6,
   "metadata": {
    "colab": {},
    "colab_type": "code",
    "id": "14LKOMt0y3rX",
    "papermill": {
     "duration": 0.760536,
     "end_time": "2019-11-05T03:34:54.635484",
     "exception": false,
     "start_time": "2019-11-05T03:34:53.874948",
     "status": "completed"
    },
    "tags": []
   },
   "outputs": [],
   "source": [
    "%matplotlib inline\n",
    "\n",
    "import IPython.display\n",
    "import numpy as np\n",
    "import matplotlib.pyplot as plt\n",
    "import copy\n",
    "from scipy.io import wavfile\n",
    "from scipy.signal import butter, lfilter\n",
    "import scipy.ndimage\n",
    "from torch.utils.data import DataLoader\n",
    "\n",
    "from utils import log_textfile"
   ]
  },
  {
   "cell_type": "markdown",
   "metadata": {
    "papermill": {
     "duration": 0.02429,
     "end_time": "2019-11-05T03:34:54.685218",
     "exception": false,
     "start_time": "2019-11-05T03:34:54.660928",
     "status": "completed"
    },
    "tags": []
   },
   "source": [
    "## Log file"
   ]
  },
  {
   "cell_type": "code",
   "execution_count": 7,
   "metadata": {
    "papermill": {
     "duration": 0.048927,
     "end_time": "2019-11-05T03:34:54.758651",
     "exception": false,
     "start_time": "2019-11-05T03:34:54.709724",
     "status": "completed"
    },
    "tags": []
   },
   "outputs": [],
   "source": [
    "MODELNAME = 'normalTrain1'\n",
    "logfile = './logs/' + MODELNAME"
   ]
  },
  {
   "cell_type": "markdown",
   "metadata": {
    "colab_type": "text",
    "id": "Jpi0p5JP0n24",
    "papermill": {
     "duration": 0.024117,
     "end_time": "2019-11-05T03:34:54.807939",
     "exception": false,
     "start_time": "2019-11-05T03:34:54.783822",
     "status": "completed"
    },
    "tags": []
   },
   "source": [
    "## Data Loader"
   ]
  },
  {
   "cell_type": "code",
   "execution_count": 8,
   "metadata": {
    "colab": {
     "base_uri": "https://localhost:8080/",
     "height": 34
    },
    "colab_type": "code",
    "executionInfo": {
     "elapsed": 3511,
     "status": "ok",
     "timestamp": 1572873952952,
     "user": {
      "displayName": "Antonia Lovjer",
      "photoUrl": "",
      "userId": "16395681258946800452"
     },
     "user_tz": 300
    },
    "id": "61eZwZCm1iho",
    "outputId": "3a4508b2-719f-479b-a03e-2c4da2be0ed5",
    "papermill": {
     "duration": 0.462115,
     "end_time": "2019-11-05T03:34:55.293984",
     "exception": false,
     "start_time": "2019-11-05T03:34:54.831869",
     "status": "completed"
    },
    "tags": []
   },
   "outputs": [
    {
     "name": "stdout",
     "output_type": "stream",
     "text": [
      "There are 21105 train and 2577 val samples\n"
     ]
    }
   ],
   "source": [
    "DATADIR = '../Data/' # unzipped train and test data\n",
    "OUTDIR = './model-k' # just a random name\n",
    "# Data Loading\n",
    "import os\n",
    "import re\n",
    "from glob import glob\n",
    "\n",
    "LABELS = 'yes no up down left right on off stop go silence unknown'.split()\n",
    "id2name = {i: name for i, name in enumerate(LABELS)}\n",
    "name2id = {name: i for i, name in id2name.items()}\n",
    "\n",
    "def load_data(data_dir):\n",
    "    \"\"\" Return 2 lists of tuples:\n",
    "    [(class_id, user_id, path), ...] for train\n",
    "    [(class_id, user_id, path), ...] for validation\n",
    "    \"\"\"\n",
    "    # Just a simple regexp for paths with three groups:\n",
    "    # prefix, label, user_id\n",
    "    pattern = re.compile(\"(.+\\/)?(\\w+)\\/([^_]+)_.+wav\")\n",
    "    all_files = glob(os.path.join(data_dir, 'train/audio/*/*wav'))\n",
    "\n",
    "    with open(os.path.join(data_dir, 'train/validation_list.txt'), 'r') as fin:\n",
    "        validation_files = fin.readlines()\n",
    "    valset = set()\n",
    "    for entry in validation_files:\n",
    "        r = re.match(pattern, entry)\n",
    "        if r:\n",
    "            valset.add(r.group(3))\n",
    "\n",
    "    possible = set(LABELS)\n",
    "    train, val = [], []\n",
    "    for entry in all_files:\n",
    "        bl_true = True\n",
    "        r = re.match(pattern, entry)\n",
    "        if r:\n",
    "            label, uid = r.group(2), r.group(3)\n",
    "            if label == '_background_noise_':\n",
    "                label = 'silence'\n",
    "                bl_true = False\n",
    "            if label not in possible:\n",
    "                label = 'unknown'\n",
    "                bl_true = False\n",
    "            \n",
    "            if bl_true:\n",
    "                label_id = name2id[label]\n",
    "\n",
    "                sample = (label_id, uid, entry)\n",
    "                if uid in valset:\n",
    "                    val.append(sample)\n",
    "                else:\n",
    "                    train.append(sample)\n",
    "\n",
    "    print('There are {} train and {} val samples'.format(len(train), len(val)))\n",
    "    return train, val\n",
    "\n",
    "trainset, valset = load_data(DATADIR)"
   ]
  },
  {
   "cell_type": "markdown",
   "metadata": {
    "colab_type": "text",
    "id": "DnUYIUcKfwiI",
    "papermill": {
     "duration": 0.024682,
     "end_time": "2019-11-05T03:34:55.344523",
     "exception": false,
     "start_time": "2019-11-05T03:34:55.319841",
     "status": "completed"
    },
    "tags": []
   },
   "source": [
    "## Make Spectrogram"
   ]
  },
  {
   "cell_type": "code",
   "execution_count": 9,
   "metadata": {
    "colab": {},
    "colab_type": "code",
    "id": "0w66pVcNq698",
    "papermill": {
     "duration": 0.046229,
     "end_time": "2019-11-05T03:34:55.415662",
     "exception": false,
     "start_time": "2019-11-05T03:34:55.369433",
     "status": "completed"
    },
    "tags": []
   },
   "outputs": [],
   "source": [
    "### Parameters ###\n",
    "fft_size = 2048 # window size for the FFT\n",
    "step_size = fft_size/16 # distance to slide along the window (in time)\n",
    "spec_thresh = 4 # threshold for spectrograms (lower filters out more noise)\n",
    "lowcut = 500 # Hz # Low cut for our butter bandpass filter\n",
    "highcut = 15000 # Hz # High cut for our butter bandpass filter\n",
    "# For mels\n",
    "n_mel_freq_components = 64 # number of mel frequency channels\n",
    "shorten_factor = 10 # how much should we compress the x-axis (time)\n",
    "start_freq = 300 # Hz # What frequency to start sampling our melS from \n",
    "end_freq = 8000 # Hz # What frequency to stop sampling our melS from"
   ]
  },
  {
   "cell_type": "code",
   "execution_count": 10,
   "metadata": {
    "colab": {},
    "colab_type": "code",
    "id": "k4sMN6drfptl",
    "papermill": {
     "duration": 0.071974,
     "end_time": "2019-11-05T03:34:55.513448",
     "exception": false,
     "start_time": "2019-11-05T03:34:55.441474",
     "status": "completed"
    },
    "tags": []
   },
   "outputs": [],
   "source": [
    "def butter_bandpass(lowcut, highcut, fs, order=5):\n",
    "    nyq = 0.5 * fs\n",
    "    low = lowcut / nyq\n",
    "    high = highcut / nyq\n",
    "    b, a = butter(order, [low, high], btype='band')\n",
    "    return b, a\n",
    "\n",
    "def butter_bandpass_filter(data, lowcut, highcut, fs, order=5):\n",
    "    b, a = butter_bandpass(lowcut, highcut, fs, order=order)\n",
    "    y = lfilter(b, a, data)\n",
    "    return y\n",
    "\n",
    "def overlap(X, window_size, window_step):\n",
    "    \"\"\"\n",
    "    Create an overlapped version of X\n",
    "    Parameters\n",
    "    ----------\n",
    "    X : ndarray, shape=(n_samples,)\n",
    "        Input signal to window and overlap\n",
    "    window_size : int\n",
    "        Size of windows to take\n",
    "    window_step : int\n",
    "        Step size between windows\n",
    "    Returns\n",
    "    -------\n",
    "    X_strided : shape=(n_windows, window_size)\n",
    "        2D array of overlapped X\n",
    "    \"\"\"\n",
    "    window_size, window_step = map(int, (window_size, window_step))\n",
    "    if window_size % 2 != 0:\n",
    "        raise ValueError(\"Window size must be even!\")\n",
    "    # Make sure there are an even number of windows before stridetricks\n",
    "    append = np.zeros((window_size - len(X) % window_size))\n",
    "    X = np.hstack((X, append))\n",
    "\n",
    "    ws = window_size\n",
    "    ss = window_step\n",
    "    a = X\n",
    "\n",
    "    valid = len(a) - ws\n",
    "    nw = (valid) // ss\n",
    "    out = np.ndarray((nw,ws),dtype = a.dtype)\n",
    "\n",
    "    for i in range(nw):\n",
    "        # \"slide\" the window along the samples\n",
    "        start = i * ss\n",
    "        stop = start + ws\n",
    "        out[i] = a[start : stop]\n",
    "\n",
    "    return out\n",
    "\n",
    "def stft(X, fftsize=128, step=65, mean_normalize=True, real=False,\n",
    "         compute_onesided=True):\n",
    "    \"\"\"\n",
    "    Compute STFT for 1D real valued input X\n",
    "    \"\"\"\n",
    "    X = np.copy(X)\n",
    "    if real:\n",
    "        local_fft = np.fft.rfft\n",
    "        cut = -1\n",
    "    else:\n",
    "        local_fft = np.fft.fft\n",
    "        cut = None\n",
    "    if compute_onesided:\n",
    "        cut = fftsize // 2\n",
    "    if mean_normalize:\n",
    "        X -= X.mean()\n",
    "\n",
    "    X = overlap(X, fftsize, step)\n",
    "    \n",
    "    size = fftsize\n",
    "    win = 0.54 - .46 * np.cos(2 * np.pi * np.arange(size) / (size - 1))\n",
    "    X = X * win[None]\n",
    "    X = local_fft(X)[:, :cut]\n",
    "    return X\n",
    "\n",
    "def pretty_spectrogram(d,log = True, thresh= 5, fft_size = 512, step_size = 64):\n",
    "    \"\"\"\n",
    "    creates a spectrogram\n",
    "    log: take the log of the spectrgram\n",
    "    thresh: threshold minimum power for log spectrogram\n",
    "    \"\"\"\n",
    "    specgram = np.abs(stft(d, fftsize=fft_size, step=step_size, real=False,\n",
    "        compute_onesided=True))\n",
    "  \n",
    "    if log == True:\n",
    "        specgram /= specgram.max() # volume normalize to max 1\n",
    "        specgram = np.log10(specgram) # take log\n",
    "        specgram[specgram < -thresh] = -thresh # set anything less than the threshold as the threshold\n",
    "    else:\n",
    "        specgram[specgram < thresh] = thresh # set anything less than the threshold as the threshold\n",
    "    \n",
    "    return specgram\n",
    "\n",
    "# Also mostly modified or taken from https://gist.github.com/kastnerkyle/179d6e9a88202ab0a2fe\n",
    "def invert_pretty_spectrogram(X_s, log = True, fft_size = 512, step_size = 512/4, n_iter = 10):\n",
    "    \n",
    "    if log == True:\n",
    "        X_s = np.power(10, X_s)\n",
    "\n",
    "    X_s = np.concatenate([X_s, X_s[:, ::-1]], axis=1)\n",
    "    X_t = iterate_invert_spectrogram(X_s, fft_size, step_size, n_iter=n_iter)\n",
    "    return X_t\n",
    "\n",
    "def iterate_invert_spectrogram(X_s, fftsize, step, n_iter=10, verbose=False):\n",
    "    \"\"\"\n",
    "    Under MSR-LA License\n",
    "    Based on MATLAB implementation from Spectrogram Inversion Toolbox\n",
    "    References\n",
    "    ----------\n",
    "    D. Griffin and J. Lim. Signal estimation from modified\n",
    "    short-time Fourier transform. IEEE Trans. Acoust. Speech\n",
    "    Signal Process., 32(2):236-243, 1984.\n",
    "    Malcolm Slaney, Daniel Naar and Richard F. Lyon. Auditory\n",
    "    Model Inversion for Sound Separation. Proc. IEEE-ICASSP,\n",
    "    Adelaide, 1994, II.77-80.\n",
    "    Xinglei Zhu, G. Beauregard, L. Wyse. Real-Time Signal\n",
    "    Estimation from Modified Short-Time Fourier Transform\n",
    "    Magnitude Spectra. IEEE Transactions on Audio Speech and\n",
    "    Language Processing, 08/2007.\n",
    "    \"\"\"\n",
    "    reg = np.max(X_s) / 1E8\n",
    "    X_best = copy.deepcopy(X_s)\n",
    "    for i in range(n_iter):\n",
    "        if verbose:\n",
    "            print(\"Runnning iter %i\" % i)\n",
    "        if i == 0:\n",
    "            X_t = invert_spectrogram(X_best, step, calculate_offset=True,\n",
    "                                     set_zero_phase=True)\n",
    "        else:\n",
    "            # Calculate offset was False in the MATLAB version\n",
    "            # but in mine it massively improves the result\n",
    "            # Possible bug in my impl?\n",
    "            X_t = invert_spectrogram(X_best, step, calculate_offset=True,\n",
    "                                     set_zero_phase=False)\n",
    "        est = stft(X_t, fftsize=fftsize, step=step, compute_onesided=False)\n",
    "        phase = est / np.maximum(reg, np.abs(est))\n",
    "        X_best = X_s * phase[:len(X_s)]\n",
    "    X_t = invert_spectrogram(X_best, step, calculate_offset=True,\n",
    "                             set_zero_phase=False)\n",
    "    return np.real(X_t)\n",
    "\n",
    "def invert_spectrogram(X_s, step, calculate_offset=True, set_zero_phase=True):\n",
    "    \"\"\"\n",
    "    Under MSR-LA License\n",
    "    Based on MATLAB implementation from Spectrogram Inversion Toolbox\n",
    "    References\n",
    "    ----------\n",
    "    D. Griffin and J. Lim. Signal estimation from modified\n",
    "    short-time Fourier transform. IEEE Trans. Acoust. Speech\n",
    "    Signal Process., 32(2):236-243, 1984.\n",
    "    Malcolm Slaney, Daniel Naar and Richard F. Lyon. Auditory\n",
    "    Model Inversion for Sound Separation. Proc. IEEE-ICASSP,\n",
    "    Adelaide, 1994, II.77-80.\n",
    "    Xinglei Zhu, G. Beauregard, L. Wyse. Real-Time Signal\n",
    "    Estimation from Modified Short-Time Fourier Transform\n",
    "    Magnitude Spectra. IEEE Transactions on Audio Speech and\n",
    "    Language Processing, 08/2007.\n",
    "    \"\"\"\n",
    "    step = int(step)\n",
    "    size = int(X_s.shape[1] // 2)\n",
    "    wave = np.zeros((X_s.shape[0] * step + size))\n",
    "    # Getting overflow warnings with 32 bit...\n",
    "    wave = wave.astype('float64')\n",
    "    total_windowing_sum = np.zeros((X_s.shape[0] * step + size))\n",
    "    win = 0.54 - .46 * np.cos(2 * np.pi * np.arange(size) / (size - 1))\n",
    "\n",
    "    est_start = int(size // 2) - 1\n",
    "    est_end = est_start + size\n",
    "    for i in range(X_s.shape[0]):\n",
    "        wave_start = int(step * i)\n",
    "        wave_end = wave_start + size\n",
    "        if set_zero_phase:\n",
    "            spectral_slice = X_s[i].real + 0j\n",
    "        else:\n",
    "            # already complex\n",
    "            spectral_slice = X_s[i]\n",
    "\n",
    "        # Don't need fftshift due to different impl.\n",
    "        wave_est = np.real(np.fft.ifft(spectral_slice))[::-1]\n",
    "        if calculate_offset and i > 0:\n",
    "            offset_size = size - step\n",
    "            if offset_size <= 0:\n",
    "                print(\"WARNING: Large step size >50\\% detected! \"\n",
    "                      \"This code works best with high overlap - try \"\n",
    "                      \"with 75% or greater\")\n",
    "                offset_size = step\n",
    "            offset = xcorr_offset(wave[wave_start:wave_start + offset_size],\n",
    "                                  wave_est[est_start:est_start + offset_size])\n",
    "        else:\n",
    "            offset = 0\n",
    "        wave[wave_start:wave_end] += win * wave_est[\n",
    "            est_start - offset:est_end - offset]\n",
    "        total_windowing_sum[wave_start:wave_end] += win\n",
    "    wave = np.real(wave) / (total_windowing_sum + 1E-6)\n",
    "    return wave\n",
    "\n",
    "def xcorr_offset(x1, x2):\n",
    "    \"\"\"\n",
    "    Under MSR-LA License\n",
    "    Based on MATLAB implementation from Spectrogram Inversion Toolbox\n",
    "    References\n",
    "    ----------\n",
    "    D. Griffin and J. Lim. Signal estimation from modified\n",
    "    short-time Fourier transform. IEEE Trans. Acoust. Speech\n",
    "    Signal Process., 32(2):236-243, 1984.\n",
    "    Malcolm Slaney, Daniel Naar and Richard F. Lyon. Auditory\n",
    "    Model Inversion for Sound Separation. Proc. IEEE-ICASSP,\n",
    "    Adelaide, 1994, II.77-80.\n",
    "    Xinglei Zhu, G. Beauregard, L. Wyse. Real-Time Signal\n",
    "    Estimation from Modified Short-Time Fourier Transform\n",
    "    Magnitude Spectra. IEEE Transactions on Audio Speech and\n",
    "    Language Processing, 08/2007.\n",
    "    \"\"\"\n",
    "    x1 = x1 - x1.mean()\n",
    "    x2 = x2 - x2.mean()\n",
    "    frame_size = len(x2)\n",
    "    half = frame_size // 2\n",
    "    corrs = np.convolve(x1.astype('float32'), x2[::-1].astype('float32'))\n",
    "    corrs[:half] = -1E30\n",
    "    corrs[-half:] = -1E30\n",
    "    offset = corrs.argmax() - len(x1)\n",
    "    return offset"
   ]
  },
  {
   "cell_type": "markdown",
   "metadata": {
    "colab_type": "text",
    "id": "ms9WQvOBf0bL",
    "papermill": {
     "duration": 0.024524,
     "end_time": "2019-11-05T03:34:55.562523",
     "exception": false,
     "start_time": "2019-11-05T03:34:55.537999",
     "status": "completed"
    },
    "tags": []
   },
   "source": [
    "## Define Custom Dataset"
   ]
  },
  {
   "cell_type": "code",
   "execution_count": 11,
   "metadata": {
    "colab": {},
    "colab_type": "code",
    "id": "OQCQFWgk9O1P",
    "papermill": {
     "duration": 0.091085,
     "end_time": "2019-11-05T03:34:55.678248",
     "exception": false,
     "start_time": "2019-11-05T03:34:55.587163",
     "status": "completed"
    },
    "tags": []
   },
   "outputs": [],
   "source": [
    "# from torchvision.transforms import Compose\n",
    "import torchvision.transforms as transforms\n",
    "\n",
    "class CustomDatasetSimple_new():\n",
    "    \"\"\"Simple dataset class for dataloader\"\"\"\n",
    "    def __init__(self, X, y, mean, std):\n",
    "        \"\"\"Initialize the CustomDataset\"\"\"\n",
    "\n",
    "        self.mean = mean\n",
    "        self.std = std\n",
    "        self.X = X\n",
    "        self.y = y\n",
    "\n",
    "    def __len__(self):\n",
    "        \"\"\"Return the total length of the dataset\"\"\"\n",
    "        dataset_size = len(self.X)\n",
    "        return dataset_size\n",
    "\n",
    "    def __getitem__(self, idx):\n",
    "        \"\"\"Return the batch given the indices\"\"\"\n",
    "        # print('debug1')\n",
    "        rate, data = wavfile.read(self.X[idx])\n",
    "        spec = pretty_spectrogram(data.astype('float64'), fft_size = fft_size, step_size = step_size, log = True, thresh = spec_thresh)\n",
    "        height = spec.shape[0]\n",
    "        if height!=112:\n",
    "            spec = pad_dimesions(spec)\n",
    "        # print('debug2')\n",
    "        X = np.copy(spec)\n",
    "        X = torch.tensor(X, dtype=torch.float)\n",
    "        X.unsqueeze_(-1)\n",
    "        X = X.transpose(2, 0)\n",
    "        X = X.transpose(2, 1)\n",
    "        # print('debug3')\n",
    "        X_batch = (X-self.mean)/self.std\n",
    "        y_batch = self.y[idx]\n",
    "        return X_batch, y_batch"
   ]
  },
  {
   "cell_type": "markdown",
   "metadata": {
    "colab_type": "text",
    "id": "xJuRYaKOueaZ",
    "papermill": {
     "duration": 0.024869,
     "end_time": "2019-11-05T03:34:55.728938",
     "exception": false,
     "start_time": "2019-11-05T03:34:55.704069",
     "status": "completed"
    },
    "tags": []
   },
   "source": [
    "## Define Attack Functions"
   ]
  },
  {
   "cell_type": "code",
   "execution_count": 12,
   "metadata": {
    "colab": {},
    "colab_type": "code",
    "id": "afxS7j8ougwc",
    "papermill": {
     "duration": 0.052859,
     "end_time": "2019-11-05T03:34:55.806857",
     "exception": false,
     "start_time": "2019-11-05T03:34:55.753998",
     "status": "completed"
    },
    "tags": []
   },
   "outputs": [],
   "source": [
    "def fgsm(model, X, y, epsilon=0.3):\n",
    "    \"\"\" Construct FGSM adversarial examples on the examples X\"\"\"\n",
    "    delta = torch.zeros_like(X, requires_grad=True)\n",
    "    delta = delta.cuda()\n",
    "    loss = nn.CrossEntropyLoss()(model(X + delta), y)\n",
    "    loss.backward()\n",
    "    return epsilon * delta.grad.detach().sign()\n",
    "\n",
    "\n",
    "def pgd_linf(model, X, y, epsilon=0.1, alpha=0.01, num_iter=20, randomize=False):\n",
    "    \"\"\" Construct PGD adversarial examples on the examples X\"\"\"\n",
    "    if randomize:\n",
    "        delta = torch.rand_like(X, requires_grad=True)\n",
    "        delta.data = delta.data * 2 * epsilon - epsilon\n",
    "    else:\n",
    "        delta = torch.zeros_like(X, requires_grad=True)\n",
    "        \n",
    "    for t in range(num_iter):\n",
    "        loss = nn.CrossEntropyLoss()(model(X + delta), y)\n",
    "        loss.backward()\n",
    "        delta.data = (delta + alpha*delta.grad.detach().sign()).clamp(-epsilon,epsilon)\n",
    "        delta.grad.zero_()\n",
    "    return delta.detach()"
   ]
  },
  {
   "cell_type": "markdown",
   "metadata": {
    "colab_type": "text",
    "id": "xsiliYP4qiev",
    "papermill": {
     "duration": 0.025191,
     "end_time": "2019-11-05T03:34:55.857608",
     "exception": false,
     "start_time": "2019-11-05T03:34:55.832417",
     "status": "completed"
    },
    "tags": []
   },
   "source": [
    "# Train the model on a subset of data"
   ]
  },
  {
   "cell_type": "code",
   "execution_count": 13,
   "metadata": {
    "colab": {
     "base_uri": "https://localhost:8080/",
     "height": 34
    },
    "colab_type": "code",
    "executionInfo": {
     "elapsed": 945,
     "status": "ok",
     "timestamp": 1572873967823,
     "user": {
      "displayName": "Antonia Lovjer",
      "photoUrl": "",
      "userId": "16395681258946800452"
     },
     "user_tz": 300
    },
    "id": "Tc1QhN3U-V_h",
    "outputId": "ef85b0b6-ab47-4464-c36e-a33300b7e3b1",
    "papermill": {
     "duration": 0.053712,
     "end_time": "2019-11-05T03:34:55.936625",
     "exception": false,
     "start_time": "2019-11-05T03:34:55.882913",
     "status": "completed"
    },
    "tags": []
   },
   "outputs": [
    {
     "name": "stdout",
     "output_type": "stream",
     "text": [
      "length of trainset: 2000, length of validation set: 1000 , length of test set: 1000\n"
     ]
    }
   ],
   "source": [
    "from random import sample\n",
    "from random import shuffle\n",
    "\n",
    "# training set subsample\n",
    "trainset_sub = sample(trainset, 2000)\n",
    "len(trainset_sub)\n",
    "\n",
    "# validation subample\n",
    "shuffle(valset)\n",
    "valset_sub = valset[:1000]\n",
    "\n",
    "# subsample the training set from the validation for now!\n",
    "testset_sub = valset[1000:2000]\n",
    "print('length of trainset: ' + str(len(trainset_sub)) + ', length of validation set: ' +  str(len(valset_sub)), \n",
    "      ', length of test set: ' + str(len(testset_sub)))"
   ]
  },
  {
   "cell_type": "code",
   "execution_count": 14,
   "metadata": {
    "colab": {},
    "colab_type": "code",
    "id": "KTHifZ53K8hk",
    "papermill": {
     "duration": 0.048629,
     "end_time": "2019-11-05T03:34:56.011213",
     "exception": false,
     "start_time": "2019-11-05T03:34:55.962584",
     "status": "completed"
    },
    "tags": []
   },
   "outputs": [],
   "source": [
    "def pad_dimesions(spec):\n",
    "  '''\n",
    "    Data comes in several dimensions. Pad with zeros to get dimensions (112,1)\n",
    "  '''\n",
    "  x_offset = 1  \n",
    "  y_offset = 0\n",
    "  result = np.zeros([112, 1024])\n",
    "  result[x_offset:spec.shape[0] + x_offset, y_offset:spec.shape[1] + y_offset] = spec\n",
    "  return result"
   ]
  },
  {
   "cell_type": "markdown",
   "metadata": {
    "colab_type": "text",
    "id": "roDTcA97jzUK",
    "papermill": {
     "duration": 0.024841,
     "end_time": "2019-11-05T03:34:56.061880",
     "exception": false,
     "start_time": "2019-11-05T03:34:56.037039",
     "status": "completed"
    },
    "tags": []
   },
   "source": [
    "Extract the audio files, read the wave files and separate the labels"
   ]
  },
  {
   "cell_type": "code",
   "execution_count": 15,
   "metadata": {
    "papermill": {
     "duration": 0.055844,
     "end_time": "2019-11-05T03:34:56.143020",
     "exception": false,
     "start_time": "2019-11-05T03:34:56.087176",
     "status": "completed"
    },
    "tags": []
   },
   "outputs": [],
   "source": [
    "trainset_dl = trainset_sub\n",
    "valset_dl = valset_sub\n",
    "trainset_dl = trainset\n",
    "valset_dl = valset\n",
    "#test_dl = testset_sub\n",
    "\n",
    "# train\n",
    "train_filepaths = [i[2] for i in trainset_dl]\n",
    "train_labels = [i[0] for i in trainset_dl]\n",
    "valid_filepaths = [i[2] for i in valset_dl]\n",
    "val_labels = [i[0] for i in valset_dl]\n",
    "#test_filepaths = [i[2] for i in test_dl]\n",
    "#test_labels = [i[0] for i in valset_dl]"
   ]
  },
  {
   "cell_type": "code",
   "execution_count": 16,
   "metadata": {
    "colab": {},
    "colab_type": "code",
    "id": "8KJ8KkYiqqPG",
    "papermill": {
     "duration": 0.056172,
     "end_time": "2019-11-05T03:34:56.224651",
     "exception": false,
     "start_time": "2019-11-05T03:34:56.168479",
     "status": "completed"
    },
    "tags": []
   },
   "outputs": [],
   "source": [
    "if False:\n",
    "    trainset_dl = trainset\n",
    "    valset_dl = valset\n",
    "    test_dl = testset_sub\n",
    "\n",
    "    # train\n",
    "    train_filepaths = [i[2] for i in trainset_dl]\n",
    "    train_audio_files = [wavfile.read(i)[1] for i in train_filepaths]\n",
    "    train_labels = [i[0] for i in trainset_dl]\n",
    "\n",
    "    train_spec = []\n",
    "    for i in range(len(train_audio_files)):\n",
    "      spec = pretty_spectrogram(train_audio_files[i].astype('float64'), fft_size = fft_size, step_size = step_size, log = True, thresh = spec_thresh)\n",
    "      height = spec.shape[0]\n",
    "      if height!=112:\n",
    "        spec = pad_dimesions(spec)\n",
    "      train_spec.append(spec)\n",
    "\n",
    "    # validation\n",
    "    valid_filepaths = [i[2] for i in valset_dl]\n",
    "    valid_audio_files = [wavfile.read(i)[1] for i in valid_filepaths]\n",
    "    val_labels = [i[0] for i in valset_dl]\n",
    "\n",
    "    valid_spec = []\n",
    "    for i in range(len(valid_audio_files)):\n",
    "      spec = pretty_spectrogram(valid_audio_files[i].astype('float64'), fft_size = fft_size, step_size = step_size, log = True, thresh = spec_thresh)\n",
    "      if height!=112:\n",
    "        spec = pad_dimesions(spec)\n",
    "      valid_spec.append(spec)\n",
    "\n",
    "    # test\n",
    "    test_filepaths = [i[2] for i in test_dl]\n",
    "    test_audio_files = [wavfile.read(i)[1] for i in test_filepaths]\n",
    "    test_labels = [i[0] for i in valset_dl]\n",
    "\n",
    "    test_spec = []\n",
    "    for i in range(len(test_audio_files)):\n",
    "      spec = pretty_spectrogram(test_audio_files[i].astype('float64'), fft_size = fft_size, step_size = step_size, log = True, thresh = spec_thresh)\n",
    "      if height!=112:\n",
    "        spec = pad_dimesions(spec)\n",
    "      test_spec.append(spec)"
   ]
  },
  {
   "cell_type": "code",
   "execution_count": 17,
   "metadata": {
    "papermill": {
     "duration": 0.05059,
     "end_time": "2019-11-05T03:34:56.300826",
     "exception": false,
     "start_time": "2019-11-05T03:34:56.250236",
     "status": "completed"
    },
    "tags": []
   },
   "outputs": [],
   "source": [
    "def get_mean_std(loader):\n",
    "    output_mean = 0.\n",
    "    output_std = 0.\n",
    "    n = 0\n",
    "    for X,y in loader:\n",
    "        output_mean += np.mean(X.detach().cpu().numpy())\n",
    "        output_std += np.std(X.detach().cpu().numpy())\n",
    "        n += 1\n",
    "        if n % 10 == 0:\n",
    "            print(n)\n",
    "    return output_mean/n, output_std/n"
   ]
  },
  {
   "cell_type": "code",
   "execution_count": 18,
   "metadata": {
    "colab": {},
    "colab_type": "code",
    "id": "WCzvFAM1rW6x",
    "papermill": {
     "duration": 0.046848,
     "end_time": "2019-11-05T03:34:56.374409",
     "exception": false,
     "start_time": "2019-11-05T03:34:56.327561",
     "status": "completed"
    },
    "tags": []
   },
   "outputs": [],
   "source": [
    "import torch\n",
    "mean=-3.1259581955996425\n",
    "std=0.8961027914827521\n",
    "batch_size=32\n",
    "num_workers=8\n",
    "data_train_sub = CustomDatasetSimple_new(train_filepaths, train_labels, mean, std)\n",
    "data_valid_sub = CustomDatasetSimple_new(valid_filepaths, val_labels, mean, std)\n",
    "\n",
    "train_data_loader = torch.utils.data.DataLoader(\n",
    "    dataset=data_train_sub, batch_size=batch_size, shuffle=True,\n",
    "    num_workers=num_workers)\n",
    "\n",
    "valid_data_loader = torch.utils.data.DataLoader(\n",
    "    dataset=data_valid_sub, batch_size=batch_size, shuffle=True,\n",
    "    num_workers=num_workers)\n",
    "\n",
    "#del(train_spec)\n",
    "#del(train_spec_np)\n",
    "#del(valid_spec)\n",
    "#del(test_spec)"
   ]
  },
  {
   "cell_type": "code",
   "execution_count": 19,
   "metadata": {
    "papermill": {
     "duration": 0.042937,
     "end_time": "2019-11-05T03:34:56.443580",
     "exception": false,
     "start_time": "2019-11-05T03:34:56.400643",
     "status": "completed"
    },
    "tags": []
   },
   "outputs": [],
   "source": [
    "#get_mean_std(train_data_loader)"
   ]
  },
  {
   "cell_type": "code",
   "execution_count": 20,
   "metadata": {
    "colab": {},
    "colab_type": "code",
    "id": "1KuqqLVJq1lQ",
    "papermill": {
     "duration": 0.05997,
     "end_time": "2019-11-05T03:34:56.529139",
     "exception": false,
     "start_time": "2019-11-05T03:34:56.469169",
     "status": "completed"
    },
    "tags": []
   },
   "outputs": [],
   "source": [
    "\"\"\"\n",
    "BaseTrainer provides base functionality for any trainer object.\n",
    "It provides functionality to:\n",
    "    - train for one epoch\n",
    "    - validation \n",
    "    - testing\n",
    "\"\"\"\n",
    "import torch\n",
    "from torchvision import models\n",
    "import math\n",
    "import matplotlib.pyplot as plt\n",
    "import copy\n",
    "import os\n",
    "import datetime\n",
    "import torch.nn as nn\n",
    "import time\n",
    "from torch import optim\n",
    "\n",
    "class BaseTrainer:\n",
    "    \"\"\"Base Class for trainer/train.py.\"\"\"\n",
    "\n",
    "    def __init__(self, model, train_dl, valid_dl, test_dl, criterion, n_epochs, model_filename):\n",
    "        \"\"\"Initialize the BaseTrainer object.\"\"\"\n",
    "        self.model = model\n",
    "        self.train_dl = train_dl\n",
    "        self.valid_dl = valid_dl\n",
    "        self.test_dl = test_dl\n",
    "        self.criterion = criterion\n",
    "        self.opt_lrs = []\n",
    "        self.device = 'cuda:0' if torch.cuda.is_available() else 'cpu'\n",
    "        # self.attack = attack\n",
    "        self.model_filename = model_filename\n",
    "\n",
    "    def run_epoch(self, epoch, loader, optimizer=None, attack=None):\n",
    "      running_loss = 0.\n",
    "      running_corrects = 0.\n",
    "      running_model = 0.\n",
    "      n = 0.\n",
    "      counter_batch = 0\n",
    "      for X, y_true in loader:\n",
    "        # print('debug4')\n",
    "        start = time.time()\n",
    "        X = X.cuda()\n",
    "        y_true = y_true.cuda()\n",
    "        if optimizer!=None:\n",
    "          optimizer.zero_grad()\n",
    "        if attack!=None:\n",
    "          delta = attack(model, X, y_true)\n",
    "          delta = delta.cuda()\n",
    "          y_pred = self.model(X + delta)\n",
    "        else:\n",
    "          # print('debug5')\n",
    "          y_pred = self.model(X)\n",
    "        loss = self.criterion(y_pred, y_true) # input criterion is negative\n",
    "        if optimizer!=None:\n",
    "          loss.backward()\n",
    "          optimizer.step()\n",
    "        indices = torch.argmax(y_pred, dim=1)\n",
    "        running_loss += float(loss)\n",
    "        running_corrects += np.sum(indices.detach().cpu().numpy() == y_true.detach().cpu().numpy())\n",
    "        n += y_true.detach().cpu().numpy().shape[0]\n",
    "        counter_batch += 1\n",
    "        end = time.time()\n",
    "        delta_model = end - start\n",
    "        running_model += delta_model\n",
    "        if (counter_batch%20)==0:\n",
    "            print(counter_batch)\n",
    "            log_textfile(LOGFILE_PATH, '[epoch: %d, batch:  %5d] loss: %.5f time model: %.5f acc: %.5f' % (epoch + 1, counter_batch + 1, running_loss/n, running_model / 20.0, running_corrects / 20))\n",
    "        # if optimizer==None:\n",
    "        #   print('loss: ' + str(running_loss/n) + ' accuracy: ' + str(running_corrects/n))\n",
    "      return(running_loss/n, running_corrects/n)\n",
    "    \n",
    "    def fit_model_new(self, optimizer, n_epochs, model_filename, attack):\n",
    "        \"\"\"\n",
    "        Perform one training epoch.\n",
    "\n",
    "        Parameters:\n",
    "            optimizer - optimizer to use while training\n",
    "            scheduler - scheduler to use while training\n",
    "        Returns: training loss after epoch\n",
    "        \"\"\"\n",
    "        self.model.train()\n",
    "\n",
    "        final_loss = None\n",
    "        lowest_valid_loss = 99999999\n",
    "\n",
    "        for epoch in range(n_epochs):\n",
    "          self.model.train()\n",
    "          train_loss, train_acc = self.run_epoch(epoch, self.train_dl, optimizer, attack=attack)\n",
    "          self.model.eval()\n",
    "          valid_loss, valid_acc = self.run_epoch(epoch, self.valid_dl, None, attack=attack)\n",
    "          if valid_loss < lowest_valid_loss:\n",
    "            lowest_valid_loss = valid_loss\n",
    "            torch.save(self.model, 'saved/' + model_filename)\n",
    "          log_textfile(LOGFILE_PATH, 'epoch:' + str(epoch + 1) + ' train loss: ' + str(train_loss) + ' train acc: ' + str(train_acc) + ' valid loss: ' + str(valid_loss) + ' valid acc: ' + str(valid_acc))\n",
    "          print('epoch:' + str(epoch + 1) + ' train loss: ' + str(train_loss) + ' train acc: ' + str(train_acc) + ' valid loss: ' + str(valid_loss) + ' valid acc: ' + str(valid_acc))\n",
    "\n",
    "            \n",
    "        "
   ]
  },
  {
   "cell_type": "code",
   "execution_count": 21,
   "metadata": {
    "colab": {},
    "colab_type": "code",
    "id": "5AbhRW2NrujN",
    "papermill": {
     "duration": 4.771397,
     "end_time": "2019-11-05T03:35:01.325405",
     "exception": false,
     "start_time": "2019-11-05T03:34:56.554008",
     "status": "completed"
    },
    "tags": []
   },
   "outputs": [],
   "source": [
    "MODELNAME = 'full_dataset_normal'\n",
    "LOGFILE_PATH = 'logs/' + MODELNAME\n",
    "\n",
    "from models.resnet import ResNet, resnet34\n",
    "\n",
    "model = resnet34(pretrained=False, progress=False).cuda()\n",
    "\n",
    "criterion = torch.nn.CrossEntropyLoss()\n",
    "\n",
    "for param in model.parameters():\n",
    "  param.requires_grad = True"
   ]
  },
  {
   "cell_type": "code",
   "execution_count": 22,
   "metadata": {
    "colab": {},
    "colab_type": "code",
    "id": "qmWh9stFrvLE",
    "papermill": {
     "duration": 0.047315,
     "end_time": "2019-11-05T03:35:01.399709",
     "exception": false,
     "start_time": "2019-11-05T03:35:01.352394",
     "status": "completed"
    },
    "tags": []
   },
   "outputs": [],
   "source": [
    "trainer = BaseTrainer(model=model, train_dl=train_data_loader, valid_dl=valid_data_loader, test_dl=valid_data_loader, criterion=criterion, model_filename=MODELNAME, n_epochs=1)"
   ]
  },
  {
   "cell_type": "code",
   "execution_count": 23,
   "metadata": {
    "papermill": {
     "duration": 4547.604521,
     "end_time": "2019-11-05T04:50:49.030051",
     "exception": false,
     "start_time": "2019-11-05T03:35:01.425530",
     "status": "completed"
    },
    "tags": []
   },
   "outputs": [
    {
     "name": "stdout",
     "output_type": "stream",
     "text": [
      "20\n",
      "[epoch: 1, batch:     21] loss: 0.07398 time model: 0.69250 acc: 5.05000\n"
     ]
    },
    {
     "name": "stdout",
     "output_type": "stream",
     "text": [
      "40\n",
      "[epoch: 1, batch:     41] loss: 0.07090 time model: 1.35087 acc: 10.95000\n"
     ]
    },
    {
     "name": "stdout",
     "output_type": "stream",
     "text": [
      "60\n",
      "[epoch: 1, batch:     61] loss: 0.06926 time model: 2.00826 acc: 17.05000\n"
     ]
    },
    {
     "name": "stdout",
     "output_type": "stream",
     "text": [
      "80\n",
      "[epoch: 1, batch:     81] loss: 0.06774 time model: 2.66544 acc: 24.05000\n"
     ]
    },
    {
     "name": "stdout",
     "output_type": "stream",
     "text": [
      "100\n",
      "[epoch: 1, batch:    101] loss: 0.06706 time model: 3.32231 acc: 31.45000\n"
     ]
    },
    {
     "name": "stdout",
     "output_type": "stream",
     "text": [
      "120\n",
      "[epoch: 1, batch:    121] loss: 0.06596 time model: 3.97762 acc: 40.95000\n"
     ]
    },
    {
     "name": "stdout",
     "output_type": "stream",
     "text": [
      "140\n",
      "[epoch: 1, batch:    141] loss: 0.06516 time model: 4.63258 acc: 50.00000\n"
     ]
    },
    {
     "name": "stdout",
     "output_type": "stream",
     "text": [
      "160\n",
      "[epoch: 1, batch:    161] loss: 0.06408 time model: 5.28798 acc: 61.00000\n"
     ]
    },
    {
     "name": "stdout",
     "output_type": "stream",
     "text": [
      "180\n",
      "[epoch: 1, batch:    181] loss: 0.06306 time model: 5.94295 acc: 73.30000\n"
     ]
    },
    {
     "name": "stdout",
     "output_type": "stream",
     "text": [
      "200\n",
      "[epoch: 1, batch:    201] loss: 0.06178 time model: 6.59815 acc: 87.45000\n"
     ]
    },
    {
     "name": "stdout",
     "output_type": "stream",
     "text": [
      "220\n",
      "[epoch: 1, batch:    221] loss: 0.06088 time model: 7.25367 acc: 100.40000\n"
     ]
    },
    {
     "name": "stdout",
     "output_type": "stream",
     "text": [
      "240\n",
      "[epoch: 1, batch:    241] loss: 0.05960 time model: 7.90910 acc: 115.40000\n"
     ]
    },
    {
     "name": "stdout",
     "output_type": "stream",
     "text": [
      "260\n",
      "[epoch: 1, batch:    261] loss: 0.05803 time model: 8.56408 acc: 133.60000\n"
     ]
    },
    {
     "name": "stdout",
     "output_type": "stream",
     "text": [
      "280\n",
      "[epoch: 1, batch:    281] loss: 0.05662 time model: 9.21984 acc: 152.10000\n"
     ]
    },
    {
     "name": "stdout",
     "output_type": "stream",
     "text": [
      "300\n",
      "[epoch: 1, batch:    301] loss: 0.05507 time model: 9.87529 acc: 172.95000\n"
     ]
    },
    {
     "name": "stdout",
     "output_type": "stream",
     "text": [
      "320\n",
      "[epoch: 1, batch:    321] loss: 0.05402 time model: 10.53068 acc: 191.75000\n"
     ]
    },
    {
     "name": "stdout",
     "output_type": "stream",
     "text": [
      "340\n",
      "[epoch: 1, batch:    341] loss: 0.05301 time model: 11.18542 acc: 211.05000\n"
     ]
    },
    {
     "name": "stdout",
     "output_type": "stream",
     "text": [
      "360\n",
      "[epoch: 1, batch:    361] loss: 0.05178 time model: 11.83974 acc: 232.30000\n"
     ]
    },
    {
     "name": "stdout",
     "output_type": "stream",
     "text": [
      "380\n",
      "[epoch: 1, batch:    381] loss: 0.05053 time model: 12.49579 acc: 254.60000\n"
     ]
    },
    {
     "name": "stdout",
     "output_type": "stream",
     "text": [
      "400\n",
      "[epoch: 1, batch:    401] loss: 0.04949 time model: 13.15074 acc: 276.25000\n"
     ]
    },
    {
     "name": "stdout",
     "output_type": "stream",
     "text": [
      "420\n",
      "[epoch: 1, batch:    421] loss: 0.04836 time model: 13.80604 acc: 298.80000\n"
     ]
    },
    {
     "name": "stdout",
     "output_type": "stream",
     "text": [
      "440\n",
      "[epoch: 1, batch:    441] loss: 0.04727 time model: 14.46111 acc: 322.70000\n"
     ]
    },
    {
     "name": "stdout",
     "output_type": "stream",
     "text": [
      "460\n",
      "[epoch: 1, batch:    461] loss: 0.04624 time model: 15.11631 acc: 346.75000\n"
     ]
    },
    {
     "name": "stdout",
     "output_type": "stream",
     "text": [
      "480\n",
      "[epoch: 1, batch:    481] loss: 0.04519 time model: 15.77218 acc: 370.90000\n"
     ]
    },
    {
     "name": "stdout",
     "output_type": "stream",
     "text": [
      "500\n",
      "[epoch: 1, batch:    501] loss: 0.04415 time model: 16.42735 acc: 396.40000\n"
     ]
    },
    {
     "name": "stdout",
     "output_type": "stream",
     "text": [
      "520\n",
      "[epoch: 1, batch:    521] loss: 0.04333 time model: 17.08370 acc: 420.45000\n"
     ]
    },
    {
     "name": "stdout",
     "output_type": "stream",
     "text": [
      "540\n",
      "[epoch: 1, batch:    541] loss: 0.04256 time model: 17.73826 acc: 445.40000\n"
     ]
    },
    {
     "name": "stdout",
     "output_type": "stream",
     "text": [
      "560\n",
      "[epoch: 1, batch:    561] loss: 0.04174 time model: 18.39393 acc: 470.40000\n"
     ]
    },
    {
     "name": "stdout",
     "output_type": "stream",
     "text": [
      "580\n",
      "[epoch: 1, batch:    581] loss: 0.04095 time model: 19.04946 acc: 495.85000\n"
     ]
    },
    {
     "name": "stdout",
     "output_type": "stream",
     "text": [
      "600\n",
      "[epoch: 1, batch:    601] loss: 0.04019 time model: 19.70459 acc: 521.75000\n"
     ]
    },
    {
     "name": "stdout",
     "output_type": "stream",
     "text": [
      "620\n",
      "[epoch: 1, batch:    621] loss: 0.03951 time model: 20.35973 acc: 547.55000\n"
     ]
    },
    {
     "name": "stdout",
     "output_type": "stream",
     "text": [
      "640\n",
      "[epoch: 1, batch:    641] loss: 0.03889 time model: 21.01525 acc: 572.90000\n"
     ]
    },
    {
     "name": "stdout",
     "output_type": "stream",
     "text": [
      "660\n",
      "[epoch: 1, batch:    661] loss: 0.03828 time model: 21.66050 acc: 598.00000\n"
     ]
    },
    {
     "name": "stdout",
     "output_type": "stream",
     "text": [
      "20\n",
      "[epoch: 1, batch:     21] loss: 0.02703 time model: 0.20908 acc: 22.55000\n"
     ]
    },
    {
     "name": "stdout",
     "output_type": "stream",
     "text": [
      "40\n",
      "[epoch: 1, batch:     41] loss: 0.02429 time model: 0.41592 acc: 46.80000\n"
     ]
    },
    {
     "name": "stdout",
     "output_type": "stream",
     "text": [
      "60\n",
      "[epoch: 1, batch:     61] loss: 0.02363 time model: 0.62267 acc: 70.95000\n"
     ]
    },
    {
     "name": "stdout",
     "output_type": "stream",
     "text": [
      "80\n",
      "[epoch: 1, batch:     81] loss: 0.02376 time model: 0.82949 acc: 94.40000\n"
     ]
    },
    {
     "name": "stdout",
     "output_type": "stream",
     "text": [
      "epoch:1 train loss: 0.03827961743287468 train acc: 0.5666903577351339 valid loss: 0.023795567155115632 valid acc: 0.7384555684904929\n",
      "epoch:1 train loss: 0.03827961743287468 train acc: 0.5666903577351339 valid loss: 0.023795567155115632 valid acc: 0.7384555684904929\n"
     ]
    },
    {
     "name": "stdout",
     "output_type": "stream",
     "text": [
      "20\n",
      "[epoch: 2, batch:     21] loss: 0.01788 time model: 0.65785 acc: 26.05000\n"
     ]
    },
    {
     "name": "stdout",
     "output_type": "stream",
     "text": [
      "40\n",
      "[epoch: 2, batch:     41] loss: 0.01659 time model: 1.31364 acc: 52.60000\n"
     ]
    },
    {
     "name": "stdout",
     "output_type": "stream",
     "text": [
      "60\n",
      "[epoch: 2, batch:     61] loss: 0.01587 time model: 1.97005 acc: 79.70000\n"
     ]
    },
    {
     "name": "stdout",
     "output_type": "stream",
     "text": [
      "80\n",
      "[epoch: 2, batch:     81] loss: 0.01566 time model: 2.62601 acc: 106.80000\n"
     ]
    },
    {
     "name": "stdout",
     "output_type": "stream",
     "text": [
      "100\n",
      "[epoch: 2, batch:    101] loss: 0.01546 time model: 3.28178 acc: 134.10000\n"
     ]
    },
    {
     "name": "stdout",
     "output_type": "stream",
     "text": [
      "120\n",
      "[epoch: 2, batch:    121] loss: 0.01539 time model: 3.93740 acc: 160.70000\n"
     ]
    },
    {
     "name": "stdout",
     "output_type": "stream",
     "text": [
      "140\n",
      "[epoch: 2, batch:    141] loss: 0.01519 time model: 4.59300 acc: 187.75000\n"
     ]
    },
    {
     "name": "stdout",
     "output_type": "stream",
     "text": [
      "160\n",
      "[epoch: 2, batch:    161] loss: 0.01530 time model: 5.24843 acc: 214.15000\n"
     ]
    },
    {
     "name": "stdout",
     "output_type": "stream",
     "text": [
      "180\n",
      "[epoch: 2, batch:    181] loss: 0.01538 time model: 5.90415 acc: 240.85000\n"
     ]
    },
    {
     "name": "stdout",
     "output_type": "stream",
     "text": [
      "200\n",
      "[epoch: 2, batch:    201] loss: 0.01531 time model: 6.55976 acc: 267.75000\n"
     ]
    },
    {
     "name": "stdout",
     "output_type": "stream",
     "text": [
      "220\n",
      "[epoch: 2, batch:    221] loss: 0.01524 time model: 7.21468 acc: 294.45000\n"
     ]
    },
    {
     "name": "stdout",
     "output_type": "stream",
     "text": [
      "240\n",
      "[epoch: 2, batch:    241] loss: 0.01516 time model: 7.87101 acc: 321.70000\n"
     ]
    },
    {
     "name": "stdout",
     "output_type": "stream",
     "text": [
      "260\n",
      "[epoch: 2, batch:    261] loss: 0.01502 time model: 8.52722 acc: 349.05000\n"
     ]
    },
    {
     "name": "stdout",
     "output_type": "stream",
     "text": [
      "280\n",
      "[epoch: 2, batch:    281] loss: 0.01469 time model: 9.18359 acc: 377.50000\n"
     ]
    },
    {
     "name": "stdout",
     "output_type": "stream",
     "text": [
      "300\n",
      "[epoch: 2, batch:    301] loss: 0.01460 time model: 9.84013 acc: 404.95000\n"
     ]
    },
    {
     "name": "stdout",
     "output_type": "stream",
     "text": [
      "320\n",
      "[epoch: 2, batch:    321] loss: 0.01473 time model: 10.49721 acc: 431.00000\n"
     ]
    },
    {
     "name": "stdout",
     "output_type": "stream",
     "text": [
      "340\n",
      "[epoch: 2, batch:    341] loss: 0.01461 time model: 11.15455 acc: 458.65000\n"
     ]
    },
    {
     "name": "stdout",
     "output_type": "stream",
     "text": [
      "360\n",
      "[epoch: 2, batch:    361] loss: 0.01450 time model: 11.81300 acc: 486.25000\n"
     ]
    },
    {
     "name": "stdout",
     "output_type": "stream",
     "text": [
      "380\n",
      "[epoch: 2, batch:    381] loss: 0.01436 time model: 12.46989 acc: 514.20000\n"
     ]
    },
    {
     "name": "stdout",
     "output_type": "stream",
     "text": [
      "400\n",
      "[epoch: 2, batch:    401] loss: 0.01435 time model: 13.12711 acc: 541.30000\n"
     ]
    },
    {
     "name": "stdout",
     "output_type": "stream",
     "text": [
      "420\n",
      "[epoch: 2, batch:    421] loss: 0.01420 time model: 13.78407 acc: 569.85000\n"
     ]
    },
    {
     "name": "stdout",
     "output_type": "stream",
     "text": [
      "440\n",
      "[epoch: 2, batch:    441] loss: 0.01415 time model: 14.44079 acc: 597.70000\n"
     ]
    },
    {
     "name": "stdout",
     "output_type": "stream",
     "text": [
      "460\n",
      "[epoch: 2, batch:    461] loss: 0.01404 time model: 15.09690 acc: 625.00000\n"
     ]
    },
    {
     "name": "stdout",
     "output_type": "stream",
     "text": [
      "480\n",
      "[epoch: 2, batch:    481] loss: 0.01394 time model: 15.75272 acc: 652.95000\n"
     ]
    },
    {
     "name": "stdout",
     "output_type": "stream",
     "text": [
      "500\n",
      "[epoch: 2, batch:    501] loss: 0.01382 time model: 16.40914 acc: 681.35000\n"
     ]
    },
    {
     "name": "stdout",
     "output_type": "stream",
     "text": [
      "520\n",
      "[epoch: 2, batch:    521] loss: 0.01375 time model: 17.06535 acc: 709.50000\n"
     ]
    },
    {
     "name": "stdout",
     "output_type": "stream",
     "text": [
      "540\n",
      "[epoch: 2, batch:    541] loss: 0.01366 time model: 17.72097 acc: 738.10000\n"
     ]
    },
    {
     "name": "stdout",
     "output_type": "stream",
     "text": [
      "560\n",
      "[epoch: 2, batch:    561] loss: 0.01364 time model: 18.37711 acc: 765.55000\n"
     ]
    },
    {
     "name": "stdout",
     "output_type": "stream",
     "text": [
      "580\n",
      "[epoch: 2, batch:    581] loss: 0.01357 time model: 19.03384 acc: 793.50000\n"
     ]
    },
    {
     "name": "stdout",
     "output_type": "stream",
     "text": [
      "600\n",
      "[epoch: 2, batch:    601] loss: 0.01347 time model: 19.69072 acc: 821.80000\n"
     ]
    },
    {
     "name": "stdout",
     "output_type": "stream",
     "text": [
      "620\n",
      "[epoch: 2, batch:    621] loss: 0.01339 time model: 20.34677 acc: 850.25000\n"
     ]
    },
    {
     "name": "stdout",
     "output_type": "stream",
     "text": [
      "640\n",
      "[epoch: 2, batch:    641] loss: 0.01332 time model: 21.00251 acc: 878.45000\n"
     ]
    },
    {
     "name": "stdout",
     "output_type": "stream",
     "text": [
      "660\n",
      "[epoch: 2, batch:    661] loss: 0.01326 time model: 21.64862 acc: 905.70000\n"
     ]
    },
    {
     "name": "stdout",
     "output_type": "stream",
     "text": [
      "20\n",
      "[epoch: 2, batch:     21] loss: 0.01771 time model: 0.20910 acc: 25.90000\n"
     ]
    },
    {
     "name": "stdout",
     "output_type": "stream",
     "text": [
      "40\n",
      "[epoch: 2, batch:     41] loss: 0.01855 time model: 0.41536 acc: 51.85000\n"
     ]
    },
    {
     "name": "stdout",
     "output_type": "stream",
     "text": [
      "60\n",
      "[epoch: 2, batch:     61] loss: 0.01919 time model: 0.62209 acc: 77.75000\n"
     ]
    },
    {
     "name": "stdout",
     "output_type": "stream",
     "text": [
      "80\n",
      "[epoch: 2, batch:     81] loss: 0.01871 time model: 0.82860 acc: 103.85000\n"
     ]
    },
    {
     "name": "stdout",
     "output_type": "stream",
     "text": [
      "epoch:2 train loss: 0.013258647075678833 train acc: 0.8582800284292822 valid loss: 0.018921883087959408 valid acc: 0.810244470314319\n",
      "epoch:2 train loss: 0.013258647075678833 train acc: 0.8582800284292822 valid loss: 0.018921883087959408 valid acc: 0.810244470314319\n"
     ]
    },
    {
     "name": "stdout",
     "output_type": "stream",
     "text": [
      "20\n",
      "[epoch: 3, batch:     21] loss: 0.00794 time model: 0.65946 acc: 29.40000\n"
     ]
    },
    {
     "name": "stdout",
     "output_type": "stream",
     "text": [
      "40\n",
      "[epoch: 3, batch:     41] loss: 0.00881 time model: 1.31903 acc: 58.05000\n"
     ]
    },
    {
     "name": "stdout",
     "output_type": "stream",
     "text": [
      "60\n",
      "[epoch: 3, batch:     61] loss: 0.00905 time model: 1.97912 acc: 86.30000\n"
     ]
    },
    {
     "name": "stdout",
     "output_type": "stream",
     "text": [
      "80\n",
      "[epoch: 3, batch:     81] loss: 0.00952 time model: 2.63904 acc: 114.65000\n"
     ]
    },
    {
     "name": "stdout",
     "output_type": "stream",
     "text": [
      "100\n",
      "[epoch: 3, batch:    101] loss: 0.00967 time model: 3.29887 acc: 143.55000\n"
     ]
    },
    {
     "name": "stdout",
     "output_type": "stream",
     "text": [
      "120\n",
      "[epoch: 3, batch:    121] loss: 0.00993 time model: 3.95737 acc: 171.65000\n"
     ]
    },
    {
     "name": "stdout",
     "output_type": "stream",
     "text": [
      "140\n",
      "[epoch: 3, batch:    141] loss: 0.01019 time model: 4.61655 acc: 199.40000\n"
     ]
    },
    {
     "name": "stdout",
     "output_type": "stream",
     "text": [
      "160\n",
      "[epoch: 3, batch:    161] loss: 0.00992 time model: 5.27567 acc: 228.70000\n"
     ]
    },
    {
     "name": "stdout",
     "output_type": "stream",
     "text": [
      "180\n",
      "[epoch: 3, batch:    181] loss: 0.01014 time model: 5.93429 acc: 256.85000\n"
     ]
    },
    {
     "name": "stdout",
     "output_type": "stream",
     "text": [
      "200\n",
      "[epoch: 3, batch:    201] loss: 0.01007 time model: 6.59325 acc: 285.50000\n"
     ]
    },
    {
     "name": "stdout",
     "output_type": "stream",
     "text": [
      "220\n",
      "[epoch: 3, batch:    221] loss: 0.00996 time model: 7.25262 acc: 314.65000\n"
     ]
    },
    {
     "name": "stdout",
     "output_type": "stream",
     "text": [
      "240\n",
      "[epoch: 3, batch:    241] loss: 0.01000 time model: 7.91143 acc: 343.40000\n"
     ]
    },
    {
     "name": "stdout",
     "output_type": "stream",
     "text": [
      "260\n",
      "[epoch: 3, batch:    261] loss: 0.01004 time model: 8.57024 acc: 371.65000\n"
     ]
    },
    {
     "name": "stdout",
     "output_type": "stream",
     "text": [
      "280\n",
      "[epoch: 3, batch:    281] loss: 0.01004 time model: 9.22874 acc: 400.05000\n"
     ]
    },
    {
     "name": "stdout",
     "output_type": "stream",
     "text": [
      "300\n",
      "[epoch: 3, batch:    301] loss: 0.00996 time model: 9.88812 acc: 429.30000\n"
     ]
    },
    {
     "name": "stdout",
     "output_type": "stream",
     "text": [
      "320\n",
      "[epoch: 3, batch:    321] loss: 0.00985 time model: 10.54736 acc: 458.75000\n"
     ]
    },
    {
     "name": "stdout",
     "output_type": "stream",
     "text": [
      "340\n",
      "[epoch: 3, batch:    341] loss: 0.00990 time model: 11.20599 acc: 487.05000\n"
     ]
    },
    {
     "name": "stdout",
     "output_type": "stream",
     "text": [
      "360\n",
      "[epoch: 3, batch:    361] loss: 0.00994 time model: 11.86532 acc: 515.55000\n"
     ]
    },
    {
     "name": "stdout",
     "output_type": "stream",
     "text": [
      "380\n",
      "[epoch: 3, batch:    381] loss: 0.00988 time model: 12.52506 acc: 544.45000\n"
     ]
    },
    {
     "name": "stdout",
     "output_type": "stream",
     "text": [
      "400\n",
      "[epoch: 3, batch:    401] loss: 0.00983 time model: 13.18542 acc: 573.35000\n"
     ]
    },
    {
     "name": "stdout",
     "output_type": "stream",
     "text": [
      "420\n",
      "[epoch: 3, batch:    421] loss: 0.00983 time model: 13.84426 acc: 602.20000\n"
     ]
    },
    {
     "name": "stdout",
     "output_type": "stream",
     "text": [
      "440\n",
      "[epoch: 3, batch:    441] loss: 0.00983 time model: 14.50320 acc: 630.75000\n"
     ]
    },
    {
     "name": "stdout",
     "output_type": "stream",
     "text": [
      "460\n",
      "[epoch: 3, batch:    461] loss: 0.00980 time model: 15.16310 acc: 659.80000\n"
     ]
    },
    {
     "name": "stdout",
     "output_type": "stream",
     "text": [
      "480\n",
      "[epoch: 3, batch:    481] loss: 0.00982 time model: 15.82219 acc: 688.45000\n"
     ]
    },
    {
     "name": "stdout",
     "output_type": "stream",
     "text": [
      "500\n",
      "[epoch: 3, batch:    501] loss: 0.00973 time model: 16.48148 acc: 717.85000\n"
     ]
    },
    {
     "name": "stdout",
     "output_type": "stream",
     "text": [
      "520\n",
      "[epoch: 3, batch:    521] loss: 0.00972 time model: 17.14175 acc: 746.65000\n"
     ]
    },
    {
     "name": "stdout",
     "output_type": "stream",
     "text": [
      "540\n",
      "[epoch: 3, batch:    541] loss: 0.00971 time model: 17.80160 acc: 775.45000\n"
     ]
    },
    {
     "name": "stdout",
     "output_type": "stream",
     "text": [
      "560\n",
      "[epoch: 3, batch:    561] loss: 0.00961 time model: 18.46178 acc: 805.20000\n"
     ]
    },
    {
     "name": "stdout",
     "output_type": "stream",
     "text": [
      "580\n",
      "[epoch: 3, batch:    581] loss: 0.00959 time model: 19.12163 acc: 834.00000\n"
     ]
    },
    {
     "name": "stdout",
     "output_type": "stream",
     "text": [
      "600\n",
      "[epoch: 3, batch:    601] loss: 0.00952 time model: 19.78229 acc: 863.40000\n"
     ]
    },
    {
     "name": "stdout",
     "output_type": "stream",
     "text": [
      "620\n",
      "[epoch: 3, batch:    621] loss: 0.00950 time model: 20.44090 acc: 892.75000\n"
     ]
    },
    {
     "name": "stdout",
     "output_type": "stream",
     "text": [
      "640\n",
      "[epoch: 3, batch:    641] loss: 0.00949 time model: 21.09989 acc: 921.15000\n"
     ]
    },
    {
     "name": "stdout",
     "output_type": "stream",
     "text": [
      "660\n",
      "[epoch: 3, batch:    661] loss: 0.00949 time model: 21.74961 acc: 948.95000\n"
     ]
    },
    {
     "name": "stdout",
     "output_type": "stream",
     "text": [
      "20\n",
      "[epoch: 3, batch:     21] loss: 0.01485 time model: 0.21042 acc: 26.45000\n"
     ]
    },
    {
     "name": "stdout",
     "output_type": "stream",
     "text": [
      "40\n",
      "[epoch: 3, batch:     41] loss: 0.01470 time model: 0.41799 acc: 53.10000\n"
     ]
    },
    {
     "name": "stdout",
     "output_type": "stream",
     "text": [
      "60\n",
      "[epoch: 3, batch:     61] loss: 0.01424 time model: 0.62678 acc: 80.35000\n"
     ]
    },
    {
     "name": "stdout",
     "output_type": "stream",
     "text": [
      "80\n",
      "[epoch: 3, batch:     81] loss: 0.01389 time model: 0.83429 acc: 108.05000\n"
     ]
    },
    {
     "name": "stdout",
     "output_type": "stream",
     "text": [
      "epoch:3 train loss: 0.009492094063894412 train acc: 0.8992655768775172 valid loss: 0.013944736980031893 valid acc: 0.8443927046953822\n",
      "epoch:3 train loss: 0.009492094063894412 train acc: 0.8992655768775172 valid loss: 0.013944736980031893 valid acc: 0.8443927046953822\n"
     ]
    },
    {
     "name": "stdout",
     "output_type": "stream",
     "text": [
      "20\n",
      "[epoch: 4, batch:     21] loss: 0.00809 time model: 0.65997 acc: 29.15000\n"
     ]
    },
    {
     "name": "stdout",
     "output_type": "stream",
     "text": [
      "40\n",
      "[epoch: 4, batch:     41] loss: 0.00822 time model: 1.32030 acc: 58.15000\n"
     ]
    },
    {
     "name": "stdout",
     "output_type": "stream",
     "text": [
      "60\n",
      "[epoch: 4, batch:     61] loss: 0.00865 time model: 1.97981 acc: 87.00000\n"
     ]
    },
    {
     "name": "stdout",
     "output_type": "stream",
     "text": [
      "80\n",
      "[epoch: 4, batch:     81] loss: 0.00856 time model: 2.63968 acc: 116.35000\n"
     ]
    },
    {
     "name": "stdout",
     "output_type": "stream",
     "text": [
      "100\n",
      "[epoch: 4, batch:    101] loss: 0.00819 time model: 3.30025 acc: 146.15000\n"
     ]
    },
    {
     "name": "stdout",
     "output_type": "stream",
     "text": [
      "120\n",
      "[epoch: 4, batch:    121] loss: 0.00816 time model: 3.96061 acc: 175.15000\n"
     ]
    },
    {
     "name": "stdout",
     "output_type": "stream",
     "text": [
      "140\n",
      "[epoch: 4, batch:    141] loss: 0.00817 time model: 4.62094 acc: 204.55000\n"
     ]
    },
    {
     "name": "stdout",
     "output_type": "stream",
     "text": [
      "160\n",
      "[epoch: 4, batch:    161] loss: 0.00786 time model: 5.28051 acc: 234.75000\n"
     ]
    },
    {
     "name": "stdout",
     "output_type": "stream",
     "text": [
      "180\n",
      "[epoch: 4, batch:    181] loss: 0.00758 time model: 5.94036 acc: 265.00000\n"
     ]
    },
    {
     "name": "stdout",
     "output_type": "stream",
     "text": [
      "200\n",
      "[epoch: 4, batch:    201] loss: 0.00753 time model: 6.60092 acc: 294.50000\n"
     ]
    },
    {
     "name": "stdout",
     "output_type": "stream",
     "text": [
      "220\n",
      "[epoch: 4, batch:    221] loss: 0.00751 time model: 7.26097 acc: 324.05000\n"
     ]
    },
    {
     "name": "stdout",
     "output_type": "stream",
     "text": [
      "240\n",
      "[epoch: 4, batch:    241] loss: 0.00750 time model: 7.92142 acc: 353.90000\n"
     ]
    },
    {
     "name": "stdout",
     "output_type": "stream",
     "text": [
      "260\n",
      "[epoch: 4, batch:    261] loss: 0.00742 time model: 8.58199 acc: 383.35000\n"
     ]
    },
    {
     "name": "stdout",
     "output_type": "stream",
     "text": [
      "280\n",
      "[epoch: 4, batch:    281] loss: 0.00745 time model: 9.24131 acc: 412.55000\n"
     ]
    },
    {
     "name": "stdout",
     "output_type": "stream",
     "text": [
      "300\n",
      "[epoch: 4, batch:    301] loss: 0.00748 time model: 9.90085 acc: 442.10000\n"
     ]
    },
    {
     "name": "stdout",
     "output_type": "stream",
     "text": [
      "320\n",
      "[epoch: 4, batch:    321] loss: 0.00762 time model: 10.56020 acc: 470.85000\n"
     ]
    },
    {
     "name": "stdout",
     "output_type": "stream",
     "text": [
      "340\n",
      "[epoch: 4, batch:    341] loss: 0.00775 time model: 11.21940 acc: 499.80000\n"
     ]
    },
    {
     "name": "stdout",
     "output_type": "stream",
     "text": [
      "360\n",
      "[epoch: 4, batch:    361] loss: 0.00776 time model: 11.87922 acc: 529.05000\n"
     ]
    },
    {
     "name": "stdout",
     "output_type": "stream",
     "text": [
      "380\n",
      "[epoch: 4, batch:    381] loss: 0.00778 time model: 12.53887 acc: 558.35000\n"
     ]
    },
    {
     "name": "stdout",
     "output_type": "stream",
     "text": [
      "400\n",
      "[epoch: 4, batch:    401] loss: 0.00776 time model: 13.19846 acc: 587.80000\n"
     ]
    },
    {
     "name": "stdout",
     "output_type": "stream",
     "text": [
      "420\n",
      "[epoch: 4, batch:    421] loss: 0.00773 time model: 13.85783 acc: 617.25000\n"
     ]
    },
    {
     "name": "stdout",
     "output_type": "stream",
     "text": [
      "440\n",
      "[epoch: 4, batch:    441] loss: 0.00769 time model: 14.51612 acc: 646.95000\n"
     ]
    },
    {
     "name": "stdout",
     "output_type": "stream",
     "text": [
      "460\n",
      "[epoch: 4, batch:    461] loss: 0.00769 time model: 15.17511 acc: 676.10000\n"
     ]
    },
    {
     "name": "stdout",
     "output_type": "stream",
     "text": [
      "480\n",
      "[epoch: 4, batch:    481] loss: 0.00761 time model: 15.83539 acc: 706.30000\n"
     ]
    },
    {
     "name": "stdout",
     "output_type": "stream",
     "text": [
      "500\n",
      "[epoch: 4, batch:    501] loss: 0.00766 time model: 16.49436 acc: 735.20000\n"
     ]
    },
    {
     "name": "stdout",
     "output_type": "stream",
     "text": [
      "520\n",
      "[epoch: 4, batch:    521] loss: 0.00769 time model: 17.15371 acc: 764.50000\n"
     ]
    },
    {
     "name": "stdout",
     "output_type": "stream",
     "text": [
      "540\n",
      "[epoch: 4, batch:    541] loss: 0.00766 time model: 17.81419 acc: 794.20000\n"
     ]
    },
    {
     "name": "stdout",
     "output_type": "stream",
     "text": [
      "560\n",
      "[epoch: 4, batch:    561] loss: 0.00760 time model: 18.47351 acc: 824.15000\n"
     ]
    },
    {
     "name": "stdout",
     "output_type": "stream",
     "text": [
      "580\n",
      "[epoch: 4, batch:    581] loss: 0.00754 time model: 19.13179 acc: 854.30000\n"
     ]
    },
    {
     "name": "stdout",
     "output_type": "stream",
     "text": [
      "600\n",
      "[epoch: 4, batch:    601] loss: 0.00759 time model: 19.79068 acc: 883.25000\n"
     ]
    },
    {
     "name": "stdout",
     "output_type": "stream",
     "text": [
      "620\n",
      "[epoch: 4, batch:    621] loss: 0.00762 time model: 20.44912 acc: 912.25000\n"
     ]
    },
    {
     "name": "stdout",
     "output_type": "stream",
     "text": [
      "640\n",
      "[epoch: 4, batch:    641] loss: 0.00761 time model: 21.10875 acc: 941.60000\n"
     ]
    },
    {
     "name": "stdout",
     "output_type": "stream",
     "text": [
      "660\n",
      "[epoch: 4, batch:    661] loss: 0.00759 time model: 21.75896 acc: 970.60000\n"
     ]
    },
    {
     "name": "stdout",
     "output_type": "stream",
     "text": [
      "20\n",
      "[epoch: 4, batch:     21] loss: 0.01035 time model: 0.21025 acc: 28.55000\n"
     ]
    },
    {
     "name": "stdout",
     "output_type": "stream",
     "text": [
      "40\n",
      "[epoch: 4, batch:     41] loss: 0.01068 time model: 0.41756 acc: 57.15000\n"
     ]
    },
    {
     "name": "stdout",
     "output_type": "stream",
     "text": [
      "60\n",
      "[epoch: 4, batch:     61] loss: 0.01020 time model: 0.62537 acc: 86.15000\n"
     ]
    },
    {
     "name": "stdout",
     "output_type": "stream",
     "text": [
      "80\n",
      "[epoch: 4, batch:     81] loss: 0.01046 time model: 0.83375 acc: 113.90000\n"
     ]
    },
    {
     "name": "stdout",
     "output_type": "stream",
     "text": [
      "epoch:4 train loss: 0.007590723440167577 train acc: 0.9197820421701018 valid loss: 0.01042090183457155 valid acc: 0.8901823826154444\n",
      "epoch:4 train loss: 0.007590723440167577 train acc: 0.9197820421701018 valid loss: 0.01042090183457155 valid acc: 0.8901823826154444\n"
     ]
    },
    {
     "name": "stdout",
     "output_type": "stream",
     "text": [
      "20\n",
      "[epoch: 5, batch:     21] loss: 0.00760 time model: 0.66112 acc: 29.60000\n"
     ]
    },
    {
     "name": "stdout",
     "output_type": "stream",
     "text": [
      "40\n",
      "[epoch: 5, batch:     41] loss: 0.00712 time model: 1.32164 acc: 59.35000\n"
     ]
    },
    {
     "name": "stdout",
     "output_type": "stream",
     "text": [
      "60\n",
      "[epoch: 5, batch:     61] loss: 0.00713 time model: 1.98233 acc: 88.80000\n"
     ]
    },
    {
     "name": "stdout",
     "output_type": "stream",
     "text": [
      "80\n",
      "[epoch: 5, batch:     81] loss: 0.00721 time model: 2.64403 acc: 117.90000\n"
     ]
    },
    {
     "name": "stdout",
     "output_type": "stream",
     "text": [
      "100\n",
      "[epoch: 5, batch:    101] loss: 0.00687 time model: 3.30517 acc: 148.20000\n"
     ]
    },
    {
     "name": "stdout",
     "output_type": "stream",
     "text": [
      "120\n",
      "[epoch: 5, batch:    121] loss: 0.00656 time model: 3.96618 acc: 178.80000\n"
     ]
    },
    {
     "name": "stdout",
     "output_type": "stream",
     "text": [
      "140\n",
      "[epoch: 5, batch:    141] loss: 0.00658 time model: 4.62758 acc: 208.80000\n"
     ]
    },
    {
     "name": "stdout",
     "output_type": "stream",
     "text": [
      "160\n",
      "[epoch: 5, batch:    161] loss: 0.00671 time model: 5.28790 acc: 238.00000\n"
     ]
    },
    {
     "name": "stdout",
     "output_type": "stream",
     "text": [
      "180\n",
      "[epoch: 5, batch:    181] loss: 0.00655 time model: 5.94953 acc: 268.10000\n"
     ]
    },
    {
     "name": "stdout",
     "output_type": "stream",
     "text": [
      "200\n",
      "[epoch: 5, batch:    201] loss: 0.00679 time model: 6.61029 acc: 297.25000\n"
     ]
    },
    {
     "name": "stdout",
     "output_type": "stream",
     "text": [
      "220\n",
      "[epoch: 5, batch:    221] loss: 0.00685 time model: 7.27086 acc: 326.55000\n"
     ]
    },
    {
     "name": "stdout",
     "output_type": "stream",
     "text": [
      "240\n",
      "[epoch: 5, batch:    241] loss: 0.00681 time model: 7.93204 acc: 356.20000\n"
     ]
    },
    {
     "name": "stdout",
     "output_type": "stream",
     "text": [
      "260\n",
      "[epoch: 5, batch:    261] loss: 0.00671 time model: 8.59355 acc: 386.05000\n"
     ]
    },
    {
     "name": "stdout",
     "output_type": "stream",
     "text": [
      "280\n",
      "[epoch: 5, batch:    281] loss: 0.00650 time model: 9.25455 acc: 416.85000\n"
     ]
    },
    {
     "name": "stdout",
     "output_type": "stream",
     "text": [
      "300\n",
      "[epoch: 5, batch:    301] loss: 0.00642 time model: 9.91499 acc: 447.10000\n"
     ]
    },
    {
     "name": "stdout",
     "output_type": "stream",
     "text": [
      "320\n",
      "[epoch: 5, batch:    321] loss: 0.00642 time model: 10.57661 acc: 476.85000\n"
     ]
    },
    {
     "name": "stdout",
     "output_type": "stream",
     "text": [
      "340\n",
      "[epoch: 5, batch:    341] loss: 0.00639 time model: 11.23806 acc: 506.60000\n"
     ]
    },
    {
     "name": "stdout",
     "output_type": "stream",
     "text": [
      "360\n",
      "[epoch: 5, batch:    361] loss: 0.00635 time model: 11.89880 acc: 536.90000\n"
     ]
    },
    {
     "name": "stdout",
     "output_type": "stream",
     "text": [
      "380\n",
      "[epoch: 5, batch:    381] loss: 0.00626 time model: 12.55948 acc: 567.30000\n"
     ]
    },
    {
     "name": "stdout",
     "output_type": "stream",
     "text": [
      "400\n",
      "[epoch: 5, batch:    401] loss: 0.00624 time model: 13.21986 acc: 597.15000\n"
     ]
    },
    {
     "name": "stdout",
     "output_type": "stream",
     "text": [
      "420\n",
      "[epoch: 5, batch:    421] loss: 0.00618 time model: 13.88035 acc: 627.25000\n"
     ]
    },
    {
     "name": "stdout",
     "output_type": "stream",
     "text": [
      "440\n",
      "[epoch: 5, batch:    441] loss: 0.00618 time model: 14.54101 acc: 657.05000\n"
     ]
    },
    {
     "name": "stdout",
     "output_type": "stream",
     "text": [
      "460\n",
      "[epoch: 5, batch:    461] loss: 0.00620 time model: 15.20070 acc: 686.60000\n"
     ]
    },
    {
     "name": "stdout",
     "output_type": "stream",
     "text": [
      "480\n",
      "[epoch: 5, batch:    481] loss: 0.00620 time model: 15.86042 acc: 716.30000\n"
     ]
    },
    {
     "name": "stdout",
     "output_type": "stream",
     "text": [
      "500\n",
      "[epoch: 5, batch:    501] loss: 0.00623 time model: 16.51960 acc: 745.75000\n"
     ]
    },
    {
     "name": "stdout",
     "output_type": "stream",
     "text": [
      "520\n",
      "[epoch: 5, batch:    521] loss: 0.00627 time model: 17.17878 acc: 775.45000\n"
     ]
    },
    {
     "name": "stdout",
     "output_type": "stream",
     "text": [
      "540\n",
      "[epoch: 5, batch:    541] loss: 0.00629 time model: 17.83684 acc: 805.60000\n"
     ]
    },
    {
     "name": "stdout",
     "output_type": "stream",
     "text": [
      "560\n",
      "[epoch: 5, batch:    561] loss: 0.00628 time model: 18.49591 acc: 835.60000\n"
     ]
    },
    {
     "name": "stdout",
     "output_type": "stream",
     "text": [
      "580\n",
      "[epoch: 5, batch:    581] loss: 0.00636 time model: 19.15471 acc: 864.65000\n"
     ]
    },
    {
     "name": "stdout",
     "output_type": "stream",
     "text": [
      "600\n",
      "[epoch: 5, batch:    601] loss: 0.00638 time model: 19.81318 acc: 894.25000\n"
     ]
    },
    {
     "name": "stdout",
     "output_type": "stream",
     "text": [
      "620\n",
      "[epoch: 5, batch:    621] loss: 0.00633 time model: 20.47166 acc: 924.60000\n"
     ]
    },
    {
     "name": "stdout",
     "output_type": "stream",
     "text": [
      "640\n",
      "[epoch: 5, batch:    641] loss: 0.00633 time model: 21.13043 acc: 954.35000\n"
     ]
    },
    {
     "name": "stdout",
     "output_type": "stream",
     "text": [
      "660\n",
      "[epoch: 5, batch:    661] loss: 0.00634 time model: 21.77880 acc: 983.55000\n"
     ]
    },
    {
     "name": "stdout",
     "output_type": "stream",
     "text": [
      "20\n",
      "[epoch: 5, batch:     21] loss: 0.01202 time model: 0.21088 acc: 28.35000\n"
     ]
    },
    {
     "name": "stdout",
     "output_type": "stream",
     "text": [
      "40\n",
      "[epoch: 5, batch:     41] loss: 0.01212 time model: 0.41948 acc: 56.55000\n"
     ]
    },
    {
     "name": "stdout",
     "output_type": "stream",
     "text": [
      "60\n",
      "[epoch: 5, batch:     61] loss: 0.01102 time model: 0.62701 acc: 86.05000\n"
     ]
    },
    {
     "name": "stdout",
     "output_type": "stream",
     "text": [
      "80\n",
      "[epoch: 5, batch:     81] loss: 0.01109 time model: 0.83485 acc: 114.35000\n"
     ]
    },
    {
     "name": "stdout",
     "output_type": "stream",
     "text": [
      "epoch:5 train loss: 0.006337097672680717 train acc: 0.9320540156361052 valid loss: 0.011247225811211323 valid acc: 0.8928987194412107\n",
      "epoch:5 train loss: 0.006337097672680717 train acc: 0.9320540156361052 valid loss: 0.011247225811211323 valid acc: 0.8928987194412107\n"
     ]
    },
    {
     "name": "stdout",
     "output_type": "stream",
     "text": [
      "20\n",
      "[epoch: 6, batch:     21] loss: 0.00664 time model: 0.65951 acc: 29.80000\n"
     ]
    },
    {
     "name": "stdout",
     "output_type": "stream",
     "text": [
      "40\n",
      "[epoch: 6, batch:     41] loss: 0.00615 time model: 1.31764 acc: 59.90000\n"
     ]
    },
    {
     "name": "stdout",
     "output_type": "stream",
     "text": [
      "60\n",
      "[epoch: 6, batch:     61] loss: 0.00612 time model: 1.97581 acc: 89.85000\n"
     ]
    },
    {
     "name": "stdout",
     "output_type": "stream",
     "text": [
      "80\n",
      "[epoch: 6, batch:     81] loss: 0.00595 time model: 2.63479 acc: 120.15000\n"
     ]
    },
    {
     "name": "stdout",
     "output_type": "stream",
     "text": [
      "100\n",
      "[epoch: 6, batch:    101] loss: 0.00604 time model: 3.29341 acc: 149.60000\n"
     ]
    },
    {
     "name": "stdout",
     "output_type": "stream",
     "text": [
      "120\n",
      "[epoch: 6, batch:    121] loss: 0.00621 time model: 3.95217 acc: 179.00000\n"
     ]
    },
    {
     "name": "stdout",
     "output_type": "stream",
     "text": [
      "140\n",
      "[epoch: 6, batch:    141] loss: 0.00602 time model: 4.61041 acc: 209.25000\n"
     ]
    },
    {
     "name": "stdout",
     "output_type": "stream",
     "text": [
      "160\n",
      "[epoch: 6, batch:    161] loss: 0.00619 time model: 5.26850 acc: 238.70000\n"
     ]
    },
    {
     "name": "stdout",
     "output_type": "stream",
     "text": [
      "180\n",
      "[epoch: 6, batch:    181] loss: 0.00606 time model: 5.92754 acc: 268.65000\n"
     ]
    },
    {
     "name": "stdout",
     "output_type": "stream",
     "text": [
      "200\n",
      "[epoch: 6, batch:    201] loss: 0.00612 time model: 6.58627 acc: 298.15000\n"
     ]
    },
    {
     "name": "stdout",
     "output_type": "stream",
     "text": [
      "220\n",
      "[epoch: 6, batch:    221] loss: 0.00611 time model: 7.24579 acc: 328.15000\n"
     ]
    },
    {
     "name": "stdout",
     "output_type": "stream",
     "text": [
      "240\n",
      "[epoch: 6, batch:    241] loss: 0.00610 time model: 7.90458 acc: 358.20000\n"
     ]
    },
    {
     "name": "stdout",
     "output_type": "stream",
     "text": [
      "260\n",
      "[epoch: 6, batch:    261] loss: 0.00595 time model: 8.56369 acc: 388.85000\n"
     ]
    },
    {
     "name": "stdout",
     "output_type": "stream",
     "text": [
      "280\n",
      "[epoch: 6, batch:    281] loss: 0.00593 time model: 9.22216 acc: 418.85000\n"
     ]
    },
    {
     "name": "stdout",
     "output_type": "stream",
     "text": [
      "300\n",
      "[epoch: 6, batch:    301] loss: 0.00602 time model: 9.88011 acc: 448.60000\n"
     ]
    },
    {
     "name": "stdout",
     "output_type": "stream",
     "text": [
      "320\n",
      "[epoch: 6, batch:    321] loss: 0.00601 time model: 10.53859 acc: 478.35000\n"
     ]
    },
    {
     "name": "stdout",
     "output_type": "stream",
     "text": [
      "340\n",
      "[epoch: 6, batch:    341] loss: 0.00602 time model: 11.19703 acc: 508.15000\n"
     ]
    },
    {
     "name": "stdout",
     "output_type": "stream",
     "text": [
      "360\n",
      "[epoch: 6, batch:    361] loss: 0.00603 time model: 11.85523 acc: 538.05000\n"
     ]
    },
    {
     "name": "stdout",
     "output_type": "stream",
     "text": [
      "380\n",
      "[epoch: 6, batch:    381] loss: 0.00600 time model: 12.51365 acc: 568.10000\n"
     ]
    },
    {
     "name": "stdout",
     "output_type": "stream",
     "text": [
      "400\n",
      "[epoch: 6, batch:    401] loss: 0.00593 time model: 13.17229 acc: 598.45000\n"
     ]
    },
    {
     "name": "stdout",
     "output_type": "stream",
     "text": [
      "420\n",
      "[epoch: 6, batch:    421] loss: 0.00587 time model: 13.83130 acc: 628.70000\n"
     ]
    },
    {
     "name": "stdout",
     "output_type": "stream",
     "text": [
      "440\n",
      "[epoch: 6, batch:    441] loss: 0.00582 time model: 14.49020 acc: 658.90000\n"
     ]
    },
    {
     "name": "stdout",
     "output_type": "stream",
     "text": [
      "460\n",
      "[epoch: 6, batch:    461] loss: 0.00581 time model: 15.14788 acc: 688.90000\n"
     ]
    },
    {
     "name": "stdout",
     "output_type": "stream",
     "text": [
      "480\n",
      "[epoch: 6, batch:    481] loss: 0.00584 time model: 15.80468 acc: 718.60000\n"
     ]
    },
    {
     "name": "stdout",
     "output_type": "stream",
     "text": [
      "500\n",
      "[epoch: 6, batch:    501] loss: 0.00578 time model: 16.46142 acc: 749.10000\n"
     ]
    },
    {
     "name": "stdout",
     "output_type": "stream",
     "text": [
      "520\n",
      "[epoch: 6, batch:    521] loss: 0.00577 time model: 17.11846 acc: 779.30000\n"
     ]
    },
    {
     "name": "stdout",
     "output_type": "stream",
     "text": [
      "540\n",
      "[epoch: 6, batch:    541] loss: 0.00575 time model: 17.77576 acc: 809.60000\n"
     ]
    },
    {
     "name": "stdout",
     "output_type": "stream",
     "text": [
      "560\n",
      "[epoch: 6, batch:    561] loss: 0.00577 time model: 18.43233 acc: 839.15000\n"
     ]
    },
    {
     "name": "stdout",
     "output_type": "stream",
     "text": [
      "580\n",
      "[epoch: 6, batch:    581] loss: 0.00576 time model: 19.08882 acc: 869.00000\n"
     ]
    },
    {
     "name": "stdout",
     "output_type": "stream",
     "text": [
      "600\n",
      "[epoch: 6, batch:    601] loss: 0.00573 time model: 19.74578 acc: 899.20000\n"
     ]
    },
    {
     "name": "stdout",
     "output_type": "stream",
     "text": [
      "620\n",
      "[epoch: 6, batch:    621] loss: 0.00571 time model: 20.40363 acc: 929.60000\n"
     ]
    },
    {
     "name": "stdout",
     "output_type": "stream",
     "text": [
      "640\n",
      "[epoch: 6, batch:    641] loss: 0.00569 time model: 21.06027 acc: 960.00000\n"
     ]
    },
    {
     "name": "stdout",
     "output_type": "stream",
     "text": [
      "660\n",
      "[epoch: 6, batch:    661] loss: 0.00563 time model: 21.70750 acc: 989.90000\n"
     ]
    },
    {
     "name": "stdout",
     "output_type": "stream",
     "text": [
      "20\n",
      "[epoch: 6, batch:     21] loss: 0.00716 time model: 0.21007 acc: 29.50000\n"
     ]
    },
    {
     "name": "stdout",
     "output_type": "stream",
     "text": [
      "40\n",
      "[epoch: 6, batch:     41] loss: 0.00732 time model: 0.41774 acc: 59.10000\n"
     ]
    },
    {
     "name": "stdout",
     "output_type": "stream",
     "text": [
      "60\n",
      "[epoch: 6, batch:     61] loss: 0.00698 time model: 0.62548 acc: 88.80000\n"
     ]
    },
    {
     "name": "stdout",
     "output_type": "stream",
     "text": [
      "80\n",
      "[epoch: 6, batch:     81] loss: 0.00713 time model: 0.83268 acc: 118.40000\n"
     ]
    },
    {
     "name": "stdout",
     "output_type": "stream",
     "text": [
      "epoch:6 train loss: 0.0056347774591908525 train acc: 0.9380715470267709 valid loss: 0.007110394572143088 valid acc: 0.9254947613504074\n",
      "epoch:6 train loss: 0.0056347774591908525 train acc: 0.9380715470267709 valid loss: 0.007110394572143088 valid acc: 0.9254947613504074\n"
     ]
    },
    {
     "name": "stdout",
     "output_type": "stream",
     "text": [
      "20\n",
      "[epoch: 7, batch:     21] loss: 0.00309 time model: 0.65786 acc: 30.85000\n"
     ]
    },
    {
     "name": "stdout",
     "output_type": "stream",
     "text": [
      "40\n",
      "[epoch: 7, batch:     41] loss: 0.00403 time model: 1.31423 acc: 61.10000\n"
     ]
    },
    {
     "name": "stdout",
     "output_type": "stream",
     "text": [
      "60\n",
      "[epoch: 7, batch:     61] loss: 0.00402 time model: 1.97188 acc: 91.90000\n"
     ]
    },
    {
     "name": "stdout",
     "output_type": "stream",
     "text": [
      "80\n",
      "[epoch: 7, batch:     81] loss: 0.00404 time model: 2.62836 acc: 122.30000\n"
     ]
    },
    {
     "name": "stdout",
     "output_type": "stream",
     "text": [
      "100\n",
      "[epoch: 7, batch:    101] loss: 0.00400 time model: 3.28474 acc: 153.00000\n"
     ]
    },
    {
     "name": "stdout",
     "output_type": "stream",
     "text": [
      "120\n",
      "[epoch: 7, batch:    121] loss: 0.00416 time model: 3.94171 acc: 183.35000\n"
     ]
    },
    {
     "name": "stdout",
     "output_type": "stream",
     "text": [
      "140\n",
      "[epoch: 7, batch:    141] loss: 0.00434 time model: 4.59924 acc: 213.60000\n"
     ]
    },
    {
     "name": "stdout",
     "output_type": "stream",
     "text": [
      "160\n",
      "[epoch: 7, batch:    161] loss: 0.00453 time model: 5.25578 acc: 243.40000\n"
     ]
    },
    {
     "name": "stdout",
     "output_type": "stream",
     "text": [
      "180\n",
      "[epoch: 7, batch:    181] loss: 0.00460 time model: 5.91109 acc: 273.80000\n"
     ]
    },
    {
     "name": "stdout",
     "output_type": "stream",
     "text": [
      "200\n",
      "[epoch: 7, batch:    201] loss: 0.00462 time model: 6.56699 acc: 304.10000\n"
     ]
    },
    {
     "name": "stdout",
     "output_type": "stream",
     "text": [
      "220\n",
      "[epoch: 7, batch:    221] loss: 0.00474 time model: 7.22321 acc: 334.50000\n"
     ]
    },
    {
     "name": "stdout",
     "output_type": "stream",
     "text": [
      "240\n",
      "[epoch: 7, batch:    241] loss: 0.00482 time model: 7.87994 acc: 364.25000\n"
     ]
    },
    {
     "name": "stdout",
     "output_type": "stream",
     "text": [
      "260\n",
      "[epoch: 7, batch:    261] loss: 0.00486 time model: 8.53607 acc: 394.80000\n"
     ]
    },
    {
     "name": "stdout",
     "output_type": "stream",
     "text": [
      "280\n",
      "[epoch: 7, batch:    281] loss: 0.00495 time model: 9.19247 acc: 424.65000\n"
     ]
    },
    {
     "name": "stdout",
     "output_type": "stream",
     "text": [
      "300\n",
      "[epoch: 7, batch:    301] loss: 0.00511 time model: 9.84883 acc: 454.05000\n"
     ]
    },
    {
     "name": "stdout",
     "output_type": "stream",
     "text": [
      "320\n",
      "[epoch: 7, batch:    321] loss: 0.00517 time model: 10.50568 acc: 484.20000\n"
     ]
    },
    {
     "name": "stdout",
     "output_type": "stream",
     "text": [
      "340\n",
      "[epoch: 7, batch:    341] loss: 0.00516 time model: 11.16233 acc: 514.15000\n"
     ]
    },
    {
     "name": "stdout",
     "output_type": "stream",
     "text": [
      "360\n",
      "[epoch: 7, batch:    361] loss: 0.00512 time model: 11.81878 acc: 544.60000\n"
     ]
    },
    {
     "name": "stdout",
     "output_type": "stream",
     "text": [
      "380\n",
      "[epoch: 7, batch:    381] loss: 0.00514 time model: 12.47521 acc: 574.45000\n"
     ]
    },
    {
     "name": "stdout",
     "output_type": "stream",
     "text": [
      "400\n",
      "[epoch: 7, batch:    401] loss: 0.00511 time model: 13.13171 acc: 605.00000\n"
     ]
    },
    {
     "name": "stdout",
     "output_type": "stream",
     "text": [
      "420\n",
      "[epoch: 7, batch:    421] loss: 0.00517 time model: 13.78884 acc: 635.05000\n"
     ]
    },
    {
     "name": "stdout",
     "output_type": "stream",
     "text": [
      "440\n",
      "[epoch: 7, batch:    441] loss: 0.00514 time model: 14.44549 acc: 665.35000\n"
     ]
    },
    {
     "name": "stdout",
     "output_type": "stream",
     "text": [
      "460\n",
      "[epoch: 7, batch:    461] loss: 0.00510 time model: 15.10200 acc: 696.10000\n"
     ]
    },
    {
     "name": "stdout",
     "output_type": "stream",
     "text": [
      "480\n",
      "[epoch: 7, batch:    481] loss: 0.00508 time model: 15.75883 acc: 726.45000\n"
     ]
    },
    {
     "name": "stdout",
     "output_type": "stream",
     "text": [
      "500\n",
      "[epoch: 7, batch:    501] loss: 0.00508 time model: 16.41556 acc: 756.65000\n"
     ]
    },
    {
     "name": "stdout",
     "output_type": "stream",
     "text": [
      "520\n",
      "[epoch: 7, batch:    521] loss: 0.00504 time model: 17.07172 acc: 787.40000\n"
     ]
    },
    {
     "name": "stdout",
     "output_type": "stream",
     "text": [
      "540\n",
      "[epoch: 7, batch:    541] loss: 0.00502 time model: 17.72759 acc: 818.10000\n"
     ]
    },
    {
     "name": "stdout",
     "output_type": "stream",
     "text": [
      "560\n",
      "[epoch: 7, batch:    561] loss: 0.00499 time model: 18.38403 acc: 848.65000\n"
     ]
    },
    {
     "name": "stdout",
     "output_type": "stream",
     "text": [
      "580\n",
      "[epoch: 7, batch:    581] loss: 0.00496 time model: 19.04087 acc: 879.20000\n"
     ]
    },
    {
     "name": "stdout",
     "output_type": "stream",
     "text": [
      "600\n",
      "[epoch: 7, batch:    601] loss: 0.00497 time model: 19.69752 acc: 909.55000\n"
     ]
    },
    {
     "name": "stdout",
     "output_type": "stream",
     "text": [
      "620\n",
      "[epoch: 7, batch:    621] loss: 0.00497 time model: 20.35417 acc: 939.90000\n"
     ]
    },
    {
     "name": "stdout",
     "output_type": "stream",
     "text": [
      "640\n",
      "[epoch: 7, batch:    641] loss: 0.00497 time model: 21.01079 acc: 970.25000\n"
     ]
    },
    {
     "name": "stdout",
     "output_type": "stream",
     "text": [
      "660\n",
      "[epoch: 7, batch:    661] loss: 0.00496 time model: 21.65948 acc: 1000.10000\n"
     ]
    },
    {
     "name": "stdout",
     "output_type": "stream",
     "text": [
      "20\n",
      "[epoch: 7, batch:     21] loss: 0.00772 time model: 0.21030 acc: 29.20000\n"
     ]
    },
    {
     "name": "stdout",
     "output_type": "stream",
     "text": [
      "40\n",
      "[epoch: 7, batch:     41] loss: 0.00812 time model: 0.41873 acc: 59.40000\n"
     ]
    },
    {
     "name": "stdout",
     "output_type": "stream",
     "text": [
      "60\n",
      "[epoch: 7, batch:     61] loss: 0.00807 time model: 0.62641 acc: 88.75000\n"
     ]
    },
    {
     "name": "stdout",
     "output_type": "stream",
     "text": [
      "80\n",
      "[epoch: 7, batch:     81] loss: 0.00859 time model: 0.83391 acc: 117.70000\n"
     ]
    },
    {
     "name": "stdout",
     "output_type": "stream",
     "text": [
      "epoch:7 train loss: 0.00495615275786319 train acc: 0.9477375029613836 valid loss: 0.008556240564591672 valid acc: 0.9200620876988747\n",
      "epoch:7 train loss: 0.00495615275786319 train acc: 0.9477375029613836 valid loss: 0.008556240564591672 valid acc: 0.9200620876988747\n"
     ]
    },
    {
     "name": "stdout",
     "output_type": "stream",
     "text": [
      "20\n",
      "[epoch: 8, batch:     21] loss: 0.00366 time model: 0.66067 acc: 30.75000\n"
     ]
    },
    {
     "name": "stdout",
     "output_type": "stream",
     "text": [
      "40\n",
      "[epoch: 8, batch:     41] loss: 0.00408 time model: 1.32087 acc: 61.35000\n"
     ]
    },
    {
     "name": "stdout",
     "output_type": "stream",
     "text": [
      "60\n",
      "[epoch: 8, batch:     61] loss: 0.00371 time model: 1.97984 acc: 92.25000\n"
     ]
    },
    {
     "name": "stdout",
     "output_type": "stream",
     "text": [
      "80\n",
      "[epoch: 8, batch:     81] loss: 0.00409 time model: 2.63970 acc: 122.55000\n"
     ]
    },
    {
     "name": "stdout",
     "output_type": "stream",
     "text": [
      "100\n",
      "[epoch: 8, batch:    101] loss: 0.00426 time model: 3.29827 acc: 152.90000\n"
     ]
    },
    {
     "name": "stdout",
     "output_type": "stream",
     "text": [
      "120\n",
      "[epoch: 8, batch:    121] loss: 0.00429 time model: 3.95701 acc: 183.00000\n"
     ]
    },
    {
     "name": "stdout",
     "output_type": "stream",
     "text": [
      "140\n",
      "[epoch: 8, batch:    141] loss: 0.00428 time model: 4.61586 acc: 213.50000\n"
     ]
    },
    {
     "name": "stdout",
     "output_type": "stream",
     "text": [
      "160\n",
      "[epoch: 8, batch:    161] loss: 0.00424 time model: 5.27498 acc: 244.15000\n"
     ]
    },
    {
     "name": "stdout",
     "output_type": "stream",
     "text": [
      "180\n",
      "[epoch: 8, batch:    181] loss: 0.00427 time model: 5.93483 acc: 274.60000\n"
     ]
    },
    {
     "name": "stdout",
     "output_type": "stream",
     "text": [
      "200\n",
      "[epoch: 8, batch:    201] loss: 0.00428 time model: 6.59370 acc: 305.00000\n"
     ]
    },
    {
     "name": "stdout",
     "output_type": "stream",
     "text": [
      "220\n",
      "[epoch: 8, batch:    221] loss: 0.00440 time model: 7.25271 acc: 335.10000\n"
     ]
    },
    {
     "name": "stdout",
     "output_type": "stream",
     "text": [
      "240\n",
      "[epoch: 8, batch:    241] loss: 0.00446 time model: 7.91218 acc: 365.20000\n"
     ]
    },
    {
     "name": "stdout",
     "output_type": "stream",
     "text": [
      "260\n",
      "[epoch: 8, batch:    261] loss: 0.00454 time model: 8.57218 acc: 395.20000\n"
     ]
    },
    {
     "name": "stdout",
     "output_type": "stream",
     "text": [
      "280\n",
      "[epoch: 8, batch:    281] loss: 0.00456 time model: 9.23161 acc: 425.20000\n"
     ]
    },
    {
     "name": "stdout",
     "output_type": "stream",
     "text": [
      "300\n",
      "[epoch: 8, batch:    301] loss: 0.00470 time model: 9.89046 acc: 455.15000\n"
     ]
    },
    {
     "name": "stdout",
     "output_type": "stream",
     "text": [
      "320\n",
      "[epoch: 8, batch:    321] loss: 0.00474 time model: 10.54850 acc: 485.40000\n"
     ]
    },
    {
     "name": "stdout",
     "output_type": "stream",
     "text": [
      "340\n",
      "[epoch: 8, batch:    341] loss: 0.00464 time model: 11.20784 acc: 516.55000\n"
     ]
    },
    {
     "name": "stdout",
     "output_type": "stream",
     "text": [
      "360\n",
      "[epoch: 8, batch:    361] loss: 0.00466 time model: 11.86647 acc: 546.75000\n"
     ]
    },
    {
     "name": "stdout",
     "output_type": "stream",
     "text": [
      "380\n",
      "[epoch: 8, batch:    381] loss: 0.00462 time model: 12.52558 acc: 577.35000\n"
     ]
    },
    {
     "name": "stdout",
     "output_type": "stream",
     "text": [
      "400\n",
      "[epoch: 8, batch:    401] loss: 0.00461 time model: 13.18439 acc: 607.80000\n"
     ]
    },
    {
     "name": "stdout",
     "output_type": "stream",
     "text": [
      "420\n",
      "[epoch: 8, batch:    421] loss: 0.00457 time model: 13.84353 acc: 638.60000\n"
     ]
    },
    {
     "name": "stdout",
     "output_type": "stream",
     "text": [
      "440\n",
      "[epoch: 8, batch:    441] loss: 0.00454 time model: 14.50309 acc: 669.25000\n"
     ]
    },
    {
     "name": "stdout",
     "output_type": "stream",
     "text": [
      "460\n",
      "[epoch: 8, batch:    461] loss: 0.00454 time model: 15.16318 acc: 699.55000\n"
     ]
    },
    {
     "name": "stdout",
     "output_type": "stream",
     "text": [
      "480\n",
      "[epoch: 8, batch:    481] loss: 0.00450 time model: 15.82223 acc: 730.65000\n"
     ]
    },
    {
     "name": "stdout",
     "output_type": "stream",
     "text": [
      "500\n",
      "[epoch: 8, batch:    501] loss: 0.00451 time model: 16.48144 acc: 761.00000\n"
     ]
    },
    {
     "name": "stdout",
     "output_type": "stream",
     "text": [
      "520\n",
      "[epoch: 8, batch:    521] loss: 0.00452 time model: 17.14055 acc: 791.45000\n"
     ]
    },
    {
     "name": "stdout",
     "output_type": "stream",
     "text": [
      "540\n",
      "[epoch: 8, batch:    541] loss: 0.00448 time model: 17.79959 acc: 822.40000\n"
     ]
    },
    {
     "name": "stdout",
     "output_type": "stream",
     "text": [
      "560\n",
      "[epoch: 8, batch:    561] loss: 0.00447 time model: 18.45858 acc: 853.10000\n"
     ]
    },
    {
     "name": "stdout",
     "output_type": "stream",
     "text": [
      "580\n",
      "[epoch: 8, batch:    581] loss: 0.00443 time model: 19.11699 acc: 884.05000\n"
     ]
    },
    {
     "name": "stdout",
     "output_type": "stream",
     "text": [
      "600\n",
      "[epoch: 8, batch:    601] loss: 0.00441 time model: 19.77608 acc: 914.65000\n"
     ]
    },
    {
     "name": "stdout",
     "output_type": "stream",
     "text": [
      "620\n",
      "[epoch: 8, batch:    621] loss: 0.00440 time model: 20.43546 acc: 945.10000\n"
     ]
    },
    {
     "name": "stdout",
     "output_type": "stream",
     "text": [
      "640\n",
      "[epoch: 8, batch:    641] loss: 0.00438 time model: 21.09443 acc: 976.00000\n"
     ]
    },
    {
     "name": "stdout",
     "output_type": "stream",
     "text": [
      "660\n",
      "[epoch: 8, batch:    661] loss: 0.00442 time model: 21.74371 acc: 1005.50000\n"
     ]
    },
    {
     "name": "stdout",
     "output_type": "stream",
     "text": [
      "20\n",
      "[epoch: 8, batch:     21] loss: 0.00784 time model: 0.21117 acc: 29.70000\n"
     ]
    },
    {
     "name": "stdout",
     "output_type": "stream",
     "text": [
      "40\n",
      "[epoch: 8, batch:     41] loss: 0.00900 time model: 0.41961 acc: 58.75000\n"
     ]
    },
    {
     "name": "stdout",
     "output_type": "stream",
     "text": [
      "60\n",
      "[epoch: 8, batch:     61] loss: 0.00823 time model: 0.62683 acc: 88.50000\n"
     ]
    },
    {
     "name": "stdout",
     "output_type": "stream",
     "text": [
      "80\n",
      "[epoch: 8, batch:     81] loss: 0.00782 time model: 0.83453 acc: 118.70000\n"
     ]
    },
    {
     "name": "stdout",
     "output_type": "stream",
     "text": [
      "epoch:8 train loss: 0.004417993127946689 train acc: 0.9528547737502961 valid loss: 0.007885915823902415 valid acc: 0.9266589057043073\n",
      "epoch:8 train loss: 0.004417993127946689 train acc: 0.9528547737502961 valid loss: 0.007885915823902415 valid acc: 0.9266589057043073\n"
     ]
    },
    {
     "name": "stdout",
     "output_type": "stream",
     "text": [
      "20\n",
      "[epoch: 9, batch:     21] loss: 0.00322 time model: 0.65938 acc: 30.75000\n"
     ]
    },
    {
     "name": "stdout",
     "output_type": "stream",
     "text": [
      "40\n",
      "[epoch: 9, batch:     41] loss: 0.00348 time model: 1.31880 acc: 61.50000\n"
     ]
    },
    {
     "name": "stdout",
     "output_type": "stream",
     "text": [
      "60\n",
      "[epoch: 9, batch:     61] loss: 0.00350 time model: 1.97806 acc: 92.10000\n"
     ]
    },
    {
     "name": "stdout",
     "output_type": "stream",
     "text": [
      "80\n",
      "[epoch: 9, batch:     81] loss: 0.00353 time model: 2.63806 acc: 122.90000\n"
     ]
    },
    {
     "name": "stdout",
     "output_type": "stream",
     "text": [
      "100\n",
      "[epoch: 9, batch:    101] loss: 0.00344 time model: 3.29722 acc: 153.80000\n"
     ]
    },
    {
     "name": "stdout",
     "output_type": "stream",
     "text": [
      "120\n",
      "[epoch: 9, batch:    121] loss: 0.00373 time model: 3.95711 acc: 184.05000\n"
     ]
    },
    {
     "name": "stdout",
     "output_type": "stream",
     "text": [
      "140\n",
      "[epoch: 9, batch:    141] loss: 0.00375 time model: 4.61650 acc: 214.75000\n"
     ]
    },
    {
     "name": "stdout",
     "output_type": "stream",
     "text": [
      "160\n",
      "[epoch: 9, batch:    161] loss: 0.00390 time model: 5.27632 acc: 245.30000\n"
     ]
    },
    {
     "name": "stdout",
     "output_type": "stream",
     "text": [
      "180\n",
      "[epoch: 9, batch:    181] loss: 0.00394 time model: 5.93550 acc: 276.05000\n"
     ]
    },
    {
     "name": "stdout",
     "output_type": "stream",
     "text": [
      "200\n",
      "[epoch: 9, batch:    201] loss: 0.00396 time model: 6.59453 acc: 306.40000\n"
     ]
    },
    {
     "name": "stdout",
     "output_type": "stream",
     "text": [
      "220\n",
      "[epoch: 9, batch:    221] loss: 0.00387 time model: 7.25419 acc: 337.35000\n"
     ]
    },
    {
     "name": "stdout",
     "output_type": "stream",
     "text": [
      "240\n",
      "[epoch: 9, batch:    241] loss: 0.00393 time model: 7.91348 acc: 367.75000\n"
     ]
    },
    {
     "name": "stdout",
     "output_type": "stream",
     "text": [
      "260\n",
      "[epoch: 9, batch:    261] loss: 0.00404 time model: 8.57215 acc: 397.75000\n"
     ]
    },
    {
     "name": "stdout",
     "output_type": "stream",
     "text": [
      "280\n",
      "[epoch: 9, batch:    281] loss: 0.00401 time model: 9.23188 acc: 428.70000\n"
     ]
    },
    {
     "name": "stdout",
     "output_type": "stream",
     "text": [
      "300\n",
      "[epoch: 9, batch:    301] loss: 0.00396 time model: 9.89137 acc: 459.60000\n"
     ]
    },
    {
     "name": "stdout",
     "output_type": "stream",
     "text": [
      "320\n",
      "[epoch: 9, batch:    321] loss: 0.00395 time model: 10.55049 acc: 490.20000\n"
     ]
    },
    {
     "name": "stdout",
     "output_type": "stream",
     "text": [
      "340\n",
      "[epoch: 9, batch:    341] loss: 0.00398 time model: 11.20981 acc: 520.55000\n"
     ]
    },
    {
     "name": "stdout",
     "output_type": "stream",
     "text": [
      "360\n",
      "[epoch: 9, batch:    361] loss: 0.00396 time model: 11.86823 acc: 551.25000\n"
     ]
    },
    {
     "name": "stdout",
     "output_type": "stream",
     "text": [
      "380\n",
      "[epoch: 9, batch:    381] loss: 0.00396 time model: 12.52808 acc: 581.90000\n"
     ]
    },
    {
     "name": "stdout",
     "output_type": "stream",
     "text": [
      "400\n",
      "[epoch: 9, batch:    401] loss: 0.00395 time model: 13.18694 acc: 612.50000\n"
     ]
    },
    {
     "name": "stdout",
     "output_type": "stream",
     "text": [
      "420\n",
      "[epoch: 9, batch:    421] loss: 0.00392 time model: 13.84565 acc: 643.15000\n"
     ]
    },
    {
     "name": "stdout",
     "output_type": "stream",
     "text": [
      "440\n",
      "[epoch: 9, batch:    441] loss: 0.00396 time model: 14.50469 acc: 673.45000\n"
     ]
    },
    {
     "name": "stdout",
     "output_type": "stream",
     "text": [
      "460\n",
      "[epoch: 9, batch:    461] loss: 0.00396 time model: 15.16273 acc: 704.00000\n"
     ]
    },
    {
     "name": "stdout",
     "output_type": "stream",
     "text": [
      "480\n",
      "[epoch: 9, batch:    481] loss: 0.00401 time model: 15.82225 acc: 734.20000\n"
     ]
    },
    {
     "name": "stdout",
     "output_type": "stream",
     "text": [
      "500\n",
      "[epoch: 9, batch:    501] loss: 0.00409 time model: 16.48192 acc: 764.15000\n"
     ]
    },
    {
     "name": "stdout",
     "output_type": "stream",
     "text": [
      "520\n",
      "[epoch: 9, batch:    521] loss: 0.00409 time model: 17.14046 acc: 794.80000\n"
     ]
    },
    {
     "name": "stdout",
     "output_type": "stream",
     "text": [
      "540\n",
      "[epoch: 9, batch:    541] loss: 0.00412 time model: 17.79963 acc: 824.85000\n"
     ]
    },
    {
     "name": "stdout",
     "output_type": "stream",
     "text": [
      "560\n",
      "[epoch: 9, batch:    561] loss: 0.00421 time model: 18.45868 acc: 854.65000\n"
     ]
    },
    {
     "name": "stdout",
     "output_type": "stream",
     "text": [
      "580\n",
      "[epoch: 9, batch:    581] loss: 0.00419 time model: 19.11733 acc: 885.50000\n"
     ]
    },
    {
     "name": "stdout",
     "output_type": "stream",
     "text": [
      "600\n",
      "[epoch: 9, batch:    601] loss: 0.00422 time model: 19.77705 acc: 916.25000\n"
     ]
    },
    {
     "name": "stdout",
     "output_type": "stream",
     "text": [
      "620\n",
      "[epoch: 9, batch:    621] loss: 0.00423 time model: 20.43608 acc: 946.60000\n"
     ]
    },
    {
     "name": "stdout",
     "output_type": "stream",
     "text": [
      "640\n",
      "[epoch: 9, batch:    641] loss: 0.00420 time model: 21.09568 acc: 977.25000\n"
     ]
    },
    {
     "name": "stdout",
     "output_type": "stream",
     "text": [
      "660\n",
      "[epoch: 9, batch:    661] loss: 0.00418 time model: 21.74436 acc: 1007.45000\n"
     ]
    },
    {
     "name": "stdout",
     "output_type": "stream",
     "text": [
      "20\n",
      "[epoch: 9, batch:     21] loss: 0.00666 time model: 0.21153 acc: 29.85000\n"
     ]
    },
    {
     "name": "stdout",
     "output_type": "stream",
     "text": [
      "40\n",
      "[epoch: 9, batch:     41] loss: 0.00773 time model: 0.41935 acc: 59.55000\n"
     ]
    },
    {
     "name": "stdout",
     "output_type": "stream",
     "text": [
      "60\n",
      "[epoch: 9, batch:     61] loss: 0.00731 time model: 0.62740 acc: 89.85000\n"
     ]
    },
    {
     "name": "stdout",
     "output_type": "stream",
     "text": [
      "80\n",
      "[epoch: 9, batch:     81] loss: 0.00754 time model: 0.83491 acc: 119.15000\n"
     ]
    },
    {
     "name": "stdout",
     "output_type": "stream",
     "text": [
      "epoch:9 train loss: 0.0041838061314246515 train acc: 0.9547026770907368 valid loss: 0.007492905673467933 valid acc: 0.9313154831199069\n",
      "epoch:9 train loss: 0.0041838061314246515 train acc: 0.9547026770907368 valid loss: 0.007492905673467933 valid acc: 0.9313154831199069\n"
     ]
    },
    {
     "name": "stdout",
     "output_type": "stream",
     "text": [
      "20\n",
      "[epoch: 10, batch:     21] loss: 0.00413 time model: 0.65987 acc: 30.85000\n"
     ]
    },
    {
     "name": "stdout",
     "output_type": "stream",
     "text": [
      "40\n",
      "[epoch: 10, batch:     41] loss: 0.00394 time model: 1.31951 acc: 61.50000\n"
     ]
    },
    {
     "name": "stdout",
     "output_type": "stream",
     "text": [
      "60\n",
      "[epoch: 10, batch:     61] loss: 0.00366 time model: 1.97970 acc: 92.45000\n"
     ]
    },
    {
     "name": "stdout",
     "output_type": "stream",
     "text": [
      "80\n",
      "[epoch: 10, batch:     81] loss: 0.00363 time model: 2.63869 acc: 123.15000\n"
     ]
    },
    {
     "name": "stdout",
     "output_type": "stream",
     "text": [
      "100\n",
      "[epoch: 10, batch:    101] loss: 0.00363 time model: 3.29848 acc: 153.85000\n"
     ]
    },
    {
     "name": "stdout",
     "output_type": "stream",
     "text": [
      "120\n",
      "[epoch: 10, batch:    121] loss: 0.00359 time model: 3.95810 acc: 184.65000\n"
     ]
    },
    {
     "name": "stdout",
     "output_type": "stream",
     "text": [
      "140\n",
      "[epoch: 10, batch:    141] loss: 0.00360 time model: 4.61757 acc: 215.35000\n"
     ]
    },
    {
     "name": "stdout",
     "output_type": "stream",
     "text": [
      "160\n",
      "[epoch: 10, batch:    161] loss: 0.00344 time model: 5.27687 acc: 246.75000\n"
     ]
    },
    {
     "name": "stdout",
     "output_type": "stream",
     "text": [
      "180\n",
      "[epoch: 10, batch:    181] loss: 0.00345 time model: 5.93662 acc: 277.60000\n"
     ]
    },
    {
     "name": "stdout",
     "output_type": "stream",
     "text": [
      "200\n",
      "[epoch: 10, batch:    201] loss: 0.00342 time model: 6.59697 acc: 308.55000\n"
     ]
    },
    {
     "name": "stdout",
     "output_type": "stream",
     "text": [
      "220\n",
      "[epoch: 10, batch:    221] loss: 0.00343 time model: 7.25760 acc: 339.30000\n"
     ]
    },
    {
     "name": "stdout",
     "output_type": "stream",
     "text": [
      "240\n",
      "[epoch: 10, batch:    241] loss: 0.00345 time model: 7.91756 acc: 369.95000\n"
     ]
    },
    {
     "name": "stdout",
     "output_type": "stream",
     "text": [
      "260\n",
      "[epoch: 10, batch:    261] loss: 0.00357 time model: 8.57774 acc: 400.55000\n"
     ]
    },
    {
     "name": "stdout",
     "output_type": "stream",
     "text": [
      "280\n",
      "[epoch: 10, batch:    281] loss: 0.00364 time model: 9.23700 acc: 431.10000\n"
     ]
    },
    {
     "name": "stdout",
     "output_type": "stream",
     "text": [
      "300\n",
      "[epoch: 10, batch:    301] loss: 0.00373 time model: 9.89665 acc: 461.40000\n"
     ]
    },
    {
     "name": "stdout",
     "output_type": "stream",
     "text": [
      "320\n",
      "[epoch: 10, batch:    321] loss: 0.00380 time model: 10.55607 acc: 491.75000\n"
     ]
    },
    {
     "name": "stdout",
     "output_type": "stream",
     "text": [
      "340\n",
      "[epoch: 10, batch:    341] loss: 0.00380 time model: 11.21581 acc: 522.60000\n"
     ]
    },
    {
     "name": "stdout",
     "output_type": "stream",
     "text": [
      "360\n",
      "[epoch: 10, batch:    361] loss: 0.00370 time model: 11.87487 acc: 553.85000\n"
     ]
    },
    {
     "name": "stdout",
     "output_type": "stream",
     "text": [
      "380\n",
      "[epoch: 10, batch:    381] loss: 0.00363 time model: 12.53526 acc: 585.10000\n"
     ]
    },
    {
     "name": "stdout",
     "output_type": "stream",
     "text": [
      "400\n",
      "[epoch: 10, batch:    401] loss: 0.00367 time model: 13.19513 acc: 615.65000\n"
     ]
    },
    {
     "name": "stdout",
     "output_type": "stream",
     "text": [
      "420\n",
      "[epoch: 10, batch:    421] loss: 0.00375 time model: 13.85371 acc: 645.40000\n"
     ]
    },
    {
     "name": "stdout",
     "output_type": "stream",
     "text": [
      "440\n",
      "[epoch: 10, batch:    441] loss: 0.00376 time model: 14.51052 acc: 676.10000\n"
     ]
    },
    {
     "name": "stdout",
     "output_type": "stream",
     "text": [
      "460\n",
      "[epoch: 10, batch:    461] loss: 0.00376 time model: 15.16731 acc: 706.70000\n"
     ]
    },
    {
     "name": "stdout",
     "output_type": "stream",
     "text": [
      "480\n",
      "[epoch: 10, batch:    481] loss: 0.00376 time model: 15.82335 acc: 737.35000\n"
     ]
    },
    {
     "name": "stdout",
     "output_type": "stream",
     "text": [
      "500\n",
      "[epoch: 10, batch:    501] loss: 0.00376 time model: 16.47968 acc: 768.15000\n"
     ]
    },
    {
     "name": "stdout",
     "output_type": "stream",
     "text": [
      "520\n",
      "[epoch: 10, batch:    521] loss: 0.00375 time model: 17.13610 acc: 798.80000\n"
     ]
    },
    {
     "name": "stdout",
     "output_type": "stream",
     "text": [
      "540\n",
      "[epoch: 10, batch:    541] loss: 0.00378 time model: 17.79222 acc: 829.10000\n"
     ]
    },
    {
     "name": "stdout",
     "output_type": "stream",
     "text": [
      "560\n",
      "[epoch: 10, batch:    561] loss: 0.00377 time model: 18.44866 acc: 859.75000\n"
     ]
    },
    {
     "name": "stdout",
     "output_type": "stream",
     "text": [
      "580\n",
      "[epoch: 10, batch:    581] loss: 0.00374 time model: 19.10496 acc: 890.70000\n"
     ]
    },
    {
     "name": "stdout",
     "output_type": "stream",
     "text": [
      "600\n",
      "[epoch: 10, batch:    601] loss: 0.00377 time model: 19.76194 acc: 921.25000\n"
     ]
    },
    {
     "name": "stdout",
     "output_type": "stream",
     "text": [
      "620\n",
      "[epoch: 10, batch:    621] loss: 0.00376 time model: 20.41834 acc: 952.05000\n"
     ]
    },
    {
     "name": "stdout",
     "output_type": "stream",
     "text": [
      "640\n",
      "[epoch: 10, batch:    641] loss: 0.00380 time model: 21.07546 acc: 982.65000\n"
     ]
    },
    {
     "name": "stdout",
     "output_type": "stream",
     "text": [
      "660\n",
      "[epoch: 10, batch:    661] loss: 0.00381 time model: 21.72191 acc: 1012.40000\n"
     ]
    },
    {
     "name": "stdout",
     "output_type": "stream",
     "text": [
      "20\n",
      "[epoch: 10, batch:     21] loss: 0.00711 time model: 0.20891 acc: 29.65000\n"
     ]
    },
    {
     "name": "stdout",
     "output_type": "stream",
     "text": [
      "40\n",
      "[epoch: 10, batch:     41] loss: 0.00702 time model: 0.41618 acc: 59.40000\n"
     ]
    },
    {
     "name": "stdout",
     "output_type": "stream",
     "text": [
      "60\n",
      "[epoch: 10, batch:     61] loss: 0.00708 time model: 0.62338 acc: 89.05000\n"
     ]
    },
    {
     "name": "stdout",
     "output_type": "stream",
     "text": [
      "80\n",
      "[epoch: 10, batch:     81] loss: 0.00744 time model: 0.83024 acc: 118.40000\n"
     ]
    },
    {
     "name": "stdout",
     "output_type": "stream",
     "text": [
      "epoch:10 train loss: 0.0038075737109740065 train acc: 0.95939350864724 valid loss: 0.007400020106262276 valid acc: 0.9254947613504074\n",
      "epoch:10 train loss: 0.0038075737109740065 train acc: 0.95939350864724 valid loss: 0.007400020106262276 valid acc: 0.9254947613504074\n"
     ]
    }
   ],
   "source": [
    "MODELNAME = 'full_dataset_normal'\n",
    "LOGFILE_PATH = 'logs/' + MODELNAME\n",
    "global_eps = 0.3\n",
    "\n",
    "def fgsm(model, X, y, epsilon=0.3):\n",
    "    \"\"\" Construct FGSM adversarial examples on the examples X\"\"\"\n",
    "    epsilon = global_eps\n",
    "    delta = torch.zeros_like(X, requires_grad=True)\n",
    "    delta = delta.cuda()\n",
    "    loss = nn.CrossEntropyLoss()(model(X + delta), y)\n",
    "    loss.backward()\n",
    "    return epsilon * delta.grad.detach().sign()\n",
    "\n",
    "\n",
    "def pgd_linf(model, X, y, epsilon=0.1, alpha=0.01, num_iter=20, randomize=False):\n",
    "    \"\"\" Construct PGD adversarial examples on the examples X\"\"\"\n",
    "    epsilon = global_eps\n",
    "    if randomize:\n",
    "        delta = torch.rand_like(X, requires_grad=True)\n",
    "        delta.data = delta.data * 2 * epsilon - epsilon\n",
    "    else:\n",
    "        delta = torch.zeros_like(X, requires_grad=True)\n",
    "        \n",
    "    for t in range(num_iter):\n",
    "        loss = nn.CrossEntropyLoss()(model(X + delta), y)\n",
    "        loss.backward()\n",
    "        delta.data = (delta + alpha*delta.grad.detach().sign()).clamp(-epsilon,epsilon)\n",
    "        delta.grad.zero_()\n",
    "    return delta.detach()\n",
    "\n",
    "from models.resnet import ResNet, resnet34\n",
    "model = resnet34(pretrained=False, progress=False).cuda()\n",
    "criterion = torch.nn.CrossEntropyLoss()\n",
    "\n",
    "for param in model.parameters():\n",
    "  param.requires_grad = True\n",
    "\n",
    "trainer = BaseTrainer(model=model, train_dl=train_data_loader, valid_dl=valid_data_loader, test_dl=valid_data_loader, criterion=criterion, model_filename=MODELNAME, n_epochs=1)\n",
    "trainer.fit_model_new(optimizer=optim.Adam(model.parameters(), lr=.001), n_epochs=10, model_filename=MODELNAME, attack=None)"
   ]
  },
  {
   "cell_type": "code",
   "execution_count": 24,
   "metadata": {
    "papermill": {
     "duration": 9319.748074,
     "end_time": "2019-11-05T07:26:08.899766",
     "exception": false,
     "start_time": "2019-11-05T04:50:49.151692",
     "status": "completed"
    },
    "tags": []
   },
   "outputs": [
    {
     "name": "stdout",
     "output_type": "stream",
     "text": [
      "20\n",
      "[epoch: 1, batch:     21] loss: 0.08991 time model: 1.30457 acc: 1.75000\n"
     ]
    },
    {
     "name": "stdout",
     "output_type": "stream",
     "text": [
      "40\n",
      "[epoch: 1, batch:     41] loss: 0.08336 time model: 2.60634 acc: 4.15000\n"
     ]
    },
    {
     "name": "stdout",
     "output_type": "stream",
     "text": [
      "60\n",
      "[epoch: 1, batch:     61] loss: 0.08045 time model: 3.90670 acc: 6.90000\n"
     ]
    },
    {
     "name": "stdout",
     "output_type": "stream",
     "text": [
      "80\n",
      "[epoch: 1, batch:     81] loss: 0.07918 time model: 5.20701 acc: 9.80000\n"
     ]
    },
    {
     "name": "stdout",
     "output_type": "stream",
     "text": [
      "100\n",
      "[epoch: 1, batch:    101] loss: 0.07846 time model: 6.50867 acc: 12.45000\n"
     ]
    },
    {
     "name": "stdout",
     "output_type": "stream",
     "text": [
      "120\n",
      "[epoch: 1, batch:    121] loss: 0.07767 time model: 7.80946 acc: 15.40000\n"
     ]
    },
    {
     "name": "stdout",
     "output_type": "stream",
     "text": [
      "140\n",
      "[epoch: 1, batch:    141] loss: 0.07711 time model: 9.10977 acc: 18.95000\n"
     ]
    },
    {
     "name": "stdout",
     "output_type": "stream",
     "text": [
      "160\n",
      "[epoch: 1, batch:    161] loss: 0.07669 time model: 10.41170 acc: 22.30000\n"
     ]
    },
    {
     "name": "stdout",
     "output_type": "stream",
     "text": [
      "180\n",
      "[epoch: 1, batch:    181] loss: 0.07628 time model: 11.71181 acc: 26.45000\n"
     ]
    },
    {
     "name": "stdout",
     "output_type": "stream",
     "text": [
      "200\n",
      "[epoch: 1, batch:    201] loss: 0.07584 time model: 13.01216 acc: 30.75000\n"
     ]
    },
    {
     "name": "stdout",
     "output_type": "stream",
     "text": [
      "220\n",
      "[epoch: 1, batch:    221] loss: 0.07571 time model: 14.31350 acc: 34.35000\n"
     ]
    },
    {
     "name": "stdout",
     "output_type": "stream",
     "text": [
      "240\n",
      "[epoch: 1, batch:    241] loss: 0.07545 time model: 15.61428 acc: 37.55000\n"
     ]
    },
    {
     "name": "stdout",
     "output_type": "stream",
     "text": [
      "260\n",
      "[epoch: 1, batch:    261] loss: 0.07524 time model: 16.91447 acc: 40.75000\n"
     ]
    },
    {
     "name": "stdout",
     "output_type": "stream",
     "text": [
      "280\n",
      "[epoch: 1, batch:    281] loss: 0.07507 time model: 18.21577 acc: 44.10000\n"
     ]
    },
    {
     "name": "stdout",
     "output_type": "stream",
     "text": [
      "300\n",
      "[epoch: 1, batch:    301] loss: 0.07490 time model: 19.51645 acc: 48.20000\n"
     ]
    },
    {
     "name": "stdout",
     "output_type": "stream",
     "text": [
      "320\n",
      "[epoch: 1, batch:    321] loss: 0.07475 time model: 20.81671 acc: 51.95000\n"
     ]
    },
    {
     "name": "stdout",
     "output_type": "stream",
     "text": [
      "340\n",
      "[epoch: 1, batch:    341] loss: 0.07459 time model: 22.11825 acc: 55.90000\n"
     ]
    },
    {
     "name": "stdout",
     "output_type": "stream",
     "text": [
      "360\n",
      "[epoch: 1, batch:    361] loss: 0.07447 time model: 23.41920 acc: 60.35000\n"
     ]
    },
    {
     "name": "stdout",
     "output_type": "stream",
     "text": [
      "380\n",
      "[epoch: 1, batch:    381] loss: 0.07438 time model: 24.71853 acc: 64.55000\n"
     ]
    },
    {
     "name": "stdout",
     "output_type": "stream",
     "text": [
      "400\n",
      "[epoch: 1, batch:    401] loss: 0.07429 time model: 26.01949 acc: 68.40000\n"
     ]
    },
    {
     "name": "stdout",
     "output_type": "stream",
     "text": [
      "420\n",
      "[epoch: 1, batch:    421] loss: 0.07420 time model: 27.31914 acc: 72.95000\n"
     ]
    },
    {
     "name": "stdout",
     "output_type": "stream",
     "text": [
      "440\n",
      "[epoch: 1, batch:    441] loss: 0.07405 time model: 28.62058 acc: 77.45000\n"
     ]
    },
    {
     "name": "stdout",
     "output_type": "stream",
     "text": [
      "460\n",
      "[epoch: 1, batch:    461] loss: 0.07401 time model: 29.92112 acc: 81.25000\n"
     ]
    },
    {
     "name": "stdout",
     "output_type": "stream",
     "text": [
      "480\n",
      "[epoch: 1, batch:    481] loss: 0.07394 time model: 31.22141 acc: 85.00000\n"
     ]
    },
    {
     "name": "stdout",
     "output_type": "stream",
     "text": [
      "500\n",
      "[epoch: 1, batch:    501] loss: 0.07389 time model: 32.52186 acc: 90.55000\n"
     ]
    },
    {
     "name": "stdout",
     "output_type": "stream",
     "text": [
      "520\n",
      "[epoch: 1, batch:    521] loss: 0.07377 time model: 33.82335 acc: 94.60000\n"
     ]
    },
    {
     "name": "stdout",
     "output_type": "stream",
     "text": [
      "540\n",
      "[epoch: 1, batch:    541] loss: 0.07370 time model: 35.12466 acc: 98.15000\n"
     ]
    },
    {
     "name": "stdout",
     "output_type": "stream",
     "text": [
      "560\n",
      "[epoch: 1, batch:    561] loss: 0.07379 time model: 36.42526 acc: 101.50000\n"
     ]
    },
    {
     "name": "stdout",
     "output_type": "stream",
     "text": [
      "580\n",
      "[epoch: 1, batch:    581] loss: 0.07372 time model: 37.72625 acc: 105.45000\n"
     ]
    },
    {
     "name": "stdout",
     "output_type": "stream",
     "text": [
      "600\n",
      "[epoch: 1, batch:    601] loss: 0.07364 time model: 39.02691 acc: 110.30000\n"
     ]
    },
    {
     "name": "stdout",
     "output_type": "stream",
     "text": [
      "620\n",
      "[epoch: 1, batch:    621] loss: 0.07358 time model: 40.32733 acc: 115.20000\n"
     ]
    },
    {
     "name": "stdout",
     "output_type": "stream",
     "text": [
      "640\n",
      "[epoch: 1, batch:    641] loss: 0.07353 time model: 41.62925 acc: 119.35000\n"
     ]
    },
    {
     "name": "stdout",
     "output_type": "stream",
     "text": [
      "660\n",
      "[epoch: 1, batch:    661] loss: 0.07358 time model: 42.91386 acc: 122.20000\n"
     ]
    },
    {
     "name": "stdout",
     "output_type": "stream",
     "text": [
      "20\n",
      "[epoch: 1, batch:     21] loss: 0.07388 time model: 0.84493 acc: 3.45000\n"
     ]
    },
    {
     "name": "stdout",
     "output_type": "stream",
     "text": [
      "40\n",
      "[epoch: 1, batch:     41] loss: 0.07440 time model: 1.69005 acc: 6.70000\n"
     ]
    },
    {
     "name": "stdout",
     "output_type": "stream",
     "text": [
      "60\n",
      "[epoch: 1, batch:     61] loss: 0.07498 time model: 2.53616 acc: 10.15000\n"
     ]
    },
    {
     "name": "stdout",
     "output_type": "stream",
     "text": [
      "80\n",
      "[epoch: 1, batch:     81] loss: 0.07513 time model: 3.38132 acc: 13.50000\n"
     ]
    },
    {
     "name": "stdout",
     "output_type": "stream",
     "text": [
      "epoch:1 train loss: 0.07358461962692886 train acc: 0.11580194266761432 valid loss: 0.07556989871118713 valid acc: 0.10554908808692277\n",
      "epoch:1 train loss: 0.07358461962692886 train acc: 0.11580194266761432 valid loss: 0.07556989871118713 valid acc: 0.10554908808692277\n"
     ]
    },
    {
     "name": "stdout",
     "output_type": "stream",
     "text": [
      "20\n",
      "[epoch: 2, batch:     21] loss: 0.06991 time model: 1.30503 acc: 4.25000\n"
     ]
    },
    {
     "name": "stdout",
     "output_type": "stream",
     "text": [
      "40\n",
      "[epoch: 2, batch:     41] loss: 0.06979 time model: 2.61022 acc: 9.30000\n"
     ]
    },
    {
     "name": "stdout",
     "output_type": "stream",
     "text": [
      "60\n",
      "[epoch: 2, batch:     61] loss: 0.07183 time model: 3.91350 acc: 13.60000\n"
     ]
    },
    {
     "name": "stdout",
     "output_type": "stream",
     "text": [
      "80\n",
      "[epoch: 2, batch:     81] loss: 0.07211 time model: 5.21721 acc: 17.15000\n"
     ]
    },
    {
     "name": "stdout",
     "output_type": "stream",
     "text": [
      "100\n",
      "[epoch: 2, batch:    101] loss: 0.07195 time model: 6.52130 acc: 20.85000\n"
     ]
    },
    {
     "name": "stdout",
     "output_type": "stream",
     "text": [
      "120\n",
      "[epoch: 2, batch:    121] loss: 0.07210 time model: 7.82601 acc: 25.10000\n"
     ]
    },
    {
     "name": "stdout",
     "output_type": "stream",
     "text": [
      "140\n",
      "[epoch: 2, batch:    141] loss: 0.07189 time model: 9.12974 acc: 29.70000\n"
     ]
    },
    {
     "name": "stdout",
     "output_type": "stream",
     "text": [
      "160\n",
      "[epoch: 2, batch:    161] loss: 0.07183 time model: 10.43475 acc: 34.70000\n"
     ]
    },
    {
     "name": "stdout",
     "output_type": "stream",
     "text": [
      "180\n",
      "[epoch: 2, batch:    181] loss: 0.07180 time model: 11.73929 acc: 38.45000\n"
     ]
    },
    {
     "name": "stdout",
     "output_type": "stream",
     "text": [
      "200\n",
      "[epoch: 2, batch:    201] loss: 0.07169 time model: 13.04298 acc: 42.90000\n"
     ]
    },
    {
     "name": "stdout",
     "output_type": "stream",
     "text": [
      "220\n",
      "[epoch: 2, batch:    221] loss: 0.07181 time model: 14.34698 acc: 47.35000\n"
     ]
    },
    {
     "name": "stdout",
     "output_type": "stream",
     "text": [
      "240\n",
      "[epoch: 2, batch:    241] loss: 0.07194 time model: 15.65224 acc: 52.85000\n"
     ]
    },
    {
     "name": "stdout",
     "output_type": "stream",
     "text": [
      "260\n",
      "[epoch: 2, batch:    261] loss: 0.07194 time model: 16.95487 acc: 57.95000\n"
     ]
    },
    {
     "name": "stdout",
     "output_type": "stream",
     "text": [
      "280\n",
      "[epoch: 2, batch:    281] loss: 0.07190 time model: 18.25892 acc: 63.90000\n"
     ]
    },
    {
     "name": "stdout",
     "output_type": "stream",
     "text": [
      "300\n",
      "[epoch: 2, batch:    301] loss: 0.07167 time model: 19.56309 acc: 69.65000\n"
     ]
    },
    {
     "name": "stdout",
     "output_type": "stream",
     "text": [
      "320\n",
      "[epoch: 2, batch:    321] loss: 0.07117 time model: 20.86796 acc: 78.50000\n"
     ]
    },
    {
     "name": "stdout",
     "output_type": "stream",
     "text": [
      "340\n",
      "[epoch: 2, batch:    341] loss: 0.07037 time model: 22.17293 acc: 89.85000\n"
     ]
    },
    {
     "name": "stdout",
     "output_type": "stream",
     "text": [
      "360\n",
      "[epoch: 2, batch:    361] loss: 0.06930 time model: 23.47684 acc: 102.20000\n"
     ]
    },
    {
     "name": "stdout",
     "output_type": "stream",
     "text": [
      "380\n",
      "[epoch: 2, batch:    381] loss: 0.06823 time model: 24.78176 acc: 115.45000\n"
     ]
    },
    {
     "name": "stdout",
     "output_type": "stream",
     "text": [
      "400\n",
      "[epoch: 2, batch:    401] loss: 0.06722 time model: 26.08532 acc: 129.40000\n"
     ]
    },
    {
     "name": "stdout",
     "output_type": "stream",
     "text": [
      "420\n",
      "[epoch: 2, batch:    421] loss: 0.06626 time model: 27.39018 acc: 143.45000\n"
     ]
    },
    {
     "name": "stdout",
     "output_type": "stream",
     "text": [
      "440\n",
      "[epoch: 2, batch:    441] loss: 0.06497 time model: 28.69422 acc: 161.50000\n"
     ]
    },
    {
     "name": "stdout",
     "output_type": "stream",
     "text": [
      "460\n",
      "[epoch: 2, batch:    461] loss: 0.06375 time model: 29.99976 acc: 179.40000\n"
     ]
    },
    {
     "name": "stdout",
     "output_type": "stream",
     "text": [
      "480\n",
      "[epoch: 2, batch:    481] loss: 0.06271 time model: 31.30440 acc: 196.65000\n"
     ]
    },
    {
     "name": "stdout",
     "output_type": "stream",
     "text": [
      "500\n",
      "[epoch: 2, batch:    501] loss: 0.06155 time model: 32.60943 acc: 216.25000\n"
     ]
    },
    {
     "name": "stdout",
     "output_type": "stream",
     "text": [
      "520\n",
      "[epoch: 2, batch:    521] loss: 0.06035 time model: 33.91423 acc: 236.85000\n"
     ]
    },
    {
     "name": "stdout",
     "output_type": "stream",
     "text": [
      "540\n",
      "[epoch: 2, batch:    541] loss: 0.05922 time model: 35.21974 acc: 257.75000\n"
     ]
    },
    {
     "name": "stdout",
     "output_type": "stream",
     "text": [
      "560\n",
      "[epoch: 2, batch:    561] loss: 0.05815 time model: 36.52318 acc: 279.50000\n"
     ]
    },
    {
     "name": "stdout",
     "output_type": "stream",
     "text": [
      "580\n",
      "[epoch: 2, batch:    581] loss: 0.05697 time model: 37.82762 acc: 302.75000\n"
     ]
    },
    {
     "name": "stdout",
     "output_type": "stream",
     "text": [
      "600\n",
      "[epoch: 2, batch:    601] loss: 0.05563 time model: 39.13133 acc: 329.40000\n"
     ]
    },
    {
     "name": "stdout",
     "output_type": "stream",
     "text": [
      "620\n",
      "[epoch: 2, batch:    621] loss: 0.05439 time model: 40.43539 acc: 356.00000\n"
     ]
    },
    {
     "name": "stdout",
     "output_type": "stream",
     "text": [
      "640\n",
      "[epoch: 2, batch:    641] loss: 0.05324 time model: 41.74047 acc: 382.50000\n"
     ]
    },
    {
     "name": "stdout",
     "output_type": "stream",
     "text": [
      "660\n",
      "[epoch: 2, batch:    661] loss: 0.05212 time model: 43.02642 acc: 409.00000\n"
     ]
    },
    {
     "name": "stdout",
     "output_type": "stream",
     "text": [
      "20\n",
      "[epoch: 2, batch:     21] loss: 0.01791 time model: 0.84495 acc: 25.50000\n"
     ]
    },
    {
     "name": "stdout",
     "output_type": "stream",
     "text": [
      "40\n",
      "[epoch: 2, batch:     41] loss: 0.01817 time model: 1.68999 acc: 51.05000\n"
     ]
    },
    {
     "name": "stdout",
     "output_type": "stream",
     "text": [
      "60\n",
      "[epoch: 2, batch:     61] loss: 0.01816 time model: 2.53562 acc: 77.20000\n"
     ]
    },
    {
     "name": "stdout",
     "output_type": "stream",
     "text": [
      "80\n",
      "[epoch: 2, batch:     81] loss: 0.01830 time model: 3.37998 acc: 102.95000\n"
     ]
    },
    {
     "name": "stdout",
     "output_type": "stream",
     "text": [
      "epoch:2 train loss: 0.05212200360186883 train acc: 0.38758588012319356 valid loss: 0.018389310394325228 valid acc: 0.8044237485448196\n",
      "epoch:2 train loss: 0.05212200360186883 train acc: 0.38758588012319356 valid loss: 0.018389310394325228 valid acc: 0.8044237485448196\n"
     ]
    },
    {
     "name": "stdout",
     "output_type": "stream",
     "text": [
      "20\n",
      "[epoch: 3, batch:     21] loss: 0.01906 time model: 1.30696 acc: 26.05000\n"
     ]
    },
    {
     "name": "stdout",
     "output_type": "stream",
     "text": [
      "40\n",
      "[epoch: 3, batch:     41] loss: 0.01801 time model: 2.61197 acc: 52.00000\n"
     ]
    },
    {
     "name": "stdout",
     "output_type": "stream",
     "text": [
      "60\n",
      "[epoch: 3, batch:     61] loss: 0.02066 time model: 3.91745 acc: 75.00000\n"
     ]
    },
    {
     "name": "stdout",
     "output_type": "stream",
     "text": [
      "80\n",
      "[epoch: 3, batch:     81] loss: 0.02114 time model: 5.22348 acc: 98.90000\n"
     ]
    },
    {
     "name": "stdout",
     "output_type": "stream",
     "text": [
      "100\n",
      "[epoch: 3, batch:    101] loss: 0.02029 time model: 6.52754 acc: 124.40000\n"
     ]
    },
    {
     "name": "stdout",
     "output_type": "stream",
     "text": [
      "120\n",
      "[epoch: 3, batch:    121] loss: 0.01918 time model: 7.83439 acc: 151.75000\n"
     ]
    },
    {
     "name": "stdout",
     "output_type": "stream",
     "text": [
      "140\n",
      "[epoch: 3, batch:    141] loss: 0.01829 time model: 9.14045 acc: 179.25000\n"
     ]
    },
    {
     "name": "stdout",
     "output_type": "stream",
     "text": [
      "160\n",
      "[epoch: 3, batch:    161] loss: 0.01726 time model: 10.44391 acc: 208.25000\n"
     ]
    },
    {
     "name": "stdout",
     "output_type": "stream",
     "text": [
      "180\n",
      "[epoch: 3, batch:    181] loss: 0.01652 time model: 11.74578 acc: 237.25000\n"
     ]
    },
    {
     "name": "stdout",
     "output_type": "stream",
     "text": [
      "200\n",
      "[epoch: 3, batch:    201] loss: 0.01662 time model: 13.04780 acc: 263.35000\n"
     ]
    },
    {
     "name": "stdout",
     "output_type": "stream",
     "text": [
      "220\n",
      "[epoch: 3, batch:    221] loss: 0.01673 time model: 14.34929 acc: 288.90000\n"
     ]
    },
    {
     "name": "stdout",
     "output_type": "stream",
     "text": [
      "240\n",
      "[epoch: 3, batch:    241] loss: 0.01653 time model: 15.65034 acc: 316.35000\n"
     ]
    },
    {
     "name": "stdout",
     "output_type": "stream",
     "text": [
      "260\n",
      "[epoch: 3, batch:    261] loss: 0.01617 time model: 16.95182 acc: 344.55000\n"
     ]
    },
    {
     "name": "stdout",
     "output_type": "stream",
     "text": [
      "280\n",
      "[epoch: 3, batch:    281] loss: 0.01583 time model: 18.25414 acc: 372.85000\n"
     ]
    },
    {
     "name": "stdout",
     "output_type": "stream",
     "text": [
      "300\n",
      "[epoch: 3, batch:    301] loss: 0.01547 time model: 19.55696 acc: 401.30000\n"
     ]
    },
    {
     "name": "stdout",
     "output_type": "stream",
     "text": [
      "320\n",
      "[epoch: 3, batch:    321] loss: 0.01508 time model: 20.85986 acc: 430.40000\n"
     ]
    },
    {
     "name": "stdout",
     "output_type": "stream",
     "text": [
      "340\n",
      "[epoch: 3, batch:    341] loss: 0.01469 time model: 22.16266 acc: 459.90000\n"
     ]
    },
    {
     "name": "stdout",
     "output_type": "stream",
     "text": [
      "360\n",
      "[epoch: 3, batch:    361] loss: 0.01418 time model: 23.46577 acc: 490.25000\n"
     ]
    },
    {
     "name": "stdout",
     "output_type": "stream",
     "text": [
      "380\n",
      "[epoch: 3, batch:    381] loss: 0.01386 time model: 24.76917 acc: 519.50000\n"
     ]
    },
    {
     "name": "stdout",
     "output_type": "stream",
     "text": [
      "400\n",
      "[epoch: 3, batch:    401] loss: 0.01369 time model: 26.07151 acc: 548.20000\n"
     ]
    },
    {
     "name": "stdout",
     "output_type": "stream",
     "text": [
      "420\n",
      "[epoch: 3, batch:    421] loss: 0.01345 time model: 27.37437 acc: 577.50000\n"
     ]
    },
    {
     "name": "stdout",
     "output_type": "stream",
     "text": [
      "440\n",
      "[epoch: 3, batch:    441] loss: 0.01311 time model: 28.67711 acc: 607.80000\n"
     ]
    },
    {
     "name": "stdout",
     "output_type": "stream",
     "text": [
      "460\n",
      "[epoch: 3, batch:    461] loss: 0.01290 time model: 29.98023 acc: 637.00000\n"
     ]
    },
    {
     "name": "stdout",
     "output_type": "stream",
     "text": [
      "480\n",
      "[epoch: 3, batch:    481] loss: 0.01276 time model: 31.28316 acc: 665.65000\n"
     ]
    },
    {
     "name": "stdout",
     "output_type": "stream",
     "text": [
      "500\n",
      "[epoch: 3, batch:    501] loss: 0.01264 time model: 32.58645 acc: 694.45000\n"
     ]
    },
    {
     "name": "stdout",
     "output_type": "stream",
     "text": [
      "520\n",
      "[epoch: 3, batch:    521] loss: 0.01246 time model: 33.88861 acc: 723.95000\n"
     ]
    },
    {
     "name": "stdout",
     "output_type": "stream",
     "text": [
      "540\n",
      "[epoch: 3, batch:    541] loss: 0.01235 time model: 35.18973 acc: 752.95000\n"
     ]
    },
    {
     "name": "stdout",
     "output_type": "stream",
     "text": [
      "560\n",
      "[epoch: 3, batch:    561] loss: 0.01226 time model: 36.49192 acc: 781.55000\n"
     ]
    },
    {
     "name": "stdout",
     "output_type": "stream",
     "text": [
      "580\n",
      "[epoch: 3, batch:    581] loss: 0.01208 time model: 37.79381 acc: 811.15000\n"
     ]
    },
    {
     "name": "stdout",
     "output_type": "stream",
     "text": [
      "600\n",
      "[epoch: 3, batch:    601] loss: 0.01190 time model: 39.09580 acc: 841.10000\n"
     ]
    },
    {
     "name": "stdout",
     "output_type": "stream",
     "text": [
      "620\n",
      "[epoch: 3, batch:    621] loss: 0.01168 time model: 40.39849 acc: 871.60000\n"
     ]
    },
    {
     "name": "stdout",
     "output_type": "stream",
     "text": [
      "640\n",
      "[epoch: 3, batch:    641] loss: 0.01148 time model: 41.70064 acc: 902.05000\n"
     ]
    },
    {
     "name": "stdout",
     "output_type": "stream",
     "text": [
      "660\n",
      "[epoch: 3, batch:    661] loss: 0.01132 time model: 42.98196 acc: 931.60000\n"
     ]
    },
    {
     "name": "stdout",
     "output_type": "stream",
     "text": [
      "20\n",
      "[epoch: 3, batch:     21] loss: 0.01293 time model: 0.84205 acc: 27.55000\n"
     ]
    },
    {
     "name": "stdout",
     "output_type": "stream",
     "text": [
      "40\n",
      "[epoch: 3, batch:     41] loss: 0.01296 time model: 1.68289 acc: 54.85000\n"
     ]
    },
    {
     "name": "stdout",
     "output_type": "stream",
     "text": [
      "60\n",
      "[epoch: 3, batch:     61] loss: 0.01293 time model: 2.52430 acc: 82.30000\n"
     ]
    },
    {
     "name": "stdout",
     "output_type": "stream",
     "text": [
      "80\n",
      "[epoch: 3, batch:     81] loss: 0.01391 time model: 3.36418 acc: 109.15000\n"
     ]
    },
    {
     "name": "stdout",
     "output_type": "stream",
     "text": [
      "epoch:3 train loss: 0.011319642862602028 train acc: 0.8828239753612888 valid loss: 0.013873099997425708 valid acc: 0.8537058595265813\n",
      "epoch:3 train loss: 0.011319642862602028 train acc: 0.8828239753612888 valid loss: 0.013873099997425708 valid acc: 0.8537058595265813\n"
     ]
    },
    {
     "name": "stdout",
     "output_type": "stream",
     "text": [
      "20\n",
      "[epoch: 4, batch:     21] loss: 0.00594 time model: 1.30367 acc: 30.15000\n"
     ]
    },
    {
     "name": "stdout",
     "output_type": "stream",
     "text": [
      "40\n",
      "[epoch: 4, batch:     41] loss: 0.00499 time model: 2.60708 acc: 60.85000\n"
     ]
    },
    {
     "name": "stdout",
     "output_type": "stream",
     "text": [
      "60\n",
      "[epoch: 4, batch:     61] loss: 0.00553 time model: 3.90954 acc: 90.75000\n"
     ]
    },
    {
     "name": "stdout",
     "output_type": "stream",
     "text": [
      "80\n",
      "[epoch: 4, batch:     81] loss: 0.00502 time model: 5.21229 acc: 121.90000\n"
     ]
    },
    {
     "name": "stdout",
     "output_type": "stream",
     "text": [
      "100\n",
      "[epoch: 4, batch:    101] loss: 0.00512 time model: 6.51499 acc: 152.25000\n"
     ]
    },
    {
     "name": "stdout",
     "output_type": "stream",
     "text": [
      "120\n",
      "[epoch: 4, batch:    121] loss: 0.00520 time model: 7.81811 acc: 182.50000\n"
     ]
    },
    {
     "name": "stdout",
     "output_type": "stream",
     "text": [
      "140\n",
      "[epoch: 4, batch:    141] loss: 0.00504 time model: 9.12119 acc: 213.60000\n"
     ]
    },
    {
     "name": "stdout",
     "output_type": "stream",
     "text": [
      "160\n",
      "[epoch: 4, batch:    161] loss: 0.00545 time model: 10.42393 acc: 243.00000\n"
     ]
    },
    {
     "name": "stdout",
     "output_type": "stream",
     "text": [
      "180\n",
      "[epoch: 4, batch:    181] loss: 0.00544 time model: 11.72581 acc: 273.25000\n"
     ]
    },
    {
     "name": "stdout",
     "output_type": "stream",
     "text": [
      "200\n",
      "[epoch: 4, batch:    201] loss: 0.00546 time model: 13.02722 acc: 303.45000\n"
     ]
    },
    {
     "name": "stdout",
     "output_type": "stream",
     "text": [
      "220\n",
      "[epoch: 4, batch:    221] loss: 0.00534 time model: 14.32855 acc: 334.20000\n"
     ]
    },
    {
     "name": "stdout",
     "output_type": "stream",
     "text": [
      "240\n",
      "[epoch: 4, batch:    241] loss: 0.00537 time model: 15.63482 acc: 364.50000\n"
     ]
    },
    {
     "name": "stdout",
     "output_type": "stream",
     "text": [
      "260\n",
      "[epoch: 4, batch:    261] loss: 0.00542 time model: 16.94131 acc: 394.40000\n"
     ]
    },
    {
     "name": "stdout",
     "output_type": "stream",
     "text": [
      "280\n",
      "[epoch: 4, batch:    281] loss: 0.00541 time model: 18.24714 acc: 424.95000\n"
     ]
    },
    {
     "name": "stdout",
     "output_type": "stream",
     "text": [
      "300\n",
      "[epoch: 4, batch:    301] loss: 0.00548 time model: 19.55300 acc: 454.95000\n"
     ]
    },
    {
     "name": "stdout",
     "output_type": "stream",
     "text": [
      "320\n",
      "[epoch: 4, batch:    321] loss: 0.00544 time model: 20.85880 acc: 485.55000\n"
     ]
    },
    {
     "name": "stdout",
     "output_type": "stream",
     "text": [
      "340\n",
      "[epoch: 4, batch:    341] loss: 0.00540 time model: 22.16402 acc: 516.00000\n"
     ]
    },
    {
     "name": "stdout",
     "output_type": "stream",
     "text": [
      "360\n",
      "[epoch: 4, batch:    361] loss: 0.00543 time model: 23.46996 acc: 546.00000\n"
     ]
    },
    {
     "name": "stdout",
     "output_type": "stream",
     "text": [
      "380\n",
      "[epoch: 4, batch:    381] loss: 0.00537 time model: 24.77552 acc: 576.75000\n"
     ]
    },
    {
     "name": "stdout",
     "output_type": "stream",
     "text": [
      "400\n",
      "[epoch: 4, batch:    401] loss: 0.00539 time model: 26.08119 acc: 607.10000\n"
     ]
    },
    {
     "name": "stdout",
     "output_type": "stream",
     "text": [
      "420\n",
      "[epoch: 4, batch:    421] loss: 0.00534 time model: 27.38596 acc: 637.45000\n"
     ]
    },
    {
     "name": "stdout",
     "output_type": "stream",
     "text": [
      "440\n",
      "[epoch: 4, batch:    441] loss: 0.00525 time model: 28.69235 acc: 668.30000\n"
     ]
    },
    {
     "name": "stdout",
     "output_type": "stream",
     "text": [
      "460\n",
      "[epoch: 4, batch:    461] loss: 0.00522 time model: 29.99807 acc: 698.60000\n"
     ]
    },
    {
     "name": "stdout",
     "output_type": "stream",
     "text": [
      "480\n",
      "[epoch: 4, batch:    481] loss: 0.00526 time model: 31.30280 acc: 728.85000\n"
     ]
    },
    {
     "name": "stdout",
     "output_type": "stream",
     "text": [
      "500\n",
      "[epoch: 4, batch:    501] loss: 0.00522 time model: 32.60895 acc: 759.55000\n"
     ]
    },
    {
     "name": "stdout",
     "output_type": "stream",
     "text": [
      "520\n",
      "[epoch: 4, batch:    521] loss: 0.00519 time model: 33.91480 acc: 790.40000\n"
     ]
    },
    {
     "name": "stdout",
     "output_type": "stream",
     "text": [
      "540\n",
      "[epoch: 4, batch:    541] loss: 0.00511 time model: 35.22067 acc: 821.65000\n"
     ]
    },
    {
     "name": "stdout",
     "output_type": "stream",
     "text": [
      "560\n",
      "[epoch: 4, batch:    561] loss: 0.00516 time model: 36.52664 acc: 851.65000\n"
     ]
    },
    {
     "name": "stdout",
     "output_type": "stream",
     "text": [
      "580\n",
      "[epoch: 4, batch:    581] loss: 0.00519 time model: 37.83268 acc: 881.40000\n"
     ]
    },
    {
     "name": "stdout",
     "output_type": "stream",
     "text": [
      "600\n",
      "[epoch: 4, batch:    601] loss: 0.00520 time model: 39.13743 acc: 911.50000\n"
     ]
    },
    {
     "name": "stdout",
     "output_type": "stream",
     "text": [
      "620\n",
      "[epoch: 4, batch:    621] loss: 0.00517 time model: 40.44371 acc: 941.90000\n"
     ]
    },
    {
     "name": "stdout",
     "output_type": "stream",
     "text": [
      "640\n",
      "[epoch: 4, batch:    641] loss: 0.00518 time model: 41.74883 acc: 972.25000\n"
     ]
    },
    {
     "name": "stdout",
     "output_type": "stream",
     "text": [
      "660\n",
      "[epoch: 4, batch:    661] loss: 0.00519 time model: 43.03409 acc: 1001.85000\n"
     ]
    },
    {
     "name": "stdout",
     "output_type": "stream",
     "text": [
      "20\n",
      "[epoch: 4, batch:     21] loss: 0.03290 time model: 0.84556 acc: 21.80000\n"
     ]
    },
    {
     "name": "stdout",
     "output_type": "stream",
     "text": [
      "40\n",
      "[epoch: 4, batch:     41] loss: 0.03474 time model: 1.69211 acc: 43.80000\n"
     ]
    },
    {
     "name": "stdout",
     "output_type": "stream",
     "text": [
      "60\n",
      "[epoch: 4, batch:     61] loss: 0.03475 time model: 2.53765 acc: 66.25000\n"
     ]
    },
    {
     "name": "stdout",
     "output_type": "stream",
     "text": [
      "80\n",
      "[epoch: 4, batch:     81] loss: 0.03447 time model: 3.38250 acc: 88.95000\n"
     ]
    },
    {
     "name": "stdout",
     "output_type": "stream",
     "text": [
      "epoch:4 train loss: 0.005194581067200606 train acc: 0.9493958777540867 valid loss: 0.03468427178260195 valid acc: 0.6942180830422973\n",
      "epoch:4 train loss: 0.005194581067200606 train acc: 0.9493958777540867 valid loss: 0.03468427178260195 valid acc: 0.6942180830422973\n"
     ]
    },
    {
     "name": "stdout",
     "output_type": "stream",
     "text": [
      "20\n",
      "[epoch: 5, batch:     21] loss: 0.00515 time model: 1.30564 acc: 30.30000\n"
     ]
    },
    {
     "name": "stdout",
     "output_type": "stream",
     "text": [
      "40\n",
      "[epoch: 5, batch:     41] loss: 0.00480 time model: 2.61171 acc: 60.70000\n"
     ]
    },
    {
     "name": "stdout",
     "output_type": "stream",
     "text": [
      "60\n",
      "[epoch: 5, batch:     61] loss: 0.00614 time model: 3.91707 acc: 90.15000\n"
     ]
    },
    {
     "name": "stdout",
     "output_type": "stream",
     "text": [
      "80\n",
      "[epoch: 5, batch:     81] loss: 0.00615 time model: 5.22296 acc: 120.40000\n"
     ]
    },
    {
     "name": "stdout",
     "output_type": "stream",
     "text": [
      "100\n",
      "[epoch: 5, batch:    101] loss: 0.00574 time model: 6.52723 acc: 151.10000\n"
     ]
    },
    {
     "name": "stdout",
     "output_type": "stream",
     "text": [
      "120\n",
      "[epoch: 5, batch:    121] loss: 0.00533 time model: 7.83300 acc: 182.15000\n"
     ]
    },
    {
     "name": "stdout",
     "output_type": "stream",
     "text": [
      "140\n",
      "[epoch: 5, batch:    141] loss: 0.00488 time model: 9.13775 acc: 213.40000\n"
     ]
    },
    {
     "name": "stdout",
     "output_type": "stream",
     "text": [
      "160\n",
      "[epoch: 5, batch:    161] loss: 0.00473 time model: 10.44347 acc: 244.55000\n"
     ]
    },
    {
     "name": "stdout",
     "output_type": "stream",
     "text": [
      "180\n",
      "[epoch: 5, batch:    181] loss: 0.00464 time model: 11.74841 acc: 275.25000\n"
     ]
    },
    {
     "name": "stdout",
     "output_type": "stream",
     "text": [
      "200\n",
      "[epoch: 5, batch:    201] loss: 0.00458 time model: 13.05385 acc: 305.85000\n"
     ]
    },
    {
     "name": "stdout",
     "output_type": "stream",
     "text": [
      "220\n",
      "[epoch: 5, batch:    221] loss: 0.00478 time model: 14.35866 acc: 335.85000\n"
     ]
    },
    {
     "name": "stdout",
     "output_type": "stream",
     "text": [
      "240\n",
      "[epoch: 5, batch:    241] loss: 0.00474 time model: 15.66376 acc: 366.70000\n"
     ]
    },
    {
     "name": "stdout",
     "output_type": "stream",
     "text": [
      "260\n",
      "[epoch: 5, batch:    261] loss: 0.00468 time model: 16.96900 acc: 397.40000\n"
     ]
    },
    {
     "name": "stdout",
     "output_type": "stream",
     "text": [
      "280\n",
      "[epoch: 5, batch:    281] loss: 0.00463 time model: 18.27415 acc: 428.30000\n"
     ]
    },
    {
     "name": "stdout",
     "output_type": "stream",
     "text": [
      "300\n",
      "[epoch: 5, batch:    301] loss: 0.00457 time model: 19.57972 acc: 459.15000\n"
     ]
    },
    {
     "name": "stdout",
     "output_type": "stream",
     "text": [
      "320\n",
      "[epoch: 5, batch:    321] loss: 0.00445 time model: 20.88563 acc: 490.35000\n"
     ]
    },
    {
     "name": "stdout",
     "output_type": "stream",
     "text": [
      "340\n",
      "[epoch: 5, batch:    341] loss: 0.00437 time model: 22.19029 acc: 521.60000\n"
     ]
    },
    {
     "name": "stdout",
     "output_type": "stream",
     "text": [
      "360\n",
      "[epoch: 5, batch:    361] loss: 0.00425 time model: 23.49674 acc: 553.00000\n"
     ]
    },
    {
     "name": "stdout",
     "output_type": "stream",
     "text": [
      "380\n",
      "[epoch: 5, batch:    381] loss: 0.00431 time model: 24.80176 acc: 583.55000\n"
     ]
    },
    {
     "name": "stdout",
     "output_type": "stream",
     "text": [
      "400\n",
      "[epoch: 5, batch:    401] loss: 0.00428 time model: 26.10788 acc: 614.35000\n"
     ]
    },
    {
     "name": "stdout",
     "output_type": "stream",
     "text": [
      "420\n",
      "[epoch: 5, batch:    421] loss: 0.00443 time model: 27.41304 acc: 644.05000\n"
     ]
    },
    {
     "name": "stdout",
     "output_type": "stream",
     "text": [
      "440\n",
      "[epoch: 5, batch:    441] loss: 0.00438 time model: 28.71889 acc: 675.10000\n"
     ]
    },
    {
     "name": "stdout",
     "output_type": "stream",
     "text": [
      "460\n",
      "[epoch: 5, batch:    461] loss: 0.00437 time model: 30.02179 acc: 705.80000\n"
     ]
    },
    {
     "name": "stdout",
     "output_type": "stream",
     "text": [
      "480\n",
      "[epoch: 5, batch:    481] loss: 0.00433 time model: 31.32476 acc: 736.85000\n"
     ]
    },
    {
     "name": "stdout",
     "output_type": "stream",
     "text": [
      "500\n",
      "[epoch: 5, batch:    501] loss: 0.00428 time model: 32.62812 acc: 767.75000\n"
     ]
    },
    {
     "name": "stdout",
     "output_type": "stream",
     "text": [
      "520\n",
      "[epoch: 5, batch:    521] loss: 0.00421 time model: 33.93087 acc: 799.00000\n"
     ]
    },
    {
     "name": "stdout",
     "output_type": "stream",
     "text": [
      "540\n",
      "[epoch: 5, batch:    541] loss: 0.00416 time model: 35.23347 acc: 830.00000\n"
     ]
    },
    {
     "name": "stdout",
     "output_type": "stream",
     "text": [
      "560\n",
      "[epoch: 5, batch:    561] loss: 0.00426 time model: 36.53535 acc: 859.85000\n"
     ]
    },
    {
     "name": "stdout",
     "output_type": "stream",
     "text": [
      "580\n",
      "[epoch: 5, batch:    581] loss: 0.00436 time model: 37.83780 acc: 889.45000\n"
     ]
    },
    {
     "name": "stdout",
     "output_type": "stream",
     "text": [
      "600\n",
      "[epoch: 5, batch:    601] loss: 0.00452 time model: 39.14048 acc: 918.30000\n"
     ]
    },
    {
     "name": "stdout",
     "output_type": "stream",
     "text": [
      "620\n",
      "[epoch: 5, batch:    621] loss: 0.00456 time model: 40.44346 acc: 948.30000\n"
     ]
    },
    {
     "name": "stdout",
     "output_type": "stream",
     "text": [
      "640\n",
      "[epoch: 5, batch:    641] loss: 0.00457 time model: 41.74601 acc: 978.80000\n"
     ]
    },
    {
     "name": "stdout",
     "output_type": "stream",
     "text": [
      "660\n",
      "[epoch: 5, batch:    661] loss: 0.00453 time model: 43.02962 acc: 1009.30000\n"
     ]
    },
    {
     "name": "stdout",
     "output_type": "stream",
     "text": [
      "20\n",
      "[epoch: 5, batch:     21] loss: 0.01053 time model: 0.84071 acc: 28.35000\n"
     ]
    },
    {
     "name": "stdout",
     "output_type": "stream",
     "text": [
      "40\n",
      "[epoch: 5, batch:     41] loss: 0.01081 time model: 1.68231 acc: 57.15000\n"
     ]
    },
    {
     "name": "stdout",
     "output_type": "stream",
     "text": [
      "60\n",
      "[epoch: 5, batch:     61] loss: 0.01099 time model: 2.52356 acc: 85.55000\n"
     ]
    },
    {
     "name": "stdout",
     "output_type": "stream",
     "text": [
      "80\n",
      "[epoch: 5, batch:     81] loss: 0.01087 time model: 3.36414 acc: 114.20000\n"
     ]
    },
    {
     "name": "stdout",
     "output_type": "stream",
     "text": [
      "epoch:5 train loss: 0.004527775567484761 train acc: 0.9564558161573087 valid loss: 0.010893447036238017 valid acc: 0.8917345750873108\n",
      "epoch:5 train loss: 0.004527775567484761 train acc: 0.9564558161573087 valid loss: 0.010893447036238017 valid acc: 0.8917345750873108\n"
     ]
    },
    {
     "name": "stdout",
     "output_type": "stream",
     "text": [
      "20\n",
      "[epoch: 6, batch:     21] loss: 0.00436 time model: 1.30157 acc: 30.30000\n"
     ]
    },
    {
     "name": "stdout",
     "output_type": "stream",
     "text": [
      "40\n",
      "[epoch: 6, batch:     41] loss: 0.00344 time model: 2.60454 acc: 61.45000\n"
     ]
    },
    {
     "name": "stdout",
     "output_type": "stream",
     "text": [
      "60\n",
      "[epoch: 6, batch:     61] loss: 0.00308 time model: 3.90697 acc: 92.75000\n"
     ]
    },
    {
     "name": "stdout",
     "output_type": "stream",
     "text": [
      "80\n",
      "[epoch: 6, batch:     81] loss: 0.00292 time model: 5.21029 acc: 123.90000\n"
     ]
    },
    {
     "name": "stdout",
     "output_type": "stream",
     "text": [
      "100\n",
      "[epoch: 6, batch:    101] loss: 0.00299 time model: 6.51306 acc: 154.80000\n"
     ]
    },
    {
     "name": "stdout",
     "output_type": "stream",
     "text": [
      "120\n",
      "[epoch: 6, batch:    121] loss: 0.00295 time model: 7.81569 acc: 185.95000\n"
     ]
    },
    {
     "name": "stdout",
     "output_type": "stream",
     "text": [
      "140\n",
      "[epoch: 6, batch:    141] loss: 0.00286 time model: 9.11856 acc: 217.35000\n"
     ]
    },
    {
     "name": "stdout",
     "output_type": "stream",
     "text": [
      "160\n",
      "[epoch: 6, batch:    161] loss: 0.00297 time model: 10.42111 acc: 248.20000\n"
     ]
    },
    {
     "name": "stdout",
     "output_type": "stream",
     "text": [
      "180\n",
      "[epoch: 6, batch:    181] loss: 0.00297 time model: 11.72395 acc: 279.20000\n"
     ]
    },
    {
     "name": "stdout",
     "output_type": "stream",
     "text": [
      "200\n",
      "[epoch: 6, batch:    201] loss: 0.00318 time model: 13.02531 acc: 309.55000\n"
     ]
    },
    {
     "name": "stdout",
     "output_type": "stream",
     "text": [
      "220\n",
      "[epoch: 6, batch:    221] loss: 0.00319 time model: 14.32746 acc: 340.20000\n"
     ]
    },
    {
     "name": "stdout",
     "output_type": "stream",
     "text": [
      "240\n",
      "[epoch: 6, batch:    241] loss: 0.00317 time model: 15.63008 acc: 371.45000\n"
     ]
    },
    {
     "name": "stdout",
     "output_type": "stream",
     "text": [
      "260\n",
      "[epoch: 6, batch:    261] loss: 0.00308 time model: 16.93335 acc: 402.80000\n"
     ]
    },
    {
     "name": "stdout",
     "output_type": "stream",
     "text": [
      "280\n",
      "[epoch: 6, batch:    281] loss: 0.00299 time model: 18.23479 acc: 434.30000\n"
     ]
    },
    {
     "name": "stdout",
     "output_type": "stream",
     "text": [
      "300\n",
      "[epoch: 6, batch:    301] loss: 0.00296 time model: 19.53681 acc: 465.70000\n"
     ]
    },
    {
     "name": "stdout",
     "output_type": "stream",
     "text": [
      "320\n",
      "[epoch: 6, batch:    321] loss: 0.00292 time model: 20.84003 acc: 497.05000\n"
     ]
    },
    {
     "name": "stdout",
     "output_type": "stream",
     "text": [
      "340\n",
      "[epoch: 6, batch:    341] loss: 0.00299 time model: 22.14243 acc: 527.70000\n"
     ]
    },
    {
     "name": "stdout",
     "output_type": "stream",
     "text": [
      "360\n",
      "[epoch: 6, batch:    361] loss: 0.00302 time model: 23.44534 acc: 558.65000\n"
     ]
    },
    {
     "name": "stdout",
     "output_type": "stream",
     "text": [
      "380\n",
      "[epoch: 6, batch:    381] loss: 0.00306 time model: 24.74833 acc: 589.45000\n"
     ]
    },
    {
     "name": "stdout",
     "output_type": "stream",
     "text": [
      "400\n",
      "[epoch: 6, batch:    401] loss: 0.00305 time model: 26.05062 acc: 620.40000\n"
     ]
    },
    {
     "name": "stdout",
     "output_type": "stream",
     "text": [
      "420\n",
      "[epoch: 6, batch:    421] loss: 0.00309 time model: 27.35352 acc: 651.00000\n"
     ]
    },
    {
     "name": "stdout",
     "output_type": "stream",
     "text": [
      "440\n",
      "[epoch: 6, batch:    441] loss: 0.00304 time model: 28.65512 acc: 682.55000\n"
     ]
    },
    {
     "name": "stdout",
     "output_type": "stream",
     "text": [
      "460\n",
      "[epoch: 6, batch:    461] loss: 0.00306 time model: 29.95743 acc: 713.40000\n"
     ]
    },
    {
     "name": "stdout",
     "output_type": "stream",
     "text": [
      "480\n",
      "[epoch: 6, batch:    481] loss: 0.00306 time model: 31.25964 acc: 744.45000\n"
     ]
    },
    {
     "name": "stdout",
     "output_type": "stream",
     "text": [
      "500\n",
      "[epoch: 6, batch:    501] loss: 0.00307 time model: 32.56163 acc: 775.25000\n"
     ]
    },
    {
     "name": "stdout",
     "output_type": "stream",
     "text": [
      "520\n",
      "[epoch: 6, batch:    521] loss: 0.00305 time model: 33.86679 acc: 806.55000\n"
     ]
    },
    {
     "name": "stdout",
     "output_type": "stream",
     "text": [
      "540\n",
      "[epoch: 6, batch:    541] loss: 0.00305 time model: 35.17308 acc: 837.70000\n"
     ]
    },
    {
     "name": "stdout",
     "output_type": "stream",
     "text": [
      "560\n",
      "[epoch: 6, batch:    561] loss: 0.00301 time model: 36.47930 acc: 869.10000\n"
     ]
    },
    {
     "name": "stdout",
     "output_type": "stream",
     "text": [
      "580\n",
      "[epoch: 6, batch:    581] loss: 0.00298 time model: 37.78529 acc: 900.55000\n"
     ]
    },
    {
     "name": "stdout",
     "output_type": "stream",
     "text": [
      "600\n",
      "[epoch: 6, batch:    601] loss: 0.00298 time model: 39.09055 acc: 931.45000\n"
     ]
    },
    {
     "name": "stdout",
     "output_type": "stream",
     "text": [
      "620\n",
      "[epoch: 6, batch:    621] loss: 0.00296 time model: 40.39673 acc: 962.65000\n"
     ]
    },
    {
     "name": "stdout",
     "output_type": "stream",
     "text": [
      "640\n",
      "[epoch: 6, batch:    641] loss: 0.00298 time model: 41.70297 acc: 993.65000\n"
     ]
    },
    {
     "name": "stdout",
     "output_type": "stream",
     "text": [
      "660\n",
      "[epoch: 6, batch:    661] loss: 0.00302 time model: 42.98855 acc: 1023.45000\n"
     ]
    },
    {
     "name": "stdout",
     "output_type": "stream",
     "text": [
      "20\n",
      "[epoch: 6, batch:     21] loss: 0.00788 time model: 0.84608 acc: 29.35000\n"
     ]
    },
    {
     "name": "stdout",
     "output_type": "stream",
     "text": [
      "40\n",
      "[epoch: 6, batch:     41] loss: 0.00877 time model: 1.69333 acc: 58.55000\n"
     ]
    },
    {
     "name": "stdout",
     "output_type": "stream",
     "text": [
      "60\n",
      "[epoch: 6, batch:     61] loss: 0.00820 time model: 2.54004 acc: 88.25000\n"
     ]
    },
    {
     "name": "stdout",
     "output_type": "stream",
     "text": [
      "80\n",
      "[epoch: 6, batch:     81] loss: 0.00888 time model: 3.38588 acc: 117.45000\n"
     ]
    },
    {
     "name": "stdout",
     "output_type": "stream",
     "text": [
      "epoch:6 train loss: 0.003016890141317783 train acc: 0.9698649609097371 valid loss: 0.009014567731076263 valid acc: 0.9177337989910749\n",
      "epoch:6 train loss: 0.003016890141317783 train acc: 0.9698649609097371 valid loss: 0.009014567731076263 valid acc: 0.9177337989910749\n"
     ]
    },
    {
     "name": "stdout",
     "output_type": "stream",
     "text": [
      "20\n",
      "[epoch: 7, batch:     21] loss: 0.00481 time model: 1.30726 acc: 30.65000\n"
     ]
    },
    {
     "name": "stdout",
     "output_type": "stream",
     "text": [
      "40\n",
      "[epoch: 7, batch:     41] loss: 0.00378 time model: 2.61292 acc: 61.85000\n"
     ]
    },
    {
     "name": "stdout",
     "output_type": "stream",
     "text": [
      "60\n",
      "[epoch: 7, batch:     61] loss: 0.00330 time model: 3.91955 acc: 93.00000\n"
     ]
    },
    {
     "name": "stdout",
     "output_type": "stream",
     "text": [
      "80\n",
      "[epoch: 7, batch:     81] loss: 0.00290 time model: 5.22627 acc: 124.50000\n"
     ]
    },
    {
     "name": "stdout",
     "output_type": "stream",
     "text": [
      "100\n",
      "[epoch: 7, batch:    101] loss: 0.00273 time model: 6.53293 acc: 155.90000\n"
     ]
    },
    {
     "name": "stdout",
     "output_type": "stream",
     "text": [
      "120\n",
      "[epoch: 7, batch:    121] loss: 0.00262 time model: 7.83836 acc: 187.40000\n"
     ]
    },
    {
     "name": "stdout",
     "output_type": "stream",
     "text": [
      "140\n",
      "[epoch: 7, batch:    141] loss: 0.00253 time model: 9.14406 acc: 218.90000\n"
     ]
    },
    {
     "name": "stdout",
     "output_type": "stream",
     "text": [
      "160\n",
      "[epoch: 7, batch:    161] loss: 0.00255 time model: 10.45018 acc: 250.00000\n"
     ]
    },
    {
     "name": "stdout",
     "output_type": "stream",
     "text": [
      "180\n",
      "[epoch: 7, batch:    181] loss: 0.00249 time model: 11.75577 acc: 281.40000\n"
     ]
    },
    {
     "name": "stdout",
     "output_type": "stream",
     "text": [
      "200\n",
      "[epoch: 7, batch:    201] loss: 0.00259 time model: 13.06240 acc: 312.40000\n"
     ]
    },
    {
     "name": "stdout",
     "output_type": "stream",
     "text": [
      "220\n",
      "[epoch: 7, batch:    221] loss: 0.00272 time model: 14.36878 acc: 343.20000\n"
     ]
    },
    {
     "name": "stdout",
     "output_type": "stream",
     "text": [
      "240\n",
      "[epoch: 7, batch:    241] loss: 0.00269 time model: 15.67457 acc: 374.40000\n"
     ]
    },
    {
     "name": "stdout",
     "output_type": "stream",
     "text": [
      "260\n",
      "[epoch: 7, batch:    261] loss: 0.00261 time model: 16.98051 acc: 405.95000\n"
     ]
    },
    {
     "name": "stdout",
     "output_type": "stream",
     "text": [
      "280\n",
      "[epoch: 7, batch:    281] loss: 0.00259 time model: 18.28618 acc: 437.10000\n"
     ]
    },
    {
     "name": "stdout",
     "output_type": "stream",
     "text": [
      "300\n",
      "[epoch: 7, batch:    301] loss: 0.00258 time model: 19.59247 acc: 468.15000\n"
     ]
    },
    {
     "name": "stdout",
     "output_type": "stream",
     "text": [
      "320\n",
      "[epoch: 7, batch:    321] loss: 0.00253 time model: 20.89877 acc: 499.60000\n"
     ]
    },
    {
     "name": "stdout",
     "output_type": "stream",
     "text": [
      "340\n",
      "[epoch: 7, batch:    341] loss: 0.00248 time model: 22.20425 acc: 531.10000\n"
     ]
    },
    {
     "name": "stdout",
     "output_type": "stream",
     "text": [
      "360\n",
      "[epoch: 7, batch:    361] loss: 0.00248 time model: 23.50865 acc: 562.10000\n"
     ]
    },
    {
     "name": "stdout",
     "output_type": "stream",
     "text": [
      "380\n",
      "[epoch: 7, batch:    381] loss: 0.00248 time model: 24.81362 acc: 593.40000\n"
     ]
    },
    {
     "name": "stdout",
     "output_type": "stream",
     "text": [
      "400\n",
      "[epoch: 7, batch:    401] loss: 0.00253 time model: 26.11921 acc: 624.30000\n"
     ]
    },
    {
     "name": "stdout",
     "output_type": "stream",
     "text": [
      "420\n",
      "[epoch: 7, batch:    421] loss: 0.00254 time model: 27.42478 acc: 655.10000\n"
     ]
    },
    {
     "name": "stdout",
     "output_type": "stream",
     "text": [
      "440\n",
      "[epoch: 7, batch:    441] loss: 0.00254 time model: 28.72973 acc: 686.40000\n"
     ]
    },
    {
     "name": "stdout",
     "output_type": "stream",
     "text": [
      "460\n",
      "[epoch: 7, batch:    461] loss: 0.00254 time model: 30.03529 acc: 717.55000\n"
     ]
    },
    {
     "name": "stdout",
     "output_type": "stream",
     "text": [
      "480\n",
      "[epoch: 7, batch:    481] loss: 0.00250 time model: 31.34079 acc: 749.00000\n"
     ]
    },
    {
     "name": "stdout",
     "output_type": "stream",
     "text": [
      "500\n",
      "[epoch: 7, batch:    501] loss: 0.00248 time model: 32.64639 acc: 780.45000\n"
     ]
    },
    {
     "name": "stdout",
     "output_type": "stream",
     "text": [
      "520\n",
      "[epoch: 7, batch:    521] loss: 0.00247 time model: 33.95143 acc: 811.70000\n"
     ]
    },
    {
     "name": "stdout",
     "output_type": "stream",
     "text": [
      "540\n",
      "[epoch: 7, batch:    541] loss: 0.00248 time model: 35.25704 acc: 842.85000\n"
     ]
    },
    {
     "name": "stdout",
     "output_type": "stream",
     "text": [
      "560\n",
      "[epoch: 7, batch:    561] loss: 0.00247 time model: 36.56356 acc: 874.05000\n"
     ]
    },
    {
     "name": "stdout",
     "output_type": "stream",
     "text": [
      "580\n",
      "[epoch: 7, batch:    581] loss: 0.00246 time model: 37.86977 acc: 905.25000\n"
     ]
    },
    {
     "name": "stdout",
     "output_type": "stream",
     "text": [
      "600\n",
      "[epoch: 7, batch:    601] loss: 0.00247 time model: 39.17578 acc: 936.40000\n"
     ]
    },
    {
     "name": "stdout",
     "output_type": "stream",
     "text": [
      "620\n",
      "[epoch: 7, batch:    621] loss: 0.00248 time model: 40.48099 acc: 967.65000\n"
     ]
    },
    {
     "name": "stdout",
     "output_type": "stream",
     "text": [
      "640\n",
      "[epoch: 7, batch:    641] loss: 0.00248 time model: 41.78656 acc: 998.80000\n"
     ]
    },
    {
     "name": "stdout",
     "output_type": "stream",
     "text": [
      "660\n",
      "[epoch: 7, batch:    661] loss: 0.00251 time model: 43.07392 acc: 1029.05000\n"
     ]
    },
    {
     "name": "stdout",
     "output_type": "stream",
     "text": [
      "20\n",
      "[epoch: 7, batch:     21] loss: 0.01818 time model: 0.84635 acc: 27.40000\n"
     ]
    },
    {
     "name": "stdout",
     "output_type": "stream",
     "text": [
      "40\n",
      "[epoch: 7, batch:     41] loss: 0.01791 time model: 1.69395 acc: 54.10000\n"
     ]
    },
    {
     "name": "stdout",
     "output_type": "stream",
     "text": [
      "60\n",
      "[epoch: 7, batch:     61] loss: 0.01704 time model: 2.54104 acc: 81.65000\n"
     ]
    },
    {
     "name": "stdout",
     "output_type": "stream",
     "text": [
      "80\n",
      "[epoch: 7, batch:     81] loss: 0.01653 time model: 3.38697 acc: 109.45000\n"
     ]
    },
    {
     "name": "stdout",
     "output_type": "stream",
     "text": [
      "epoch:7 train loss: 0.0025051364678694466 train acc: 0.9751717602463871 valid loss: 0.016668172147693124 valid acc: 0.8548700038804812\n",
      "epoch:7 train loss: 0.0025051364678694466 train acc: 0.9751717602463871 valid loss: 0.016668172147693124 valid acc: 0.8548700038804812\n"
     ]
    },
    {
     "name": "stdout",
     "output_type": "stream",
     "text": [
      "20\n",
      "[epoch: 8, batch:     21] loss: 0.00656 time model: 1.30546 acc: 29.85000\n"
     ]
    },
    {
     "name": "stdout",
     "output_type": "stream",
     "text": [
      "40\n",
      "[epoch: 8, batch:     41] loss: 0.00454 time model: 2.60786 acc: 61.05000\n"
     ]
    },
    {
     "name": "stdout",
     "output_type": "stream",
     "text": [
      "60\n",
      "[epoch: 8, batch:     61] loss: 0.00398 time model: 3.90952 acc: 91.90000\n"
     ]
    },
    {
     "name": "stdout",
     "output_type": "stream",
     "text": [
      "80\n",
      "[epoch: 8, batch:     81] loss: 0.00359 time model: 5.21299 acc: 123.20000\n"
     ]
    },
    {
     "name": "stdout",
     "output_type": "stream",
     "text": [
      "100\n",
      "[epoch: 8, batch:    101] loss: 0.00335 time model: 6.51476 acc: 154.45000\n"
     ]
    },
    {
     "name": "stdout",
     "output_type": "stream",
     "text": [
      "120\n",
      "[epoch: 8, batch:    121] loss: 0.00306 time model: 7.81592 acc: 186.05000\n"
     ]
    },
    {
     "name": "stdout",
     "output_type": "stream",
     "text": [
      "140\n",
      "[epoch: 8, batch:    141] loss: 0.00291 time model: 9.11789 acc: 217.45000\n"
     ]
    },
    {
     "name": "stdout",
     "output_type": "stream",
     "text": [
      "160\n",
      "[epoch: 8, batch:    161] loss: 0.00290 time model: 10.41940 acc: 248.55000\n"
     ]
    },
    {
     "name": "stdout",
     "output_type": "stream",
     "text": [
      "180\n",
      "[epoch: 8, batch:    181] loss: 0.00283 time model: 11.72167 acc: 279.65000\n"
     ]
    },
    {
     "name": "stdout",
     "output_type": "stream",
     "text": [
      "200\n",
      "[epoch: 8, batch:    201] loss: 0.00276 time model: 13.02428 acc: 311.00000\n"
     ]
    },
    {
     "name": "stdout",
     "output_type": "stream",
     "text": [
      "220\n",
      "[epoch: 8, batch:    221] loss: 0.00267 time model: 14.32692 acc: 342.60000\n"
     ]
    },
    {
     "name": "stdout",
     "output_type": "stream",
     "text": [
      "240\n",
      "[epoch: 8, batch:    241] loss: 0.00261 time model: 15.62886 acc: 374.05000\n"
     ]
    },
    {
     "name": "stdout",
     "output_type": "stream",
     "text": [
      "260\n",
      "[epoch: 8, batch:    261] loss: 0.00264 time model: 16.93015 acc: 405.15000\n"
     ]
    },
    {
     "name": "stdout",
     "output_type": "stream",
     "text": [
      "280\n",
      "[epoch: 8, batch:    281] loss: 0.00272 time model: 18.23268 acc: 436.30000\n"
     ]
    },
    {
     "name": "stdout",
     "output_type": "stream",
     "text": [
      "300\n",
      "[epoch: 8, batch:    301] loss: 0.00271 time model: 19.53487 acc: 467.35000\n"
     ]
    },
    {
     "name": "stdout",
     "output_type": "stream",
     "text": [
      "320\n",
      "[epoch: 8, batch:    321] loss: 0.00279 time model: 20.83651 acc: 497.95000\n"
     ]
    },
    {
     "name": "stdout",
     "output_type": "stream",
     "text": [
      "340\n",
      "[epoch: 8, batch:    341] loss: 0.00294 time model: 22.13912 acc: 527.90000\n"
     ]
    },
    {
     "name": "stdout",
     "output_type": "stream",
     "text": [
      "360\n",
      "[epoch: 8, batch:    361] loss: 0.00406 time model: 23.43987 acc: 555.25000\n"
     ]
    },
    {
     "name": "stdout",
     "output_type": "stream",
     "text": [
      "380\n",
      "[epoch: 8, batch:    381] loss: 0.00453 time model: 24.74107 acc: 583.20000\n"
     ]
    },
    {
     "name": "stdout",
     "output_type": "stream",
     "text": [
      "400\n",
      "[epoch: 8, batch:    401] loss: 0.00444 time model: 26.04279 acc: 614.30000\n"
     ]
    },
    {
     "name": "stdout",
     "output_type": "stream",
     "text": [
      "420\n",
      "[epoch: 8, batch:    421] loss: 0.00434 time model: 27.34480 acc: 645.75000\n"
     ]
    },
    {
     "name": "stdout",
     "output_type": "stream",
     "text": [
      "440\n",
      "[epoch: 8, batch:    441] loss: 0.00425 time model: 28.64621 acc: 677.00000\n"
     ]
    },
    {
     "name": "stdout",
     "output_type": "stream",
     "text": [
      "460\n",
      "[epoch: 8, batch:    461] loss: 0.00413 time model: 29.94846 acc: 708.65000\n"
     ]
    },
    {
     "name": "stdout",
     "output_type": "stream",
     "text": [
      "480\n",
      "[epoch: 8, batch:    481] loss: 0.00407 time model: 31.25070 acc: 739.90000\n"
     ]
    },
    {
     "name": "stdout",
     "output_type": "stream",
     "text": [
      "500\n",
      "[epoch: 8, batch:    501] loss: 0.00398 time model: 32.55244 acc: 771.45000\n"
     ]
    },
    {
     "name": "stdout",
     "output_type": "stream",
     "text": [
      "520\n",
      "[epoch: 8, batch:    521] loss: 0.00389 time model: 33.85513 acc: 803.00000\n"
     ]
    },
    {
     "name": "stdout",
     "output_type": "stream",
     "text": [
      "540\n",
      "[epoch: 8, batch:    541] loss: 0.00380 time model: 35.15853 acc: 834.55000\n"
     ]
    },
    {
     "name": "stdout",
     "output_type": "stream",
     "text": [
      "560\n",
      "[epoch: 8, batch:    561] loss: 0.00378 time model: 36.46004 acc: 865.50000\n"
     ]
    },
    {
     "name": "stdout",
     "output_type": "stream",
     "text": [
      "580\n",
      "[epoch: 8, batch:    581] loss: 0.00369 time model: 37.76094 acc: 897.10000\n"
     ]
    },
    {
     "name": "stdout",
     "output_type": "stream",
     "text": [
      "600\n",
      "[epoch: 8, batch:    601] loss: 0.00365 time model: 39.06314 acc: 928.30000\n"
     ]
    },
    {
     "name": "stdout",
     "output_type": "stream",
     "text": [
      "620\n",
      "[epoch: 8, batch:    621] loss: 0.00361 time model: 40.36555 acc: 959.40000\n"
     ]
    },
    {
     "name": "stdout",
     "output_type": "stream",
     "text": [
      "640\n",
      "[epoch: 8, batch:    641] loss: 0.00358 time model: 41.66845 acc: 990.65000\n"
     ]
    },
    {
     "name": "stdout",
     "output_type": "stream",
     "text": [
      "660\n",
      "[epoch: 8, batch:    661] loss: 0.00354 time model: 42.95015 acc: 1021.15000\n"
     ]
    },
    {
     "name": "stdout",
     "output_type": "stream",
     "text": [
      "20\n",
      "[epoch: 8, batch:     21] loss: 0.01929 time model: 0.84233 acc: 27.10000\n"
     ]
    },
    {
     "name": "stdout",
     "output_type": "stream",
     "text": [
      "40\n",
      "[epoch: 8, batch:     41] loss: 0.01949 time model: 1.68509 acc: 54.00000\n"
     ]
    },
    {
     "name": "stdout",
     "output_type": "stream",
     "text": [
      "60\n",
      "[epoch: 8, batch:     61] loss: 0.01882 time model: 2.52629 acc: 81.20000\n"
     ]
    },
    {
     "name": "stdout",
     "output_type": "stream",
     "text": [
      "80\n",
      "[epoch: 8, batch:     81] loss: 0.01835 time model: 3.36709 acc: 108.25000\n"
     ]
    },
    {
     "name": "stdout",
     "output_type": "stream",
     "text": [
      "epoch:8 train loss: 0.0035449267284063416 train acc: 0.9676853826107558 valid loss: 0.018484067630064688 valid acc: 0.8451688009313155\n",
      "epoch:8 train loss: 0.0035449267284063416 train acc: 0.9676853826107558 valid loss: 0.018484067630064688 valid acc: 0.8451688009313155\n"
     ]
    },
    {
     "name": "stdout",
     "output_type": "stream",
     "text": [
      "20\n",
      "[epoch: 9, batch:     21] loss: 0.00159 time model: 1.30258 acc: 31.55000\n"
     ]
    },
    {
     "name": "stdout",
     "output_type": "stream",
     "text": [
      "40\n",
      "[epoch: 9, batch:     41] loss: 0.00184 time model: 2.60414 acc: 62.80000\n"
     ]
    },
    {
     "name": "stdout",
     "output_type": "stream",
     "text": [
      "60\n",
      "[epoch: 9, batch:     61] loss: 0.00212 time model: 3.90604 acc: 93.80000\n"
     ]
    },
    {
     "name": "stdout",
     "output_type": "stream",
     "text": [
      "80\n",
      "[epoch: 9, batch:     81] loss: 0.00287 time model: 5.20766 acc: 124.45000\n"
     ]
    },
    {
     "name": "stdout",
     "output_type": "stream",
     "text": [
      "100\n",
      "[epoch: 9, batch:    101] loss: 0.00404 time model: 6.50914 acc: 154.40000\n"
     ]
    },
    {
     "name": "stdout",
     "output_type": "stream",
     "text": [
      "120\n",
      "[epoch: 9, batch:    121] loss: 0.00372 time model: 7.81154 acc: 185.55000\n"
     ]
    },
    {
     "name": "stdout",
     "output_type": "stream",
     "text": [
      "140\n",
      "[epoch: 9, batch:    141] loss: 0.00349 time model: 9.11322 acc: 216.75000\n"
     ]
    },
    {
     "name": "stdout",
     "output_type": "stream",
     "text": [
      "160\n",
      "[epoch: 9, batch:    161] loss: 0.00324 time model: 10.41609 acc: 248.35000\n"
     ]
    },
    {
     "name": "stdout",
     "output_type": "stream",
     "text": [
      "180\n",
      "[epoch: 9, batch:    181] loss: 0.00309 time model: 11.71860 acc: 279.80000\n"
     ]
    },
    {
     "name": "stdout",
     "output_type": "stream",
     "text": [
      "200\n",
      "[epoch: 9, batch:    201] loss: 0.00308 time model: 13.02152 acc: 310.95000\n"
     ]
    },
    {
     "name": "stdout",
     "output_type": "stream",
     "text": [
      "220\n",
      "[epoch: 9, batch:    221] loss: 0.00296 time model: 14.32372 acc: 342.35000\n"
     ]
    },
    {
     "name": "stdout",
     "output_type": "stream",
     "text": [
      "240\n",
      "[epoch: 9, batch:    241] loss: 0.00288 time model: 15.62649 acc: 373.70000\n"
     ]
    },
    {
     "name": "stdout",
     "output_type": "stream",
     "text": [
      "260\n",
      "[epoch: 9, batch:    261] loss: 0.00276 time model: 16.92788 acc: 405.35000\n"
     ]
    },
    {
     "name": "stdout",
     "output_type": "stream",
     "text": [
      "280\n",
      "[epoch: 9, batch:    281] loss: 0.00268 time model: 18.22925 acc: 436.95000\n"
     ]
    },
    {
     "name": "stdout",
     "output_type": "stream",
     "text": [
      "300\n",
      "[epoch: 9, batch:    301] loss: 0.00265 time model: 19.53068 acc: 468.25000\n"
     ]
    },
    {
     "name": "stdout",
     "output_type": "stream",
     "text": [
      "320\n",
      "[epoch: 9, batch:    321] loss: 0.00260 time model: 20.83295 acc: 499.70000\n"
     ]
    },
    {
     "name": "stdout",
     "output_type": "stream",
     "text": [
      "340\n",
      "[epoch: 9, batch:    341] loss: 0.00255 time model: 22.13579 acc: 531.00000\n"
     ]
    },
    {
     "name": "stdout",
     "output_type": "stream",
     "text": [
      "360\n",
      "[epoch: 9, batch:    361] loss: 0.00250 time model: 23.43975 acc: 562.60000\n"
     ]
    },
    {
     "name": "stdout",
     "output_type": "stream",
     "text": [
      "380\n",
      "[epoch: 9, batch:    381] loss: 0.00256 time model: 24.74586 acc: 593.35000\n"
     ]
    },
    {
     "name": "stdout",
     "output_type": "stream",
     "text": [
      "400\n",
      "[epoch: 9, batch:    401] loss: 0.00256 time model: 26.05135 acc: 624.40000\n"
     ]
    },
    {
     "name": "stdout",
     "output_type": "stream",
     "text": [
      "420\n",
      "[epoch: 9, batch:    421] loss: 0.00258 time model: 27.35774 acc: 655.50000\n"
     ]
    },
    {
     "name": "stdout",
     "output_type": "stream",
     "text": [
      "440\n",
      "[epoch: 9, batch:    441] loss: 0.00258 time model: 28.66361 acc: 686.75000\n"
     ]
    },
    {
     "name": "stdout",
     "output_type": "stream",
     "text": [
      "460\n",
      "[epoch: 9, batch:    461] loss: 0.00256 time model: 29.96947 acc: 718.05000\n"
     ]
    },
    {
     "name": "stdout",
     "output_type": "stream",
     "text": [
      "480\n",
      "[epoch: 9, batch:    481] loss: 0.00252 time model: 31.27476 acc: 749.65000\n"
     ]
    },
    {
     "name": "stdout",
     "output_type": "stream",
     "text": [
      "500\n",
      "[epoch: 9, batch:    501] loss: 0.00257 time model: 32.58105 acc: 780.40000\n"
     ]
    },
    {
     "name": "stdout",
     "output_type": "stream",
     "text": [
      "520\n",
      "[epoch: 9, batch:    521] loss: 0.00254 time model: 33.88568 acc: 811.95000\n"
     ]
    },
    {
     "name": "stdout",
     "output_type": "stream",
     "text": [
      "540\n",
      "[epoch: 9, batch:    541] loss: 0.00252 time model: 35.19131 acc: 843.40000\n"
     ]
    },
    {
     "name": "stdout",
     "output_type": "stream",
     "text": [
      "560\n",
      "[epoch: 9, batch:    561] loss: 0.00249 time model: 36.49770 acc: 874.95000\n"
     ]
    },
    {
     "name": "stdout",
     "output_type": "stream",
     "text": [
      "580\n",
      "[epoch: 9, batch:    581] loss: 0.00245 time model: 37.80373 acc: 906.70000\n"
     ]
    },
    {
     "name": "stdout",
     "output_type": "stream",
     "text": [
      "600\n",
      "[epoch: 9, batch:    601] loss: 0.00242 time model: 39.11003 acc: 938.30000\n"
     ]
    },
    {
     "name": "stdout",
     "output_type": "stream",
     "text": [
      "620\n",
      "[epoch: 9, batch:    621] loss: 0.00240 time model: 40.41523 acc: 969.80000\n"
     ]
    },
    {
     "name": "stdout",
     "output_type": "stream",
     "text": [
      "640\n",
      "[epoch: 9, batch:    641] loss: 0.00237 time model: 41.72028 acc: 1001.40000\n"
     ]
    },
    {
     "name": "stdout",
     "output_type": "stream",
     "text": [
      "660\n",
      "[epoch: 9, batch:    661] loss: 0.00234 time model: 43.00618 acc: 1032.25000\n"
     ]
    },
    {
     "name": "stdout",
     "output_type": "stream",
     "text": [
      "20\n",
      "[epoch: 9, batch:     21] loss: 0.00801 time model: 0.84595 acc: 29.85000\n"
     ]
    },
    {
     "name": "stdout",
     "output_type": "stream",
     "text": [
      "40\n",
      "[epoch: 9, batch:     41] loss: 0.00784 time model: 1.69293 acc: 59.50000\n"
     ]
    },
    {
     "name": "stdout",
     "output_type": "stream",
     "text": [
      "60\n",
      "[epoch: 9, batch:     61] loss: 0.00682 time model: 2.53985 acc: 89.85000\n"
     ]
    },
    {
     "name": "stdout",
     "output_type": "stream",
     "text": [
      "80\n",
      "[epoch: 9, batch:     81] loss: 0.00734 time model: 3.38558 acc: 119.50000\n"
     ]
    },
    {
     "name": "stdout",
     "output_type": "stream",
     "text": [
      "epoch:9 train loss: 0.002343339871485435 train acc: 0.9782042170101871 valid loss: 0.0073362646445915315 valid acc: 0.9336437718277066\n",
      "epoch:9 train loss: 0.002343339871485435 train acc: 0.9782042170101871 valid loss: 0.0073362646445915315 valid acc: 0.9336437718277066\n"
     ]
    },
    {
     "name": "stdout",
     "output_type": "stream",
     "text": [
      "20\n",
      "[epoch: 10, batch:     21] loss: 0.00152 time model: 1.30677 acc: 31.50000\n"
     ]
    },
    {
     "name": "stdout",
     "output_type": "stream",
     "text": [
      "40\n",
      "[epoch: 10, batch:     41] loss: 0.00179 time model: 2.61400 acc: 62.75000\n"
     ]
    },
    {
     "name": "stdout",
     "output_type": "stream",
     "text": [
      "60\n",
      "[epoch: 10, batch:     61] loss: 0.00178 time model: 3.92103 acc: 94.20000\n"
     ]
    },
    {
     "name": "stdout",
     "output_type": "stream",
     "text": [
      "80\n",
      "[epoch: 10, batch:     81] loss: 0.00200 time model: 5.22713 acc: 125.30000\n"
     ]
    },
    {
     "name": "stdout",
     "output_type": "stream",
     "text": [
      "100\n",
      "[epoch: 10, batch:    101] loss: 0.00182 time model: 6.53308 acc: 157.05000\n"
     ]
    },
    {
     "name": "stdout",
     "output_type": "stream",
     "text": [
      "120\n",
      "[epoch: 10, batch:    121] loss: 0.00174 time model: 7.83945 acc: 188.60000\n"
     ]
    },
    {
     "name": "stdout",
     "output_type": "stream",
     "text": [
      "140\n",
      "[epoch: 10, batch:    141] loss: 0.00173 time model: 9.14446 acc: 220.15000\n"
     ]
    },
    {
     "name": "stdout",
     "output_type": "stream",
     "text": [
      "160\n",
      "[epoch: 10, batch:    161] loss: 0.00167 time model: 10.44963 acc: 251.65000\n"
     ]
    },
    {
     "name": "stdout",
     "output_type": "stream",
     "text": [
      "180\n",
      "[epoch: 10, batch:    181] loss: 0.00160 time model: 11.75557 acc: 283.30000\n"
     ]
    },
    {
     "name": "stdout",
     "output_type": "stream",
     "text": [
      "200\n",
      "[epoch: 10, batch:    201] loss: 0.00154 time model: 13.06233 acc: 314.95000\n"
     ]
    },
    {
     "name": "stdout",
     "output_type": "stream",
     "text": [
      "220\n",
      "[epoch: 10, batch:    221] loss: 0.00151 time model: 14.36709 acc: 346.60000\n"
     ]
    },
    {
     "name": "stdout",
     "output_type": "stream",
     "text": [
      "240\n",
      "[epoch: 10, batch:    241] loss: 0.00146 time model: 15.67368 acc: 378.40000\n"
     ]
    },
    {
     "name": "stdout",
     "output_type": "stream",
     "text": [
      "260\n",
      "[epoch: 10, batch:    261] loss: 0.00144 time model: 16.97950 acc: 410.05000\n"
     ]
    },
    {
     "name": "stdout",
     "output_type": "stream",
     "text": [
      "280\n",
      "[epoch: 10, batch:    281] loss: 0.00149 time model: 18.28519 acc: 441.35000\n"
     ]
    },
    {
     "name": "stdout",
     "output_type": "stream",
     "text": [
      "300\n",
      "[epoch: 10, batch:    301] loss: 0.00151 time model: 19.59062 acc: 472.80000\n"
     ]
    },
    {
     "name": "stdout",
     "output_type": "stream",
     "text": [
      "320\n",
      "[epoch: 10, batch:    321] loss: 0.00150 time model: 20.89633 acc: 504.30000\n"
     ]
    },
    {
     "name": "stdout",
     "output_type": "stream",
     "text": [
      "340\n",
      "[epoch: 10, batch:    341] loss: 0.00148 time model: 22.20279 acc: 536.00000\n"
     ]
    },
    {
     "name": "stdout",
     "output_type": "stream",
     "text": [
      "360\n",
      "[epoch: 10, batch:    361] loss: 0.00148 time model: 23.50906 acc: 567.55000\n"
     ]
    },
    {
     "name": "stdout",
     "output_type": "stream",
     "text": [
      "380\n",
      "[epoch: 10, batch:    381] loss: 0.00152 time model: 24.81527 acc: 599.00000\n"
     ]
    },
    {
     "name": "stdout",
     "output_type": "stream",
     "text": [
      "400\n",
      "[epoch: 10, batch:    401] loss: 0.00156 time model: 26.12108 acc: 630.30000\n"
     ]
    },
    {
     "name": "stdout",
     "output_type": "stream",
     "text": [
      "420\n",
      "[epoch: 10, batch:    421] loss: 0.00178 time model: 27.42587 acc: 659.95000\n"
     ]
    },
    {
     "name": "stdout",
     "output_type": "stream",
     "text": [
      "440\n",
      "[epoch: 10, batch:    441] loss: 0.00197 time model: 28.73139 acc: 690.10000\n"
     ]
    },
    {
     "name": "stdout",
     "output_type": "stream",
     "text": [
      "460\n",
      "[epoch: 10, batch:    461] loss: 0.00200 time model: 30.03680 acc: 721.05000\n"
     ]
    },
    {
     "name": "stdout",
     "output_type": "stream",
     "text": [
      "480\n",
      "[epoch: 10, batch:    481] loss: 0.00199 time model: 31.34234 acc: 752.45000\n"
     ]
    },
    {
     "name": "stdout",
     "output_type": "stream",
     "text": [
      "500\n",
      "[epoch: 10, batch:    501] loss: 0.00201 time model: 32.64797 acc: 783.70000\n"
     ]
    },
    {
     "name": "stdout",
     "output_type": "stream",
     "text": [
      "520\n",
      "[epoch: 10, batch:    521] loss: 0.00204 time model: 33.95345 acc: 814.70000\n"
     ]
    },
    {
     "name": "stdout",
     "output_type": "stream",
     "text": [
      "540\n",
      "[epoch: 10, batch:    541] loss: 0.00203 time model: 35.25899 acc: 846.30000\n"
     ]
    },
    {
     "name": "stdout",
     "output_type": "stream",
     "text": [
      "560\n",
      "[epoch: 10, batch:    561] loss: 0.00201 time model: 36.56604 acc: 877.90000\n"
     ]
    },
    {
     "name": "stdout",
     "output_type": "stream",
     "text": [
      "580\n",
      "[epoch: 10, batch:    581] loss: 0.00201 time model: 37.86979 acc: 909.20000\n"
     ]
    },
    {
     "name": "stdout",
     "output_type": "stream",
     "text": [
      "600\n",
      "[epoch: 10, batch:    601] loss: 0.00202 time model: 39.17239 acc: 940.40000\n"
     ]
    },
    {
     "name": "stdout",
     "output_type": "stream",
     "text": [
      "620\n",
      "[epoch: 10, batch:    621] loss: 0.00203 time model: 40.47528 acc: 971.70000\n"
     ]
    },
    {
     "name": "stdout",
     "output_type": "stream",
     "text": [
      "640\n",
      "[epoch: 10, batch:    641] loss: 0.00201 time model: 41.77876 acc: 1003.15000\n"
     ]
    },
    {
     "name": "stdout",
     "output_type": "stream",
     "text": [
      "660\n",
      "[epoch: 10, batch:    661] loss: 0.00203 time model: 43.06201 acc: 1033.60000\n"
     ]
    },
    {
     "name": "stdout",
     "output_type": "stream",
     "text": [
      "20\n",
      "[epoch: 10, batch:     21] loss: 0.01131 time model: 0.84167 acc: 28.90000\n"
     ]
    },
    {
     "name": "stdout",
     "output_type": "stream",
     "text": [
      "40\n",
      "[epoch: 10, batch:     41] loss: 0.01139 time model: 1.68403 acc: 57.25000\n"
     ]
    },
    {
     "name": "stdout",
     "output_type": "stream",
     "text": [
      "60\n",
      "[epoch: 10, batch:     61] loss: 0.01085 time model: 2.52630 acc: 86.35000\n"
     ]
    },
    {
     "name": "stdout",
     "output_type": "stream",
     "text": [
      "80\n",
      "[epoch: 10, batch:     81] loss: 0.01026 time model: 3.36681 acc: 116.00000\n"
     ]
    },
    {
     "name": "stdout",
     "output_type": "stream",
     "text": [
      "epoch:10 train loss: 0.00202505562663629 train acc: 0.9794835347074153 valid loss: 0.010389240638583864 valid acc: 0.906092355452076\n",
      "epoch:10 train loss: 0.00202505562663629 train acc: 0.9794835347074153 valid loss: 0.010389240638583864 valid acc: 0.906092355452076\n"
     ]
    }
   ],
   "source": [
    "MODELNAME = 'full_dataset_fgsm03'\n",
    "LOGFILE_PATH = 'logs/' + MODELNAME\n",
    "global_eps = 0.3\n",
    "\n",
    "def fgsm(model, X, y, epsilon=0.3):\n",
    "    \"\"\" Construct FGSM adversarial examples on the examples X\"\"\"\n",
    "    epsilon = global_eps\n",
    "    delta = torch.zeros_like(X, requires_grad=True)\n",
    "    delta = delta.cuda()\n",
    "    loss = nn.CrossEntropyLoss()(model(X + delta), y)\n",
    "    loss.backward()\n",
    "    return epsilon * delta.grad.detach().sign()\n",
    "\n",
    "\n",
    "def pgd_linf(model, X, y, epsilon=0.1, alpha=0.01, num_iter=20, randomize=False):\n",
    "    \"\"\" Construct PGD adversarial examples on the examples X\"\"\"\n",
    "    epsilon = global_eps\n",
    "    if randomize:\n",
    "        delta = torch.rand_like(X, requires_grad=True)\n",
    "        delta.data = delta.data * 2 * epsilon - epsilon\n",
    "    else:\n",
    "        delta = torch.zeros_like(X, requires_grad=True)\n",
    "        \n",
    "    for t in range(num_iter):\n",
    "        loss = nn.CrossEntropyLoss()(model(X + delta), y)\n",
    "        loss.backward()\n",
    "        delta.data = (delta + alpha*delta.grad.detach().sign()).clamp(-epsilon,epsilon)\n",
    "        delta.grad.zero_()\n",
    "    return delta.detach()\n",
    "\n",
    "from models.resnet import ResNet, resnet34\n",
    "model = resnet34(pretrained=False, progress=False).cuda()\n",
    "criterion = torch.nn.CrossEntropyLoss()\n",
    "\n",
    "for param in model.parameters():\n",
    "  param.requires_grad = True\n",
    "\n",
    "trainer = BaseTrainer(model=model, train_dl=train_data_loader, valid_dl=valid_data_loader, test_dl=valid_data_loader, criterion=criterion, model_filename=MODELNAME, n_epochs=1)\n",
    "trainer.fit_model_new(optimizer=optim.Adam(model.parameters(), lr=.001), n_epochs=10, model_filename=MODELNAME, attack=fgsm)"
   ]
  },
  {
   "cell_type": "code",
   "execution_count": 25,
   "metadata": {
    "papermill": {
     "duration": 9327.571362,
     "end_time": "2019-11-05T10:01:36.686976",
     "exception": false,
     "start_time": "2019-11-05T07:26:09.115614",
     "status": "completed"
    },
    "tags": []
   },
   "outputs": [
    {
     "name": "stdout",
     "output_type": "stream",
     "text": [
      "20\n",
      "[epoch: 1, batch:     21] loss: 0.08121 time model: 1.30524 acc: 3.30000\n"
     ]
    },
    {
     "name": "stdout",
     "output_type": "stream",
     "text": [
      "40\n",
      "[epoch: 1, batch:     41] loss: 0.07901 time model: 2.60901 acc: 6.55000\n"
     ]
    },
    {
     "name": "stdout",
     "output_type": "stream",
     "text": [
      "60\n",
      "[epoch: 1, batch:     61] loss: 0.07813 time model: 3.91257 acc: 10.25000\n"
     ]
    },
    {
     "name": "stdout",
     "output_type": "stream",
     "text": [
      "80\n",
      "[epoch: 1, batch:     81] loss: 0.07824 time model: 5.21658 acc: 12.35000\n"
     ]
    },
    {
     "name": "stdout",
     "output_type": "stream",
     "text": [
      "100\n",
      "[epoch: 1, batch:    101] loss: 0.07787 time model: 6.51902 acc: 15.25000\n"
     ]
    },
    {
     "name": "stdout",
     "output_type": "stream",
     "text": [
      "120\n",
      "[epoch: 1, batch:    121] loss: 0.07744 time model: 7.82210 acc: 18.25000\n"
     ]
    },
    {
     "name": "stdout",
     "output_type": "stream",
     "text": [
      "140\n",
      "[epoch: 1, batch:    141] loss: 0.07704 time model: 9.12482 acc: 21.50000\n"
     ]
    },
    {
     "name": "stdout",
     "output_type": "stream",
     "text": [
      "160\n",
      "[epoch: 1, batch:    161] loss: 0.07681 time model: 10.42811 acc: 24.70000\n"
     ]
    },
    {
     "name": "stdout",
     "output_type": "stream",
     "text": [
      "180\n",
      "[epoch: 1, batch:    181] loss: 0.07655 time model: 11.73086 acc: 28.90000\n"
     ]
    },
    {
     "name": "stdout",
     "output_type": "stream",
     "text": [
      "200\n",
      "[epoch: 1, batch:    201] loss: 0.07635 time model: 13.03342 acc: 32.90000\n"
     ]
    },
    {
     "name": "stdout",
     "output_type": "stream",
     "text": [
      "220\n",
      "[epoch: 1, batch:    221] loss: 0.07592 time model: 14.33628 acc: 37.80000\n"
     ]
    },
    {
     "name": "stdout",
     "output_type": "stream",
     "text": [
      "240\n",
      "[epoch: 1, batch:    241] loss: 0.07529 time model: 15.63905 acc: 43.05000\n"
     ]
    },
    {
     "name": "stdout",
     "output_type": "stream",
     "text": [
      "260\n",
      "[epoch: 1, batch:    261] loss: 0.07522 time model: 16.94221 acc: 46.65000\n"
     ]
    },
    {
     "name": "stdout",
     "output_type": "stream",
     "text": [
      "280\n",
      "[epoch: 1, batch:    281] loss: 0.07527 time model: 18.24485 acc: 49.35000\n"
     ]
    },
    {
     "name": "stdout",
     "output_type": "stream",
     "text": [
      "300\n",
      "[epoch: 1, batch:    301] loss: 0.07513 time model: 19.54759 acc: 53.65000\n"
     ]
    },
    {
     "name": "stdout",
     "output_type": "stream",
     "text": [
      "320\n",
      "[epoch: 1, batch:    321] loss: 0.07511 time model: 20.84970 acc: 57.30000\n"
     ]
    },
    {
     "name": "stdout",
     "output_type": "stream",
     "text": [
      "340\n",
      "[epoch: 1, batch:    341] loss: 0.07484 time model: 22.15115 acc: 62.15000\n"
     ]
    },
    {
     "name": "stdout",
     "output_type": "stream",
     "text": [
      "360\n",
      "[epoch: 1, batch:    361] loss: 0.07449 time model: 23.45321 acc: 67.90000\n"
     ]
    },
    {
     "name": "stdout",
     "output_type": "stream",
     "text": [
      "380\n",
      "[epoch: 1, batch:    381] loss: 0.07459 time model: 24.75663 acc: 71.45000\n"
     ]
    },
    {
     "name": "stdout",
     "output_type": "stream",
     "text": [
      "400\n",
      "[epoch: 1, batch:    401] loss: 0.07430 time model: 26.05913 acc: 78.00000\n"
     ]
    },
    {
     "name": "stdout",
     "output_type": "stream",
     "text": [
      "420\n",
      "[epoch: 1, batch:    421] loss: 0.07369 time model: 27.36001 acc: 87.65000\n"
     ]
    },
    {
     "name": "stdout",
     "output_type": "stream",
     "text": [
      "440\n",
      "[epoch: 1, batch:    441] loss: 0.07275 time model: 28.66150 acc: 100.75000\n"
     ]
    },
    {
     "name": "stdout",
     "output_type": "stream",
     "text": [
      "460\n",
      "[epoch: 1, batch:    461] loss: 0.07283 time model: 29.96352 acc: 105.75000\n"
     ]
    },
    {
     "name": "stdout",
     "output_type": "stream",
     "text": [
      "480\n",
      "[epoch: 1, batch:    481] loss: 0.07263 time model: 31.26502 acc: 112.10000\n"
     ]
    },
    {
     "name": "stdout",
     "output_type": "stream",
     "text": [
      "500\n",
      "[epoch: 1, batch:    501] loss: 0.07226 time model: 32.56801 acc: 119.55000\n"
     ]
    },
    {
     "name": "stdout",
     "output_type": "stream",
     "text": [
      "520\n",
      "[epoch: 1, batch:    521] loss: 0.07227 time model: 33.86939 acc: 124.60000\n"
     ]
    },
    {
     "name": "stdout",
     "output_type": "stream",
     "text": [
      "540\n",
      "[epoch: 1, batch:    541] loss: 0.07223 time model: 35.17132 acc: 129.30000\n"
     ]
    },
    {
     "name": "stdout",
     "output_type": "stream",
     "text": [
      "560\n",
      "[epoch: 1, batch:    561] loss: 0.07217 time model: 36.47373 acc: 135.20000\n"
     ]
    },
    {
     "name": "stdout",
     "output_type": "stream",
     "text": [
      "580\n",
      "[epoch: 1, batch:    581] loss: 0.07190 time model: 37.77710 acc: 143.05000\n"
     ]
    },
    {
     "name": "stdout",
     "output_type": "stream",
     "text": [
      "600\n",
      "[epoch: 1, batch:    601] loss: 0.07185 time model: 39.08014 acc: 149.20000\n"
     ]
    },
    {
     "name": "stdout",
     "output_type": "stream",
     "text": [
      "620\n",
      "[epoch: 1, batch:    621] loss: 0.07202 time model: 40.38320 acc: 152.60000\n"
     ]
    },
    {
     "name": "stdout",
     "output_type": "stream",
     "text": [
      "640\n",
      "[epoch: 1, batch:    641] loss: 0.07197 time model: 41.68604 acc: 157.70000\n"
     ]
    },
    {
     "name": "stdout",
     "output_type": "stream",
     "text": [
      "660\n",
      "[epoch: 1, batch:    661] loss: 0.07191 time model: 42.97228 acc: 163.30000\n"
     ]
    },
    {
     "name": "stdout",
     "output_type": "stream",
     "text": [
      "20\n",
      "[epoch: 1, batch:     21] loss: 0.07845 time model: 0.84394 acc: 4.70000\n"
     ]
    },
    {
     "name": "stdout",
     "output_type": "stream",
     "text": [
      "40\n",
      "[epoch: 1, batch:     41] loss: 0.07912 time model: 1.68814 acc: 8.70000\n"
     ]
    },
    {
     "name": "stdout",
     "output_type": "stream",
     "text": [
      "60\n",
      "[epoch: 1, batch:     61] loss: 0.07880 time model: 2.53265 acc: 13.30000\n"
     ]
    },
    {
     "name": "stdout",
     "output_type": "stream",
     "text": [
      "80\n",
      "[epoch: 1, batch:     81] loss: 0.07885 time model: 3.37628 acc: 17.85000\n"
     ]
    },
    {
     "name": "stdout",
     "output_type": "stream",
     "text": [
      "epoch:1 train loss: 0.07190961527107056 train acc: 0.15475005922767116 valid loss: 0.07912043198440072 valid acc: 0.14008537058595266\n",
      "epoch:1 train loss: 0.07190961527107056 train acc: 0.15475005922767116 valid loss: 0.07912043198440072 valid acc: 0.14008537058595266\n"
     ]
    },
    {
     "name": "stdout",
     "output_type": "stream",
     "text": [
      "20\n",
      "[epoch: 2, batch:     21] loss: 0.06463 time model: 1.30650 acc: 7.95000\n"
     ]
    },
    {
     "name": "stdout",
     "output_type": "stream",
     "text": [
      "40\n",
      "[epoch: 2, batch:     41] loss: 0.06507 time model: 2.61205 acc: 14.45000\n"
     ]
    },
    {
     "name": "stdout",
     "output_type": "stream",
     "text": [
      "60\n",
      "[epoch: 2, batch:     61] loss: 0.06395 time model: 3.91762 acc: 23.35000\n"
     ]
    },
    {
     "name": "stdout",
     "output_type": "stream",
     "text": [
      "80\n",
      "[epoch: 2, batch:     81] loss: 0.06386 time model: 5.22418 acc: 31.65000\n"
     ]
    },
    {
     "name": "stdout",
     "output_type": "stream",
     "text": [
      "100\n",
      "[epoch: 2, batch:    101] loss: 0.06351 time model: 6.53048 acc: 40.55000\n"
     ]
    },
    {
     "name": "stdout",
     "output_type": "stream",
     "text": [
      "120\n",
      "[epoch: 2, batch:    121] loss: 0.06322 time model: 7.83673 acc: 50.10000\n"
     ]
    },
    {
     "name": "stdout",
     "output_type": "stream",
     "text": [
      "140\n",
      "[epoch: 2, batch:    141] loss: 0.06317 time model: 9.14317 acc: 58.45000\n"
     ]
    },
    {
     "name": "stdout",
     "output_type": "stream",
     "text": [
      "160\n",
      "[epoch: 2, batch:    161] loss: 0.06233 time model: 10.44872 acc: 69.90000\n"
     ]
    },
    {
     "name": "stdout",
     "output_type": "stream",
     "text": [
      "180\n",
      "[epoch: 2, batch:    181] loss: 0.06117 time model: 11.75385 acc: 82.85000\n"
     ]
    },
    {
     "name": "stdout",
     "output_type": "stream",
     "text": [
      "200\n",
      "[epoch: 2, batch:    201] loss: 0.06021 time model: 13.05960 acc: 96.00000\n"
     ]
    },
    {
     "name": "stdout",
     "output_type": "stream",
     "text": [
      "220\n",
      "[epoch: 2, batch:    221] loss: 0.05919 time model: 14.36543 acc: 109.80000\n"
     ]
    },
    {
     "name": "stdout",
     "output_type": "stream",
     "text": [
      "240\n",
      "[epoch: 2, batch:    241] loss: 0.05807 time model: 15.67171 acc: 125.20000\n"
     ]
    },
    {
     "name": "stdout",
     "output_type": "stream",
     "text": [
      "260\n",
      "[epoch: 2, batch:    261] loss: 0.05743 time model: 16.97801 acc: 139.05000\n"
     ]
    },
    {
     "name": "stdout",
     "output_type": "stream",
     "text": [
      "280\n",
      "[epoch: 2, batch:    281] loss: 0.05667 time model: 18.28436 acc: 154.25000\n"
     ]
    },
    {
     "name": "stdout",
     "output_type": "stream",
     "text": [
      "300\n",
      "[epoch: 2, batch:    301] loss: 0.05558 time model: 19.59097 acc: 170.50000\n"
     ]
    },
    {
     "name": "stdout",
     "output_type": "stream",
     "text": [
      "320\n",
      "[epoch: 2, batch:    321] loss: 0.05434 time model: 20.89716 acc: 189.25000\n"
     ]
    },
    {
     "name": "stdout",
     "output_type": "stream",
     "text": [
      "340\n",
      "[epoch: 2, batch:    341] loss: 0.05328 time model: 22.20275 acc: 208.55000\n"
     ]
    },
    {
     "name": "stdout",
     "output_type": "stream",
     "text": [
      "360\n",
      "[epoch: 2, batch:    361] loss: 0.05246 time model: 23.50945 acc: 227.60000\n"
     ]
    },
    {
     "name": "stdout",
     "output_type": "stream",
     "text": [
      "380\n",
      "[epoch: 2, batch:    381] loss: 0.05146 time model: 24.81662 acc: 248.45000\n"
     ]
    },
    {
     "name": "stdout",
     "output_type": "stream",
     "text": [
      "400\n",
      "[epoch: 2, batch:    401] loss: 0.05060 time model: 26.12427 acc: 268.90000\n"
     ]
    },
    {
     "name": "stdout",
     "output_type": "stream",
     "text": [
      "420\n",
      "[epoch: 2, batch:    421] loss: 0.04964 time model: 27.43138 acc: 290.45000\n"
     ]
    },
    {
     "name": "stdout",
     "output_type": "stream",
     "text": [
      "440\n",
      "[epoch: 2, batch:    441] loss: 0.04861 time model: 28.73758 acc: 313.55000\n"
     ]
    },
    {
     "name": "stdout",
     "output_type": "stream",
     "text": [
      "460\n",
      "[epoch: 2, batch:    461] loss: 0.04755 time model: 30.04436 acc: 337.55000\n"
     ]
    },
    {
     "name": "stdout",
     "output_type": "stream",
     "text": [
      "480\n",
      "[epoch: 2, batch:    481] loss: 0.04638 time model: 31.35049 acc: 364.25000\n"
     ]
    },
    {
     "name": "stdout",
     "output_type": "stream",
     "text": [
      "500\n",
      "[epoch: 2, batch:    501] loss: 0.04525 time model: 32.65761 acc: 391.30000\n"
     ]
    },
    {
     "name": "stdout",
     "output_type": "stream",
     "text": [
      "520\n",
      "[epoch: 2, batch:    521] loss: 0.04451 time model: 33.96368 acc: 415.80000\n"
     ]
    },
    {
     "name": "stdout",
     "output_type": "stream",
     "text": [
      "540\n",
      "[epoch: 2, batch:    541] loss: 0.04383 time model: 35.26969 acc: 439.90000\n"
     ]
    },
    {
     "name": "stdout",
     "output_type": "stream",
     "text": [
      "560\n",
      "[epoch: 2, batch:    561] loss: 0.04296 time model: 36.57420 acc: 465.90000\n"
     ]
    },
    {
     "name": "stdout",
     "output_type": "stream",
     "text": [
      "580\n",
      "[epoch: 2, batch:    581] loss: 0.04214 time model: 37.88135 acc: 491.75000\n"
     ]
    },
    {
     "name": "stdout",
     "output_type": "stream",
     "text": [
      "600\n",
      "[epoch: 2, batch:    601] loss: 0.04124 time model: 39.18798 acc: 518.65000\n"
     ]
    },
    {
     "name": "stdout",
     "output_type": "stream",
     "text": [
      "620\n",
      "[epoch: 2, batch:    621] loss: 0.04036 time model: 40.49415 acc: 546.35000\n"
     ]
    },
    {
     "name": "stdout",
     "output_type": "stream",
     "text": [
      "640\n",
      "[epoch: 2, batch:    641] loss: 0.03942 time model: 41.80169 acc: 575.80000\n"
     ]
    },
    {
     "name": "stdout",
     "output_type": "stream",
     "text": [
      "660\n",
      "[epoch: 2, batch:    661] loss: 0.03866 time model: 43.08886 acc: 602.50000\n"
     ]
    },
    {
     "name": "stdout",
     "output_type": "stream",
     "text": [
      "20\n",
      "[epoch: 2, batch:     21] loss: 0.05170 time model: 0.84220 acc: 14.65000\n"
     ]
    },
    {
     "name": "stdout",
     "output_type": "stream",
     "text": [
      "40\n",
      "[epoch: 2, batch:     41] loss: 0.05182 time model: 1.68462 acc: 28.65000\n"
     ]
    },
    {
     "name": "stdout",
     "output_type": "stream",
     "text": [
      "60\n",
      "[epoch: 2, batch:     61] loss: 0.05224 time model: 2.52627 acc: 43.55000\n"
     ]
    },
    {
     "name": "stdout",
     "output_type": "stream",
     "text": [
      "80\n",
      "[epoch: 2, batch:     81] loss: 0.05262 time model: 3.36880 acc: 57.20000\n"
     ]
    },
    {
     "name": "stdout",
     "output_type": "stream",
     "text": [
      "epoch:2 train loss: 0.03865741330621029 train acc: 0.5709547500592277 valid loss: 0.05293494828412548 valid acc: 0.4470314318975553\n",
      "epoch:2 train loss: 0.03865741330621029 train acc: 0.5709547500592277 valid loss: 0.05293494828412548 valid acc: 0.4470314318975553\n"
     ]
    },
    {
     "name": "stdout",
     "output_type": "stream",
     "text": [
      "20\n",
      "[epoch: 3, batch:     21] loss: 0.01118 time model: 1.30752 acc: 28.95000\n"
     ]
    },
    {
     "name": "stdout",
     "output_type": "stream",
     "text": [
      "40\n",
      "[epoch: 3, batch:     41] loss: 0.01048 time model: 2.61564 acc: 58.60000\n"
     ]
    },
    {
     "name": "stdout",
     "output_type": "stream",
     "text": [
      "60\n",
      "[epoch: 3, batch:     61] loss: 0.00995 time model: 3.92204 acc: 87.80000\n"
     ]
    },
    {
     "name": "stdout",
     "output_type": "stream",
     "text": [
      "80\n",
      "[epoch: 3, batch:     81] loss: 0.01015 time model: 5.22832 acc: 116.20000\n"
     ]
    },
    {
     "name": "stdout",
     "output_type": "stream",
     "text": [
      "100\n",
      "[epoch: 3, batch:    101] loss: 0.00968 time model: 6.53567 acc: 146.30000\n"
     ]
    },
    {
     "name": "stdout",
     "output_type": "stream",
     "text": [
      "120\n",
      "[epoch: 3, batch:    121] loss: 0.00943 time model: 7.84233 acc: 176.25000\n"
     ]
    },
    {
     "name": "stdout",
     "output_type": "stream",
     "text": [
      "140\n",
      "[epoch: 3, batch:    141] loss: 0.00906 time model: 9.14860 acc: 206.60000\n"
     ]
    },
    {
     "name": "stdout",
     "output_type": "stream",
     "text": [
      "160\n",
      "[epoch: 3, batch:    161] loss: 0.00879 time model: 10.45204 acc: 236.55000\n"
     ]
    },
    {
     "name": "stdout",
     "output_type": "stream",
     "text": [
      "180\n",
      "[epoch: 3, batch:    181] loss: 0.00914 time model: 11.75529 acc: 265.30000\n"
     ]
    },
    {
     "name": "stdout",
     "output_type": "stream",
     "text": [
      "200\n",
      "[epoch: 3, batch:    201] loss: 0.00986 time model: 13.05783 acc: 292.05000\n"
     ]
    },
    {
     "name": "stdout",
     "output_type": "stream",
     "text": [
      "220\n",
      "[epoch: 3, batch:    221] loss: 0.00983 time model: 14.36114 acc: 321.20000\n"
     ]
    },
    {
     "name": "stdout",
     "output_type": "stream",
     "text": [
      "240\n",
      "[epoch: 3, batch:    241] loss: 0.00946 time model: 15.66482 acc: 351.90000\n"
     ]
    },
    {
     "name": "stdout",
     "output_type": "stream",
     "text": [
      "260\n",
      "[epoch: 3, batch:    261] loss: 0.00941 time model: 16.96901 acc: 381.40000\n"
     ]
    },
    {
     "name": "stdout",
     "output_type": "stream",
     "text": [
      "280\n",
      "[epoch: 3, batch:    281] loss: 0.00920 time model: 18.27382 acc: 411.50000\n"
     ]
    },
    {
     "name": "stdout",
     "output_type": "stream",
     "text": [
      "300\n",
      "[epoch: 3, batch:    301] loss: 0.00910 time model: 19.57774 acc: 441.55000\n"
     ]
    },
    {
     "name": "stdout",
     "output_type": "stream",
     "text": [
      "320\n",
      "[epoch: 3, batch:    321] loss: 0.00889 time model: 20.88266 acc: 471.65000\n"
     ]
    },
    {
     "name": "stdout",
     "output_type": "stream",
     "text": [
      "340\n",
      "[epoch: 3, batch:    341] loss: 0.00866 time model: 22.18595 acc: 502.35000\n"
     ]
    },
    {
     "name": "stdout",
     "output_type": "stream",
     "text": [
      "360\n",
      "[epoch: 3, batch:    361] loss: 0.00850 time model: 23.49148 acc: 532.65000\n"
     ]
    },
    {
     "name": "stdout",
     "output_type": "stream",
     "text": [
      "380\n",
      "[epoch: 3, batch:    381] loss: 0.00840 time model: 24.79771 acc: 562.75000\n"
     ]
    },
    {
     "name": "stdout",
     "output_type": "stream",
     "text": [
      "400\n",
      "[epoch: 3, batch:    401] loss: 0.00827 time model: 26.10241 acc: 593.00000\n"
     ]
    },
    {
     "name": "stdout",
     "output_type": "stream",
     "text": [
      "420\n",
      "[epoch: 3, batch:    421] loss: 0.00814 time model: 27.40619 acc: 623.45000\n"
     ]
    },
    {
     "name": "stdout",
     "output_type": "stream",
     "text": [
      "440\n",
      "[epoch: 3, batch:    441] loss: 0.00795 time model: 28.70903 acc: 654.30000\n"
     ]
    },
    {
     "name": "stdout",
     "output_type": "stream",
     "text": [
      "460\n",
      "[epoch: 3, batch:    461] loss: 0.00781 time model: 30.01239 acc: 684.90000\n"
     ]
    },
    {
     "name": "stdout",
     "output_type": "stream",
     "text": [
      "480\n",
      "[epoch: 3, batch:    481] loss: 0.00771 time model: 31.31630 acc: 715.25000\n"
     ]
    },
    {
     "name": "stdout",
     "output_type": "stream",
     "text": [
      "500\n",
      "[epoch: 3, batch:    501] loss: 0.00764 time model: 32.62096 acc: 745.55000\n"
     ]
    },
    {
     "name": "stdout",
     "output_type": "stream",
     "text": [
      "520\n",
      "[epoch: 3, batch:    521] loss: 0.00757 time model: 33.92400 acc: 775.85000\n"
     ]
    },
    {
     "name": "stdout",
     "output_type": "stream",
     "text": [
      "540\n",
      "[epoch: 3, batch:    541] loss: 0.00746 time model: 35.22694 acc: 806.75000\n"
     ]
    },
    {
     "name": "stdout",
     "output_type": "stream",
     "text": [
      "560\n",
      "[epoch: 3, batch:    561] loss: 0.00737 time model: 36.53025 acc: 837.60000\n"
     ]
    },
    {
     "name": "stdout",
     "output_type": "stream",
     "text": [
      "580\n",
      "[epoch: 3, batch:    581] loss: 0.00726 time model: 37.83516 acc: 868.40000\n"
     ]
    },
    {
     "name": "stdout",
     "output_type": "stream",
     "text": [
      "600\n",
      "[epoch: 3, batch:    601] loss: 0.00719 time model: 39.13815 acc: 898.95000\n"
     ]
    },
    {
     "name": "stdout",
     "output_type": "stream",
     "text": [
      "620\n",
      "[epoch: 3, batch:    621] loss: 0.00713 time model: 40.44107 acc: 929.25000\n"
     ]
    },
    {
     "name": "stdout",
     "output_type": "stream",
     "text": [
      "640\n",
      "[epoch: 3, batch:    641] loss: 0.00706 time model: 41.74721 acc: 959.95000\n"
     ]
    },
    {
     "name": "stdout",
     "output_type": "stream",
     "text": [
      "660\n",
      "[epoch: 3, batch:    661] loss: 0.00706 time model: 43.03283 acc: 989.30000\n"
     ]
    },
    {
     "name": "stdout",
     "output_type": "stream",
     "text": [
      "20\n",
      "[epoch: 3, batch:     21] loss: 0.03770 time model: 0.83652 acc: 19.30000\n"
     ]
    },
    {
     "name": "stdout",
     "output_type": "stream",
     "text": [
      "40\n",
      "[epoch: 3, batch:     41] loss: 0.04094 time model: 1.67182 acc: 36.00000\n"
     ]
    },
    {
     "name": "stdout",
     "output_type": "stream",
     "text": [
      "60\n",
      "[epoch: 3, batch:     61] loss: 0.04246 time model: 2.50881 acc: 52.85000\n"
     ]
    },
    {
     "name": "stdout",
     "output_type": "stream",
     "text": [
      "80\n",
      "[epoch: 3, batch:     81] loss: 0.04215 time model: 3.34430 acc: 70.80000\n"
     ]
    },
    {
     "name": "stdout",
     "output_type": "stream",
     "text": [
      "epoch:3 train loss: 0.0070582434100806505 train acc: 0.9375029613835584 valid loss: 0.042457786511209156 valid acc: 0.5518044237485448\n",
      "epoch:3 train loss: 0.0070582434100806505 train acc: 0.9375029613835584 valid loss: 0.042457786511209156 valid acc: 0.5518044237485448\n"
     ]
    },
    {
     "name": "stdout",
     "output_type": "stream",
     "text": [
      "20\n",
      "[epoch: 4, batch:     21] loss: 0.00502 time model: 1.30390 acc: 30.85000\n"
     ]
    },
    {
     "name": "stdout",
     "output_type": "stream",
     "text": [
      "40\n",
      "[epoch: 4, batch:     41] loss: 0.00431 time model: 2.60673 acc: 61.65000\n"
     ]
    },
    {
     "name": "stdout",
     "output_type": "stream",
     "text": [
      "60\n",
      "[epoch: 4, batch:     61] loss: 0.00457 time model: 3.91017 acc: 92.05000\n"
     ]
    },
    {
     "name": "stdout",
     "output_type": "stream",
     "text": [
      "80\n",
      "[epoch: 4, batch:     81] loss: 0.00479 time model: 5.21238 acc: 122.45000\n"
     ]
    },
    {
     "name": "stdout",
     "output_type": "stream",
     "text": [
      "100\n",
      "[epoch: 4, batch:    101] loss: 0.00484 time model: 6.51557 acc: 152.55000\n"
     ]
    },
    {
     "name": "stdout",
     "output_type": "stream",
     "text": [
      "120\n",
      "[epoch: 4, batch:    121] loss: 0.00471 time model: 7.81859 acc: 183.35000\n"
     ]
    },
    {
     "name": "stdout",
     "output_type": "stream",
     "text": [
      "140\n",
      "[epoch: 4, batch:    141] loss: 0.00465 time model: 9.12102 acc: 214.00000\n"
     ]
    },
    {
     "name": "stdout",
     "output_type": "stream",
     "text": [
      "160\n",
      "[epoch: 4, batch:    161] loss: 0.00455 time model: 10.42418 acc: 244.75000\n"
     ]
    },
    {
     "name": "stdout",
     "output_type": "stream",
     "text": [
      "180\n",
      "[epoch: 4, batch:    181] loss: 0.00450 time model: 11.72694 acc: 275.80000\n"
     ]
    },
    {
     "name": "stdout",
     "output_type": "stream",
     "text": [
      "200\n",
      "[epoch: 4, batch:    201] loss: 0.00448 time model: 13.03019 acc: 306.50000\n"
     ]
    },
    {
     "name": "stdout",
     "output_type": "stream",
     "text": [
      "220\n",
      "[epoch: 4, batch:    221] loss: 0.00455 time model: 14.33442 acc: 337.15000\n"
     ]
    },
    {
     "name": "stdout",
     "output_type": "stream",
     "text": [
      "240\n",
      "[epoch: 4, batch:    241] loss: 0.00455 time model: 15.64106 acc: 368.15000\n"
     ]
    },
    {
     "name": "stdout",
     "output_type": "stream",
     "text": [
      "260\n",
      "[epoch: 4, batch:    261] loss: 0.00456 time model: 16.94767 acc: 398.85000\n"
     ]
    },
    {
     "name": "stdout",
     "output_type": "stream",
     "text": [
      "280\n",
      "[epoch: 4, batch:    281] loss: 0.00460 time model: 18.25382 acc: 429.05000\n"
     ]
    },
    {
     "name": "stdout",
     "output_type": "stream",
     "text": [
      "300\n",
      "[epoch: 4, batch:    301] loss: 0.00456 time model: 19.55938 acc: 459.85000\n"
     ]
    },
    {
     "name": "stdout",
     "output_type": "stream",
     "text": [
      "320\n",
      "[epoch: 4, batch:    321] loss: 0.00449 time model: 20.86462 acc: 491.00000\n"
     ]
    },
    {
     "name": "stdout",
     "output_type": "stream",
     "text": [
      "340\n",
      "[epoch: 4, batch:    341] loss: 0.00452 time model: 22.17068 acc: 521.55000\n"
     ]
    },
    {
     "name": "stdout",
     "output_type": "stream",
     "text": [
      "360\n",
      "[epoch: 4, batch:    361] loss: 0.00452 time model: 23.47607 acc: 552.20000\n"
     ]
    },
    {
     "name": "stdout",
     "output_type": "stream",
     "text": [
      "380\n",
      "[epoch: 4, batch:    381] loss: 0.00444 time model: 24.78252 acc: 583.40000\n"
     ]
    },
    {
     "name": "stdout",
     "output_type": "stream",
     "text": [
      "400\n",
      "[epoch: 4, batch:    401] loss: 0.00441 time model: 26.08900 acc: 614.25000\n"
     ]
    },
    {
     "name": "stdout",
     "output_type": "stream",
     "text": [
      "420\n",
      "[epoch: 4, batch:    421] loss: 0.00437 time model: 27.39424 acc: 645.10000\n"
     ]
    },
    {
     "name": "stdout",
     "output_type": "stream",
     "text": [
      "440\n",
      "[epoch: 4, batch:    441] loss: 0.00443 time model: 28.70001 acc: 675.35000\n"
     ]
    },
    {
     "name": "stdout",
     "output_type": "stream",
     "text": [
      "460\n",
      "[epoch: 4, batch:    461] loss: 0.00440 time model: 30.00697 acc: 706.50000\n"
     ]
    },
    {
     "name": "stdout",
     "output_type": "stream",
     "text": [
      "480\n",
      "[epoch: 4, batch:    481] loss: 0.00437 time model: 31.31304 acc: 737.20000\n"
     ]
    },
    {
     "name": "stdout",
     "output_type": "stream",
     "text": [
      "500\n",
      "[epoch: 4, batch:    501] loss: 0.00435 time model: 32.61943 acc: 768.05000\n"
     ]
    },
    {
     "name": "stdout",
     "output_type": "stream",
     "text": [
      "520\n",
      "[epoch: 4, batch:    521] loss: 0.00433 time model: 33.92570 acc: 798.70000\n"
     ]
    },
    {
     "name": "stdout",
     "output_type": "stream",
     "text": [
      "540\n",
      "[epoch: 4, batch:    541] loss: 0.00434 time model: 35.23174 acc: 829.15000\n"
     ]
    },
    {
     "name": "stdout",
     "output_type": "stream",
     "text": [
      "560\n",
      "[epoch: 4, batch:    561] loss: 0.00434 time model: 36.53822 acc: 859.80000\n"
     ]
    },
    {
     "name": "stdout",
     "output_type": "stream",
     "text": [
      "580\n",
      "[epoch: 4, batch:    581] loss: 0.00432 time model: 37.84401 acc: 890.55000\n"
     ]
    },
    {
     "name": "stdout",
     "output_type": "stream",
     "text": [
      "600\n",
      "[epoch: 4, batch:    601] loss: 0.00429 time model: 39.15071 acc: 921.60000\n"
     ]
    },
    {
     "name": "stdout",
     "output_type": "stream",
     "text": [
      "620\n",
      "[epoch: 4, batch:    621] loss: 0.00428 time model: 40.45654 acc: 952.45000\n"
     ]
    },
    {
     "name": "stdout",
     "output_type": "stream",
     "text": [
      "640\n",
      "[epoch: 4, batch:    641] loss: 0.00423 time model: 41.76482 acc: 983.80000\n"
     ]
    },
    {
     "name": "stdout",
     "output_type": "stream",
     "text": [
      "660\n",
      "[epoch: 4, batch:    661] loss: 0.00421 time model: 43.05335 acc: 1013.95000\n"
     ]
    },
    {
     "name": "stdout",
     "output_type": "stream",
     "text": [
      "20\n",
      "[epoch: 4, batch:     21] loss: 0.04856 time model: 0.84063 acc: 17.00000\n"
     ]
    },
    {
     "name": "stdout",
     "output_type": "stream",
     "text": [
      "40\n",
      "[epoch: 4, batch:     41] loss: 0.04729 time model: 1.68318 acc: 34.70000\n"
     ]
    },
    {
     "name": "stdout",
     "output_type": "stream",
     "text": [
      "60\n",
      "[epoch: 4, batch:     61] loss: 0.04549 time model: 2.52462 acc: 52.50000\n"
     ]
    },
    {
     "name": "stdout",
     "output_type": "stream",
     "text": [
      "80\n",
      "[epoch: 4, batch:     81] loss: 0.04566 time model: 3.36610 acc: 69.90000\n"
     ]
    },
    {
     "name": "stdout",
     "output_type": "stream",
     "text": [
      "epoch:4 train loss: 0.00421258052539639 train acc: 0.9608623548922056 valid loss: 0.04585432546010164 valid acc: 0.5459837019790454\n",
      "epoch:4 train loss: 0.00421258052539639 train acc: 0.9608623548922056 valid loss: 0.04585432546010164 valid acc: 0.5459837019790454\n"
     ]
    },
    {
     "name": "stdout",
     "output_type": "stream",
     "text": [
      "20\n",
      "[epoch: 5, batch:     21] loss: 0.00343 time model: 1.30738 acc: 31.00000\n"
     ]
    },
    {
     "name": "stdout",
     "output_type": "stream",
     "text": [
      "40\n",
      "[epoch: 5, batch:     41] loss: 0.00337 time model: 2.61657 acc: 62.10000\n"
     ]
    },
    {
     "name": "stdout",
     "output_type": "stream",
     "text": [
      "60\n",
      "[epoch: 5, batch:     61] loss: 0.00295 time model: 3.92462 acc: 93.75000\n"
     ]
    },
    {
     "name": "stdout",
     "output_type": "stream",
     "text": [
      "80\n",
      "[epoch: 5, batch:     81] loss: 0.00323 time model: 5.23206 acc: 124.30000\n"
     ]
    },
    {
     "name": "stdout",
     "output_type": "stream",
     "text": [
      "100\n",
      "[epoch: 5, batch:    101] loss: 0.00333 time model: 6.53958 acc: 155.25000\n"
     ]
    },
    {
     "name": "stdout",
     "output_type": "stream",
     "text": [
      "120\n",
      "[epoch: 5, batch:    121] loss: 0.00335 time model: 7.84641 acc: 186.15000\n"
     ]
    },
    {
     "name": "stdout",
     "output_type": "stream",
     "text": [
      "140\n",
      "[epoch: 5, batch:    141] loss: 0.00328 time model: 9.15295 acc: 217.25000\n"
     ]
    },
    {
     "name": "stdout",
     "output_type": "stream",
     "text": [
      "160\n",
      "[epoch: 5, batch:    161] loss: 0.00321 time model: 10.46064 acc: 248.40000\n"
     ]
    },
    {
     "name": "stdout",
     "output_type": "stream",
     "text": [
      "180\n",
      "[epoch: 5, batch:    181] loss: 0.00322 time model: 11.76633 acc: 279.25000\n"
     ]
    },
    {
     "name": "stdout",
     "output_type": "stream",
     "text": [
      "200\n",
      "[epoch: 5, batch:    201] loss: 0.00323 time model: 13.07322 acc: 310.20000\n"
     ]
    },
    {
     "name": "stdout",
     "output_type": "stream",
     "text": [
      "220\n",
      "[epoch: 5, batch:    221] loss: 0.00328 time model: 14.37944 acc: 340.90000\n"
     ]
    },
    {
     "name": "stdout",
     "output_type": "stream",
     "text": [
      "240\n",
      "[epoch: 5, batch:    241] loss: 0.00329 time model: 15.68608 acc: 371.70000\n"
     ]
    },
    {
     "name": "stdout",
     "output_type": "stream",
     "text": [
      "260\n",
      "[epoch: 5, batch:    261] loss: 0.00343 time model: 16.99290 acc: 402.35000\n"
     ]
    },
    {
     "name": "stdout",
     "output_type": "stream",
     "text": [
      "280\n",
      "[epoch: 5, batch:    281] loss: 0.00350 time model: 18.30010 acc: 432.95000\n"
     ]
    },
    {
     "name": "stdout",
     "output_type": "stream",
     "text": [
      "300\n",
      "[epoch: 5, batch:    301] loss: 0.00357 time model: 19.60607 acc: 463.55000\n"
     ]
    },
    {
     "name": "stdout",
     "output_type": "stream",
     "text": [
      "320\n",
      "[epoch: 5, batch:    321] loss: 0.00352 time model: 20.91316 acc: 494.60000\n"
     ]
    },
    {
     "name": "stdout",
     "output_type": "stream",
     "text": [
      "340\n",
      "[epoch: 5, batch:    341] loss: 0.00348 time model: 22.22050 acc: 525.65000\n"
     ]
    },
    {
     "name": "stdout",
     "output_type": "stream",
     "text": [
      "360\n",
      "[epoch: 5, batch:    361] loss: 0.00345 time model: 23.52766 acc: 556.65000\n"
     ]
    },
    {
     "name": "stdout",
     "output_type": "stream",
     "text": [
      "380\n",
      "[epoch: 5, batch:    381] loss: 0.00343 time model: 24.83443 acc: 587.75000\n"
     ]
    },
    {
     "name": "stdout",
     "output_type": "stream",
     "text": [
      "400\n",
      "[epoch: 5, batch:    401] loss: 0.00340 time model: 26.14141 acc: 618.80000\n"
     ]
    },
    {
     "name": "stdout",
     "output_type": "stream",
     "text": [
      "420\n",
      "[epoch: 5, batch:    421] loss: 0.00336 time model: 27.44837 acc: 649.85000\n"
     ]
    },
    {
     "name": "stdout",
     "output_type": "stream",
     "text": [
      "440\n",
      "[epoch: 5, batch:    441] loss: 0.00333 time model: 28.75339 acc: 681.10000\n"
     ]
    },
    {
     "name": "stdout",
     "output_type": "stream",
     "text": [
      "460\n",
      "[epoch: 5, batch:    461] loss: 0.00330 time model: 30.05623 acc: 712.40000\n"
     ]
    },
    {
     "name": "stdout",
     "output_type": "stream",
     "text": [
      "480\n",
      "[epoch: 5, batch:    481] loss: 0.00329 time model: 31.35937 acc: 743.40000\n"
     ]
    },
    {
     "name": "stdout",
     "output_type": "stream",
     "text": [
      "500\n",
      "[epoch: 5, batch:    501] loss: 0.00330 time model: 32.66332 acc: 774.35000\n"
     ]
    },
    {
     "name": "stdout",
     "output_type": "stream",
     "text": [
      "520\n",
      "[epoch: 5, batch:    521] loss: 0.00333 time model: 33.96751 acc: 805.10000\n"
     ]
    },
    {
     "name": "stdout",
     "output_type": "stream",
     "text": [
      "540\n",
      "[epoch: 5, batch:    541] loss: 0.00331 time model: 35.27095 acc: 836.30000\n"
     ]
    },
    {
     "name": "stdout",
     "output_type": "stream",
     "text": [
      "560\n",
      "[epoch: 5, batch:    561] loss: 0.00332 time model: 36.57571 acc: 867.10000\n"
     ]
    },
    {
     "name": "stdout",
     "output_type": "stream",
     "text": [
      "580\n",
      "[epoch: 5, batch:    581] loss: 0.00330 time model: 37.87907 acc: 898.30000\n"
     ]
    },
    {
     "name": "stdout",
     "output_type": "stream",
     "text": [
      "600\n",
      "[epoch: 5, batch:    601] loss: 0.00326 time model: 39.18229 acc: 929.75000\n"
     ]
    },
    {
     "name": "stdout",
     "output_type": "stream",
     "text": [
      "620\n",
      "[epoch: 5, batch:    621] loss: 0.00322 time model: 40.48752 acc: 961.20000\n"
     ]
    },
    {
     "name": "stdout",
     "output_type": "stream",
     "text": [
      "640\n",
      "[epoch: 5, batch:    641] loss: 0.00317 time model: 41.79211 acc: 993.00000\n"
     ]
    },
    {
     "name": "stdout",
     "output_type": "stream",
     "text": [
      "660\n",
      "[epoch: 5, batch:    661] loss: 0.00314 time model: 43.07617 acc: 1023.70000\n"
     ]
    },
    {
     "name": "stdout",
     "output_type": "stream",
     "text": [
      "20\n",
      "[epoch: 5, batch:     21] loss: 0.03406 time model: 0.83915 acc: 21.25000\n"
     ]
    },
    {
     "name": "stdout",
     "output_type": "stream",
     "text": [
      "40\n",
      "[epoch: 5, batch:     41] loss: 0.03334 time model: 1.67716 acc: 42.85000\n"
     ]
    },
    {
     "name": "stdout",
     "output_type": "stream",
     "text": [
      "60\n",
      "[epoch: 5, batch:     61] loss: 0.03196 time model: 2.51492 acc: 65.55000\n"
     ]
    },
    {
     "name": "stdout",
     "output_type": "stream",
     "text": [
      "80\n",
      "[epoch: 5, batch:     81] loss: 0.03213 time model: 3.35132 acc: 87.15000\n"
     ]
    },
    {
     "name": "stdout",
     "output_type": "stream",
     "text": [
      "epoch:5 train loss: 0.0031379618112494724 train acc: 0.9701018715944089 valid loss: 0.032281030320732644 valid acc: 0.6802483507954986\n",
      "epoch:5 train loss: 0.0031379618112494724 train acc: 0.9701018715944089 valid loss: 0.032281030320732644 valid acc: 0.6802483507954986\n"
     ]
    },
    {
     "name": "stdout",
     "output_type": "stream",
     "text": [
      "20\n",
      "[epoch: 6, batch:     21] loss: 0.00230 time model: 1.30440 acc: 31.40000\n"
     ]
    },
    {
     "name": "stdout",
     "output_type": "stream",
     "text": [
      "40\n",
      "[epoch: 6, batch:     41] loss: 0.00227 time model: 2.60731 acc: 62.80000\n"
     ]
    },
    {
     "name": "stdout",
     "output_type": "stream",
     "text": [
      "60\n",
      "[epoch: 6, batch:     61] loss: 0.00258 time model: 3.91165 acc: 93.90000\n"
     ]
    },
    {
     "name": "stdout",
     "output_type": "stream",
     "text": [
      "80\n",
      "[epoch: 6, batch:     81] loss: 0.00296 time model: 5.21603 acc: 124.65000\n"
     ]
    },
    {
     "name": "stdout",
     "output_type": "stream",
     "text": [
      "100\n",
      "[epoch: 6, batch:    101] loss: 0.00302 time model: 6.51927 acc: 155.55000\n"
     ]
    },
    {
     "name": "stdout",
     "output_type": "stream",
     "text": [
      "120\n",
      "[epoch: 6, batch:    121] loss: 0.00310 time model: 7.82407 acc: 186.40000\n"
     ]
    },
    {
     "name": "stdout",
     "output_type": "stream",
     "text": [
      "140\n",
      "[epoch: 6, batch:    141] loss: 0.00309 time model: 9.12675 acc: 217.30000\n"
     ]
    },
    {
     "name": "stdout",
     "output_type": "stream",
     "text": [
      "160\n",
      "[epoch: 6, batch:    161] loss: 0.00360 time model: 10.42964 acc: 247.35000\n"
     ]
    },
    {
     "name": "stdout",
     "output_type": "stream",
     "text": [
      "180\n",
      "[epoch: 6, batch:    181] loss: 0.00399 time model: 11.73438 acc: 277.05000\n"
     ]
    },
    {
     "name": "stdout",
     "output_type": "stream",
     "text": [
      "200\n",
      "[epoch: 6, batch:    201] loss: 0.00401 time model: 13.03879 acc: 307.70000\n"
     ]
    },
    {
     "name": "stdout",
     "output_type": "stream",
     "text": [
      "220\n",
      "[epoch: 6, batch:    221] loss: 0.00379 time model: 14.34306 acc: 339.40000\n"
     ]
    },
    {
     "name": "stdout",
     "output_type": "stream",
     "text": [
      "240\n",
      "[epoch: 6, batch:    241] loss: 0.00372 time model: 15.64648 acc: 370.45000\n"
     ]
    },
    {
     "name": "stdout",
     "output_type": "stream",
     "text": [
      "260\n",
      "[epoch: 6, batch:    261] loss: 0.00365 time model: 16.95102 acc: 401.80000\n"
     ]
    },
    {
     "name": "stdout",
     "output_type": "stream",
     "text": [
      "280\n",
      "[epoch: 6, batch:    281] loss: 0.00366 time model: 18.25439 acc: 432.60000\n"
     ]
    },
    {
     "name": "stdout",
     "output_type": "stream",
     "text": [
      "300\n",
      "[epoch: 6, batch:    301] loss: 0.00360 time model: 19.55905 acc: 463.85000\n"
     ]
    },
    {
     "name": "stdout",
     "output_type": "stream",
     "text": [
      "320\n",
      "[epoch: 6, batch:    321] loss: 0.00349 time model: 20.86202 acc: 495.25000\n"
     ]
    },
    {
     "name": "stdout",
     "output_type": "stream",
     "text": [
      "340\n",
      "[epoch: 6, batch:    341] loss: 0.00340 time model: 22.16562 acc: 526.70000\n"
     ]
    },
    {
     "name": "stdout",
     "output_type": "stream",
     "text": [
      "360\n",
      "[epoch: 6, batch:    361] loss: 0.00339 time model: 23.46932 acc: 557.60000\n"
     ]
    },
    {
     "name": "stdout",
     "output_type": "stream",
     "text": [
      "380\n",
      "[epoch: 6, batch:    381] loss: 0.00338 time model: 24.77414 acc: 588.70000\n"
     ]
    },
    {
     "name": "stdout",
     "output_type": "stream",
     "text": [
      "400\n",
      "[epoch: 6, batch:    401] loss: 0.00333 time model: 26.07835 acc: 619.95000\n"
     ]
    },
    {
     "name": "stdout",
     "output_type": "stream",
     "text": [
      "420\n",
      "[epoch: 6, batch:    421] loss: 0.00325 time model: 27.38262 acc: 651.45000\n"
     ]
    },
    {
     "name": "stdout",
     "output_type": "stream",
     "text": [
      "440\n",
      "[epoch: 6, batch:    441] loss: 0.00318 time model: 28.68750 acc: 683.10000\n"
     ]
    },
    {
     "name": "stdout",
     "output_type": "stream",
     "text": [
      "460\n",
      "[epoch: 6, batch:    461] loss: 0.00315 time model: 29.99202 acc: 714.45000\n"
     ]
    },
    {
     "name": "stdout",
     "output_type": "stream",
     "text": [
      "480\n",
      "[epoch: 6, batch:    481] loss: 0.00313 time model: 31.29693 acc: 745.80000\n"
     ]
    },
    {
     "name": "stdout",
     "output_type": "stream",
     "text": [
      "500\n",
      "[epoch: 6, batch:    501] loss: 0.00310 time model: 32.60090 acc: 777.05000\n"
     ]
    },
    {
     "name": "stdout",
     "output_type": "stream",
     "text": [
      "520\n",
      "[epoch: 6, batch:    521] loss: 0.00304 time model: 33.90844 acc: 808.50000\n"
     ]
    },
    {
     "name": "stdout",
     "output_type": "stream",
     "text": [
      "540\n",
      "[epoch: 6, batch:    541] loss: 0.00299 time model: 35.21789 acc: 840.10000\n"
     ]
    },
    {
     "name": "stdout",
     "output_type": "stream",
     "text": [
      "560\n",
      "[epoch: 6, batch:    561] loss: 0.00293 time model: 36.52527 acc: 871.90000\n"
     ]
    },
    {
     "name": "stdout",
     "output_type": "stream",
     "text": [
      "580\n",
      "[epoch: 6, batch:    581] loss: 0.00294 time model: 37.83421 acc: 903.10000\n"
     ]
    },
    {
     "name": "stdout",
     "output_type": "stream",
     "text": [
      "600\n",
      "[epoch: 6, batch:    601] loss: 0.00291 time model: 39.14147 acc: 934.40000\n"
     ]
    },
    {
     "name": "stdout",
     "output_type": "stream",
     "text": [
      "620\n",
      "[epoch: 6, batch:    621] loss: 0.00289 time model: 40.44854 acc: 965.70000\n"
     ]
    },
    {
     "name": "stdout",
     "output_type": "stream",
     "text": [
      "640\n",
      "[epoch: 6, batch:    641] loss: 0.00286 time model: 41.75546 acc: 997.35000\n"
     ]
    },
    {
     "name": "stdout",
     "output_type": "stream",
     "text": [
      "660\n",
      "[epoch: 6, batch:    661] loss: 0.00283 time model: 43.04364 acc: 1027.95000\n"
     ]
    },
    {
     "name": "stdout",
     "output_type": "stream",
     "text": [
      "20\n",
      "[epoch: 6, batch:     21] loss: 0.02828 time model: 0.84379 acc: 22.80000\n"
     ]
    },
    {
     "name": "stdout",
     "output_type": "stream",
     "text": [
      "40\n",
      "[epoch: 6, batch:     41] loss: 0.02586 time model: 1.68774 acc: 47.65000\n"
     ]
    },
    {
     "name": "stdout",
     "output_type": "stream",
     "text": [
      "60\n",
      "[epoch: 6, batch:     61] loss: 0.02518 time model: 2.53192 acc: 71.95000\n"
     ]
    },
    {
     "name": "stdout",
     "output_type": "stream",
     "text": [
      "80\n",
      "[epoch: 6, batch:     81] loss: 0.02579 time model: 3.37518 acc: 95.00000\n"
     ]
    },
    {
     "name": "stdout",
     "output_type": "stream",
     "text": [
      "epoch:6 train loss: 0.0028307766170615808 train acc: 0.9741293532338309 valid loss: 0.025781007980162383 valid acc: 0.7427240977881258\n",
      "epoch:6 train loss: 0.0028307766170615808 train acc: 0.9741293532338309 valid loss: 0.025781007980162383 valid acc: 0.7427240977881258\n"
     ]
    },
    {
     "name": "stdout",
     "output_type": "stream",
     "text": [
      "20\n",
      "[epoch: 7, batch:     21] loss: 0.00226 time model: 1.30784 acc: 31.45000\n"
     ]
    },
    {
     "name": "stdout",
     "output_type": "stream",
     "text": [
      "40\n",
      "[epoch: 7, batch:     41] loss: 0.00185 time model: 2.61511 acc: 62.95000\n"
     ]
    },
    {
     "name": "stdout",
     "output_type": "stream",
     "text": [
      "60\n",
      "[epoch: 7, batch:     61] loss: 0.00161 time model: 3.92361 acc: 94.65000\n"
     ]
    },
    {
     "name": "stdout",
     "output_type": "stream",
     "text": [
      "80\n",
      "[epoch: 7, batch:     81] loss: 0.00167 time model: 5.23109 acc: 126.15000\n"
     ]
    },
    {
     "name": "stdout",
     "output_type": "stream",
     "text": [
      "100\n",
      "[epoch: 7, batch:    101] loss: 0.00179 time model: 6.53868 acc: 157.45000\n"
     ]
    },
    {
     "name": "stdout",
     "output_type": "stream",
     "text": [
      "120\n",
      "[epoch: 7, batch:    121] loss: 0.00179 time model: 7.84683 acc: 188.75000\n"
     ]
    },
    {
     "name": "stdout",
     "output_type": "stream",
     "text": [
      "140\n",
      "[epoch: 7, batch:    141] loss: 0.00183 time model: 9.15516 acc: 220.15000\n"
     ]
    },
    {
     "name": "stdout",
     "output_type": "stream",
     "text": [
      "160\n",
      "[epoch: 7, batch:    161] loss: 0.00192 time model: 10.46304 acc: 251.20000\n"
     ]
    },
    {
     "name": "stdout",
     "output_type": "stream",
     "text": [
      "180\n",
      "[epoch: 7, batch:    181] loss: 0.00196 time model: 11.77276 acc: 282.50000\n"
     ]
    },
    {
     "name": "stdout",
     "output_type": "stream",
     "text": [
      "200\n",
      "[epoch: 7, batch:    201] loss: 0.00202 time model: 13.08050 acc: 313.65000\n"
     ]
    },
    {
     "name": "stdout",
     "output_type": "stream",
     "text": [
      "220\n",
      "[epoch: 7, batch:    221] loss: 0.00202 time model: 14.38859 acc: 345.10000\n"
     ]
    },
    {
     "name": "stdout",
     "output_type": "stream",
     "text": [
      "240\n",
      "[epoch: 7, batch:    241] loss: 0.00200 time model: 15.69454 acc: 376.55000\n"
     ]
    },
    {
     "name": "stdout",
     "output_type": "stream",
     "text": [
      "260\n",
      "[epoch: 7, batch:    261] loss: 0.00201 time model: 16.99937 acc: 407.90000\n"
     ]
    },
    {
     "name": "stdout",
     "output_type": "stream",
     "text": [
      "280\n",
      "[epoch: 7, batch:    281] loss: 0.00196 time model: 18.30412 acc: 439.60000\n"
     ]
    },
    {
     "name": "stdout",
     "output_type": "stream",
     "text": [
      "300\n",
      "[epoch: 7, batch:    301] loss: 0.00203 time model: 19.61003 acc: 470.70000\n"
     ]
    },
    {
     "name": "stdout",
     "output_type": "stream",
     "text": [
      "320\n",
      "[epoch: 7, batch:    321] loss: 0.00201 time model: 20.91569 acc: 502.30000\n"
     ]
    },
    {
     "name": "stdout",
     "output_type": "stream",
     "text": [
      "340\n",
      "[epoch: 7, batch:    341] loss: 0.00197 time model: 22.22250 acc: 534.05000\n"
     ]
    },
    {
     "name": "stdout",
     "output_type": "stream",
     "text": [
      "360\n",
      "[epoch: 7, batch:    361] loss: 0.00195 time model: 23.52724 acc: 565.60000\n"
     ]
    },
    {
     "name": "stdout",
     "output_type": "stream",
     "text": [
      "380\n",
      "[epoch: 7, batch:    381] loss: 0.00193 time model: 24.83132 acc: 597.15000\n"
     ]
    },
    {
     "name": "stdout",
     "output_type": "stream",
     "text": [
      "400\n",
      "[epoch: 7, batch:    401] loss: 0.00202 time model: 26.13585 acc: 627.85000\n"
     ]
    },
    {
     "name": "stdout",
     "output_type": "stream",
     "text": [
      "420\n",
      "[epoch: 7, batch:    421] loss: 0.00213 time model: 27.44207 acc: 658.60000\n"
     ]
    },
    {
     "name": "stdout",
     "output_type": "stream",
     "text": [
      "440\n",
      "[epoch: 7, batch:    441] loss: 0.00218 time model: 28.74785 acc: 689.45000\n"
     ]
    },
    {
     "name": "stdout",
     "output_type": "stream",
     "text": [
      "460\n",
      "[epoch: 7, batch:    461] loss: 0.00218 time model: 30.05612 acc: 720.55000\n"
     ]
    },
    {
     "name": "stdout",
     "output_type": "stream",
     "text": [
      "480\n",
      "[epoch: 7, batch:    481] loss: 0.00224 time model: 31.36438 acc: 751.60000\n"
     ]
    },
    {
     "name": "stdout",
     "output_type": "stream",
     "text": [
      "500\n",
      "[epoch: 7, batch:    501] loss: 0.00226 time model: 32.67192 acc: 782.60000\n"
     ]
    },
    {
     "name": "stdout",
     "output_type": "stream",
     "text": [
      "520\n",
      "[epoch: 7, batch:    521] loss: 0.00229 time model: 33.98049 acc: 813.80000\n"
     ]
    },
    {
     "name": "stdout",
     "output_type": "stream",
     "text": [
      "540\n",
      "[epoch: 7, batch:    541] loss: 0.00228 time model: 35.28766 acc: 845.25000\n"
     ]
    },
    {
     "name": "stdout",
     "output_type": "stream",
     "text": [
      "560\n",
      "[epoch: 7, batch:    561] loss: 0.00226 time model: 36.59506 acc: 876.75000\n"
     ]
    },
    {
     "name": "stdout",
     "output_type": "stream",
     "text": [
      "580\n",
      "[epoch: 7, batch:    581] loss: 0.00224 time model: 37.90309 acc: 908.20000\n"
     ]
    },
    {
     "name": "stdout",
     "output_type": "stream",
     "text": [
      "600\n",
      "[epoch: 7, batch:    601] loss: 0.00219 time model: 39.21030 acc: 940.05000\n"
     ]
    },
    {
     "name": "stdout",
     "output_type": "stream",
     "text": [
      "620\n",
      "[epoch: 7, batch:    621] loss: 0.00219 time model: 40.51706 acc: 971.30000\n"
     ]
    },
    {
     "name": "stdout",
     "output_type": "stream",
     "text": [
      "640\n",
      "[epoch: 7, batch:    641] loss: 0.00216 time model: 41.82407 acc: 1002.85000\n"
     ]
    },
    {
     "name": "stdout",
     "output_type": "stream",
     "text": [
      "660\n",
      "[epoch: 7, batch:    661] loss: 0.00215 time model: 43.11192 acc: 1033.55000\n"
     ]
    },
    {
     "name": "stdout",
     "output_type": "stream",
     "text": [
      "20\n",
      "[epoch: 7, batch:     21] loss: 0.03187 time model: 0.84294 acc: 23.00000\n"
     ]
    },
    {
     "name": "stdout",
     "output_type": "stream",
     "text": [
      "40\n",
      "[epoch: 7, batch:     41] loss: 0.03186 time model: 1.68648 acc: 45.65000\n"
     ]
    },
    {
     "name": "stdout",
     "output_type": "stream",
     "text": [
      "60\n",
      "[epoch: 7, batch:     61] loss: 0.03234 time model: 2.52982 acc: 68.30000\n"
     ]
    },
    {
     "name": "stdout",
     "output_type": "stream",
     "text": [
      "80\n",
      "[epoch: 7, batch:     81] loss: 0.03246 time model: 3.37180 acc: 90.80000\n"
     ]
    },
    {
     "name": "stdout",
     "output_type": "stream",
     "text": [
      "epoch:7 train loss: 0.0021512414343095566 train acc: 0.9794361525704809 valid loss: 0.03258817968185345 valid acc: 0.7105161039968956\n",
      "epoch:7 train loss: 0.0021512414343095566 train acc: 0.9794361525704809 valid loss: 0.03258817968185345 valid acc: 0.7105161039968956\n"
     ]
    },
    {
     "name": "stdout",
     "output_type": "stream",
     "text": [
      "20\n",
      "[epoch: 8, batch:     21] loss: 0.00130 time model: 1.30622 acc: 31.70000\n"
     ]
    },
    {
     "name": "stdout",
     "output_type": "stream",
     "text": [
      "40\n",
      "[epoch: 8, batch:     41] loss: 0.00154 time model: 2.61000 acc: 63.15000\n"
     ]
    },
    {
     "name": "stdout",
     "output_type": "stream",
     "text": [
      "60\n",
      "[epoch: 8, batch:     61] loss: 0.00155 time model: 3.91466 acc: 94.70000\n"
     ]
    },
    {
     "name": "stdout",
     "output_type": "stream",
     "text": [
      "80\n",
      "[epoch: 8, batch:     81] loss: 0.00156 time model: 5.21909 acc: 126.10000\n"
     ]
    },
    {
     "name": "stdout",
     "output_type": "stream",
     "text": [
      "100\n",
      "[epoch: 8, batch:    101] loss: 0.00161 time model: 6.52327 acc: 157.65000\n"
     ]
    },
    {
     "name": "stdout",
     "output_type": "stream",
     "text": [
      "120\n",
      "[epoch: 8, batch:    121] loss: 0.00179 time model: 7.82788 acc: 188.75000\n"
     ]
    },
    {
     "name": "stdout",
     "output_type": "stream",
     "text": [
      "140\n",
      "[epoch: 8, batch:    141] loss: 0.00179 time model: 9.13196 acc: 220.20000\n"
     ]
    },
    {
     "name": "stdout",
     "output_type": "stream",
     "text": [
      "160\n",
      "[epoch: 8, batch:    161] loss: 0.00173 time model: 10.43662 acc: 251.75000\n"
     ]
    },
    {
     "name": "stdout",
     "output_type": "stream",
     "text": [
      "180\n",
      "[epoch: 8, batch:    181] loss: 0.00173 time model: 11.73946 acc: 283.35000\n"
     ]
    },
    {
     "name": "stdout",
     "output_type": "stream",
     "text": [
      "200\n",
      "[epoch: 8, batch:    201] loss: 0.00177 time model: 13.04232 acc: 314.65000\n"
     ]
    },
    {
     "name": "stdout",
     "output_type": "stream",
     "text": [
      "220\n",
      "[epoch: 8, batch:    221] loss: 0.00185 time model: 14.34536 acc: 345.80000\n"
     ]
    },
    {
     "name": "stdout",
     "output_type": "stream",
     "text": [
      "240\n",
      "[epoch: 8, batch:    241] loss: 0.00188 time model: 15.64848 acc: 377.05000\n"
     ]
    },
    {
     "name": "stdout",
     "output_type": "stream",
     "text": [
      "260\n",
      "[epoch: 8, batch:    261] loss: 0.00189 time model: 16.95148 acc: 408.40000\n"
     ]
    },
    {
     "name": "stdout",
     "output_type": "stream",
     "text": [
      "280\n",
      "[epoch: 8, batch:    281] loss: 0.00187 time model: 18.25468 acc: 439.85000\n"
     ]
    },
    {
     "name": "stdout",
     "output_type": "stream",
     "text": [
      "300\n",
      "[epoch: 8, batch:    301] loss: 0.00187 time model: 19.55784 acc: 471.20000\n"
     ]
    },
    {
     "name": "stdout",
     "output_type": "stream",
     "text": [
      "320\n",
      "[epoch: 8, batch:    321] loss: 0.00182 time model: 20.86245 acc: 502.85000\n"
     ]
    },
    {
     "name": "stdout",
     "output_type": "stream",
     "text": [
      "340\n",
      "[epoch: 8, batch:    341] loss: 0.00181 time model: 22.16569 acc: 534.15000\n"
     ]
    },
    {
     "name": "stdout",
     "output_type": "stream",
     "text": [
      "360\n",
      "[epoch: 8, batch:    361] loss: 0.00181 time model: 23.47052 acc: 565.45000\n"
     ]
    },
    {
     "name": "stdout",
     "output_type": "stream",
     "text": [
      "380\n",
      "[epoch: 8, batch:    381] loss: 0.00182 time model: 24.77490 acc: 596.90000\n"
     ]
    },
    {
     "name": "stdout",
     "output_type": "stream",
     "text": [
      "400\n",
      "[epoch: 8, batch:    401] loss: 0.00181 time model: 26.07934 acc: 628.30000\n"
     ]
    },
    {
     "name": "stdout",
     "output_type": "stream",
     "text": [
      "420\n",
      "[epoch: 8, batch:    421] loss: 0.00186 time model: 27.38328 acc: 659.50000\n"
     ]
    },
    {
     "name": "stdout",
     "output_type": "stream",
     "text": [
      "440\n",
      "[epoch: 8, batch:    441] loss: 0.00184 time model: 28.68883 acc: 691.05000\n"
     ]
    },
    {
     "name": "stdout",
     "output_type": "stream",
     "text": [
      "460\n",
      "[epoch: 8, batch:    461] loss: 0.00184 time model: 29.99349 acc: 722.55000\n"
     ]
    },
    {
     "name": "stdout",
     "output_type": "stream",
     "text": [
      "480\n",
      "[epoch: 8, batch:    481] loss: 0.00181 time model: 31.29769 acc: 754.25000\n"
     ]
    },
    {
     "name": "stdout",
     "output_type": "stream",
     "text": [
      "500\n",
      "[epoch: 8, batch:    501] loss: 0.00181 time model: 32.60196 acc: 785.60000\n"
     ]
    },
    {
     "name": "stdout",
     "output_type": "stream",
     "text": [
      "520\n",
      "[epoch: 8, batch:    521] loss: 0.00181 time model: 33.90757 acc: 817.15000\n"
     ]
    },
    {
     "name": "stdout",
     "output_type": "stream",
     "text": [
      "540\n",
      "[epoch: 8, batch:    541] loss: 0.00181 time model: 35.21369 acc: 848.55000\n"
     ]
    },
    {
     "name": "stdout",
     "output_type": "stream",
     "text": [
      "560\n",
      "[epoch: 8, batch:    561] loss: 0.00180 time model: 36.52126 acc: 880.15000\n"
     ]
    },
    {
     "name": "stdout",
     "output_type": "stream",
     "text": [
      "580\n",
      "[epoch: 8, batch:    581] loss: 0.00180 time model: 37.82729 acc: 911.65000\n"
     ]
    },
    {
     "name": "stdout",
     "output_type": "stream",
     "text": [
      "600\n",
      "[epoch: 8, batch:    601] loss: 0.00179 time model: 39.13092 acc: 943.15000\n"
     ]
    },
    {
     "name": "stdout",
     "output_type": "stream",
     "text": [
      "620\n",
      "[epoch: 8, batch:    621] loss: 0.00178 time model: 40.43572 acc: 974.70000\n"
     ]
    },
    {
     "name": "stdout",
     "output_type": "stream",
     "text": [
      "640\n",
      "[epoch: 8, batch:    641] loss: 0.00177 time model: 41.73938 acc: 1006.10000\n"
     ]
    },
    {
     "name": "stdout",
     "output_type": "stream",
     "text": [
      "660\n",
      "[epoch: 8, batch:    661] loss: 0.00178 time model: 43.02344 acc: 1036.85000\n"
     ]
    },
    {
     "name": "stdout",
     "output_type": "stream",
     "text": [
      "20\n",
      "[epoch: 8, batch:     21] loss: 0.02318 time model: 0.83837 acc: 25.00000\n"
     ]
    },
    {
     "name": "stdout",
     "output_type": "stream",
     "text": [
      "40\n",
      "[epoch: 8, batch:     41] loss: 0.02324 time model: 1.67713 acc: 49.70000\n"
     ]
    },
    {
     "name": "stdout",
     "output_type": "stream",
     "text": [
      "60\n",
      "[epoch: 8, batch:     61] loss: 0.02331 time model: 2.51569 acc: 73.85000\n"
     ]
    },
    {
     "name": "stdout",
     "output_type": "stream",
     "text": [
      "80\n",
      "[epoch: 8, batch:     81] loss: 0.02304 time model: 3.35249 acc: 98.45000\n"
     ]
    },
    {
     "name": "stdout",
     "output_type": "stream",
     "text": [
      "epoch:8 train loss: 0.00177765514104111 train acc: 0.9825633736081497 valid loss: 0.023033899591558424 valid acc: 0.7694994179278231\n",
      "epoch:8 train loss: 0.00177765514104111 train acc: 0.9825633736081497 valid loss: 0.023033899591558424 valid acc: 0.7694994179278231\n"
     ]
    },
    {
     "name": "stdout",
     "output_type": "stream",
     "text": [
      "20\n",
      "[epoch: 9, batch:     21] loss: 0.00142 time model: 1.30263 acc: 31.70000\n"
     ]
    },
    {
     "name": "stdout",
     "output_type": "stream",
     "text": [
      "40\n",
      "[epoch: 9, batch:     41] loss: 0.00141 time model: 2.60713 acc: 63.15000\n"
     ]
    },
    {
     "name": "stdout",
     "output_type": "stream",
     "text": [
      "60\n",
      "[epoch: 9, batch:     61] loss: 0.00131 time model: 3.91118 acc: 94.95000\n"
     ]
    },
    {
     "name": "stdout",
     "output_type": "stream",
     "text": [
      "80\n",
      "[epoch: 9, batch:     81] loss: 0.00134 time model: 5.21612 acc: 126.40000\n"
     ]
    },
    {
     "name": "stdout",
     "output_type": "stream",
     "text": [
      "100\n",
      "[epoch: 9, batch:    101] loss: 0.00150 time model: 6.52405 acc: 157.65000\n"
     ]
    },
    {
     "name": "stdout",
     "output_type": "stream",
     "text": [
      "120\n",
      "[epoch: 9, batch:    121] loss: 0.00150 time model: 7.83226 acc: 189.25000\n"
     ]
    },
    {
     "name": "stdout",
     "output_type": "stream",
     "text": [
      "140\n",
      "[epoch: 9, batch:    141] loss: 0.00151 time model: 9.13948 acc: 220.70000\n"
     ]
    },
    {
     "name": "stdout",
     "output_type": "stream",
     "text": [
      "160\n",
      "[epoch: 9, batch:    161] loss: 0.00141 time model: 10.44784 acc: 252.50000\n"
     ]
    },
    {
     "name": "stdout",
     "output_type": "stream",
     "text": [
      "180\n",
      "[epoch: 9, batch:    181] loss: 0.00148 time model: 11.75451 acc: 283.80000\n"
     ]
    },
    {
     "name": "stdout",
     "output_type": "stream",
     "text": [
      "200\n",
      "[epoch: 9, batch:    201] loss: 0.00146 time model: 13.06348 acc: 315.45000\n"
     ]
    },
    {
     "name": "stdout",
     "output_type": "stream",
     "text": [
      "220\n",
      "[epoch: 9, batch:    221] loss: 0.00145 time model: 14.37123 acc: 347.05000\n"
     ]
    },
    {
     "name": "stdout",
     "output_type": "stream",
     "text": [
      "240\n",
      "[epoch: 9, batch:    241] loss: 0.00145 time model: 15.67894 acc: 378.60000\n"
     ]
    },
    {
     "name": "stdout",
     "output_type": "stream",
     "text": [
      "260\n",
      "[epoch: 9, batch:    261] loss: 0.00148 time model: 16.98579 acc: 410.05000\n"
     ]
    },
    {
     "name": "stdout",
     "output_type": "stream",
     "text": [
      "280\n",
      "[epoch: 9, batch:    281] loss: 0.00156 time model: 18.29347 acc: 441.20000\n"
     ]
    },
    {
     "name": "stdout",
     "output_type": "stream",
     "text": [
      "300\n",
      "[epoch: 9, batch:    301] loss: 0.00158 time model: 19.60155 acc: 472.55000\n"
     ]
    },
    {
     "name": "stdout",
     "output_type": "stream",
     "text": [
      "320\n",
      "[epoch: 9, batch:    321] loss: 0.00159 time model: 20.90976 acc: 503.80000\n"
     ]
    },
    {
     "name": "stdout",
     "output_type": "stream",
     "text": [
      "340\n",
      "[epoch: 9, batch:    341] loss: 0.00156 time model: 22.21824 acc: 535.40000\n"
     ]
    },
    {
     "name": "stdout",
     "output_type": "stream",
     "text": [
      "360\n",
      "[epoch: 9, batch:    361] loss: 0.00165 time model: 23.52690 acc: 566.45000\n"
     ]
    },
    {
     "name": "stdout",
     "output_type": "stream",
     "text": [
      "380\n",
      "[epoch: 9, batch:    381] loss: 0.00170 time model: 24.83489 acc: 597.60000\n"
     ]
    },
    {
     "name": "stdout",
     "output_type": "stream",
     "text": [
      "400\n",
      "[epoch: 9, batch:    401] loss: 0.00173 time model: 26.14320 acc: 628.80000\n"
     ]
    },
    {
     "name": "stdout",
     "output_type": "stream",
     "text": [
      "420\n",
      "[epoch: 9, batch:    421] loss: 0.00171 time model: 27.45144 acc: 660.50000\n"
     ]
    },
    {
     "name": "stdout",
     "output_type": "stream",
     "text": [
      "440\n",
      "[epoch: 9, batch:    441] loss: 0.00171 time model: 28.75906 acc: 692.00000\n"
     ]
    },
    {
     "name": "stdout",
     "output_type": "stream",
     "text": [
      "460\n",
      "[epoch: 9, batch:    461] loss: 0.00171 time model: 30.06794 acc: 723.45000\n"
     ]
    },
    {
     "name": "stdout",
     "output_type": "stream",
     "text": [
      "480\n",
      "[epoch: 9, batch:    481] loss: 0.00172 time model: 31.37495 acc: 754.65000\n"
     ]
    },
    {
     "name": "stdout",
     "output_type": "stream",
     "text": [
      "500\n",
      "[epoch: 9, batch:    501] loss: 0.00171 time model: 32.68279 acc: 786.25000\n"
     ]
    },
    {
     "name": "stdout",
     "output_type": "stream",
     "text": [
      "520\n",
      "[epoch: 9, batch:    521] loss: 0.00168 time model: 33.99006 acc: 818.00000\n"
     ]
    },
    {
     "name": "stdout",
     "output_type": "stream",
     "text": [
      "540\n",
      "[epoch: 9, batch:    541] loss: 0.00168 time model: 35.29748 acc: 849.45000\n"
     ]
    },
    {
     "name": "stdout",
     "output_type": "stream",
     "text": [
      "560\n",
      "[epoch: 9, batch:    561] loss: 0.00166 time model: 36.60481 acc: 881.00000\n"
     ]
    },
    {
     "name": "stdout",
     "output_type": "stream",
     "text": [
      "580\n",
      "[epoch: 9, batch:    581] loss: 0.00167 time model: 37.91373 acc: 912.30000\n"
     ]
    },
    {
     "name": "stdout",
     "output_type": "stream",
     "text": [
      "600\n",
      "[epoch: 9, batch:    601] loss: 0.00165 time model: 39.22204 acc: 944.00000\n"
     ]
    },
    {
     "name": "stdout",
     "output_type": "stream",
     "text": [
      "620\n",
      "[epoch: 9, batch:    621] loss: 0.00165 time model: 40.52926 acc: 975.65000\n"
     ]
    },
    {
     "name": "stdout",
     "output_type": "stream",
     "text": [
      "640\n",
      "[epoch: 9, batch:    641] loss: 0.00168 time model: 41.83685 acc: 1006.75000\n"
     ]
    },
    {
     "name": "stdout",
     "output_type": "stream",
     "text": [
      "660\n",
      "[epoch: 9, batch:    661] loss: 0.00166 time model: 43.12531 acc: 1037.75000\n"
     ]
    },
    {
     "name": "stdout",
     "output_type": "stream",
     "text": [
      "20\n",
      "[epoch: 9, batch:     21] loss: 0.01454 time model: 0.84433 acc: 27.85000\n"
     ]
    },
    {
     "name": "stdout",
     "output_type": "stream",
     "text": [
      "40\n",
      "[epoch: 9, batch:     41] loss: 0.01621 time model: 1.68906 acc: 54.50000\n"
     ]
    },
    {
     "name": "stdout",
     "output_type": "stream",
     "text": [
      "60\n",
      "[epoch: 9, batch:     61] loss: 0.01533 time model: 2.53320 acc: 82.35000\n"
     ]
    },
    {
     "name": "stdout",
     "output_type": "stream",
     "text": [
      "80\n",
      "[epoch: 9, batch:     81] loss: 0.01570 time model: 3.37640 acc: 109.40000\n"
     ]
    },
    {
     "name": "stdout",
     "output_type": "stream",
     "text": [
      "epoch:9 train loss: 0.0016606318513079294 train acc: 0.9834162520729685 valid loss: 0.015779337421100086 valid acc: 0.8548700038804812\n",
      "epoch:9 train loss: 0.0016606318513079294 train acc: 0.9834162520729685 valid loss: 0.015779337421100086 valid acc: 0.8548700038804812\n"
     ]
    },
    {
     "name": "stdout",
     "output_type": "stream",
     "text": [
      "20\n",
      "[epoch: 10, batch:     21] loss: 0.00149 time model: 1.30766 acc: 31.50000\n"
     ]
    },
    {
     "name": "stdout",
     "output_type": "stream",
     "text": [
      "40\n",
      "[epoch: 10, batch:     41] loss: 0.00151 time model: 2.61517 acc: 63.05000\n"
     ]
    },
    {
     "name": "stdout",
     "output_type": "stream",
     "text": [
      "60\n",
      "[epoch: 10, batch:     61] loss: 0.00180 time model: 3.92366 acc: 94.30000\n"
     ]
    },
    {
     "name": "stdout",
     "output_type": "stream",
     "text": [
      "80\n",
      "[epoch: 10, batch:     81] loss: 0.00183 time model: 5.23156 acc: 125.75000\n"
     ]
    },
    {
     "name": "stdout",
     "output_type": "stream",
     "text": [
      "100\n",
      "[epoch: 10, batch:    101] loss: 0.00164 time model: 6.53973 acc: 157.50000\n"
     ]
    },
    {
     "name": "stdout",
     "output_type": "stream",
     "text": [
      "120\n",
      "[epoch: 10, batch:    121] loss: 0.00158 time model: 7.84807 acc: 189.05000\n"
     ]
    },
    {
     "name": "stdout",
     "output_type": "stream",
     "text": [
      "140\n",
      "[epoch: 10, batch:    141] loss: 0.00156 time model: 9.15633 acc: 220.50000\n"
     ]
    },
    {
     "name": "stdout",
     "output_type": "stream",
     "text": [
      "160\n",
      "[epoch: 10, batch:    161] loss: 0.00154 time model: 10.46369 acc: 252.10000\n"
     ]
    },
    {
     "name": "stdout",
     "output_type": "stream",
     "text": [
      "180\n",
      "[epoch: 10, batch:    181] loss: 0.00154 time model: 11.77060 acc: 283.65000\n"
     ]
    },
    {
     "name": "stdout",
     "output_type": "stream",
     "text": [
      "200\n",
      "[epoch: 10, batch:    201] loss: 0.00151 time model: 13.07740 acc: 315.40000\n"
     ]
    },
    {
     "name": "stdout",
     "output_type": "stream",
     "text": [
      "220\n",
      "[epoch: 10, batch:    221] loss: 0.00147 time model: 14.38481 acc: 347.10000\n"
     ]
    },
    {
     "name": "stdout",
     "output_type": "stream",
     "text": [
      "240\n",
      "[epoch: 10, batch:    241] loss: 0.00144 time model: 15.69262 acc: 378.80000\n"
     ]
    },
    {
     "name": "stdout",
     "output_type": "stream",
     "text": [
      "260\n",
      "[epoch: 10, batch:    261] loss: 0.00144 time model: 17.00096 acc: 410.40000\n"
     ]
    },
    {
     "name": "stdout",
     "output_type": "stream",
     "text": [
      "280\n",
      "[epoch: 10, batch:    281] loss: 0.00142 time model: 18.30821 acc: 442.00000\n"
     ]
    },
    {
     "name": "stdout",
     "output_type": "stream",
     "text": [
      "300\n",
      "[epoch: 10, batch:    301] loss: 0.00142 time model: 19.61514 acc: 473.55000\n"
     ]
    },
    {
     "name": "stdout",
     "output_type": "stream",
     "text": [
      "320\n",
      "[epoch: 10, batch:    321] loss: 0.00138 time model: 20.91829 acc: 505.25000\n"
     ]
    },
    {
     "name": "stdout",
     "output_type": "stream",
     "text": [
      "340\n",
      "[epoch: 10, batch:    341] loss: 0.00136 time model: 22.22175 acc: 536.95000\n"
     ]
    },
    {
     "name": "stdout",
     "output_type": "stream",
     "text": [
      "360\n",
      "[epoch: 10, batch:    361] loss: 0.00134 time model: 23.52439 acc: 568.75000\n"
     ]
    },
    {
     "name": "stdout",
     "output_type": "stream",
     "text": [
      "380\n",
      "[epoch: 10, batch:    381] loss: 0.00136 time model: 24.82761 acc: 600.20000\n"
     ]
    },
    {
     "name": "stdout",
     "output_type": "stream",
     "text": [
      "400\n",
      "[epoch: 10, batch:    401] loss: 0.00140 time model: 26.13056 acc: 631.55000\n"
     ]
    },
    {
     "name": "stdout",
     "output_type": "stream",
     "text": [
      "420\n",
      "[epoch: 10, batch:    421] loss: 0.00141 time model: 27.43363 acc: 663.10000\n"
     ]
    },
    {
     "name": "stdout",
     "output_type": "stream",
     "text": [
      "440\n",
      "[epoch: 10, batch:    441] loss: 0.00139 time model: 28.73622 acc: 694.80000\n"
     ]
    },
    {
     "name": "stdout",
     "output_type": "stream",
     "text": [
      "460\n",
      "[epoch: 10, batch:    461] loss: 0.00138 time model: 30.03938 acc: 726.60000\n"
     ]
    },
    {
     "name": "stdout",
     "output_type": "stream",
     "text": [
      "480\n",
      "[epoch: 10, batch:    481] loss: 0.00140 time model: 31.34192 acc: 758.10000\n"
     ]
    },
    {
     "name": "stdout",
     "output_type": "stream",
     "text": [
      "500\n",
      "[epoch: 10, batch:    501] loss: 0.00141 time model: 32.64460 acc: 789.70000\n"
     ]
    },
    {
     "name": "stdout",
     "output_type": "stream",
     "text": [
      "520\n",
      "[epoch: 10, batch:    521] loss: 0.00140 time model: 33.94756 acc: 821.30000\n"
     ]
    },
    {
     "name": "stdout",
     "output_type": "stream",
     "text": [
      "540\n",
      "[epoch: 10, batch:    541] loss: 0.00142 time model: 35.25061 acc: 852.70000\n"
     ]
    },
    {
     "name": "stdout",
     "output_type": "stream",
     "text": [
      "560\n",
      "[epoch: 10, batch:    561] loss: 0.00145 time model: 36.55429 acc: 884.10000\n"
     ]
    },
    {
     "name": "stdout",
     "output_type": "stream",
     "text": [
      "580\n",
      "[epoch: 10, batch:    581] loss: 0.00144 time model: 37.85714 acc: 915.70000\n"
     ]
    },
    {
     "name": "stdout",
     "output_type": "stream",
     "text": [
      "600\n",
      "[epoch: 10, batch:    601] loss: 0.00143 time model: 39.15995 acc: 947.30000\n"
     ]
    },
    {
     "name": "stdout",
     "output_type": "stream",
     "text": [
      "620\n",
      "[epoch: 10, batch:    621] loss: 0.00144 time model: 40.46311 acc: 978.80000\n"
     ]
    },
    {
     "name": "stdout",
     "output_type": "stream",
     "text": [
      "640\n",
      "[epoch: 10, batch:    641] loss: 0.00148 time model: 41.76592 acc: 1010.05000\n"
     ]
    },
    {
     "name": "stdout",
     "output_type": "stream",
     "text": [
      "660\n",
      "[epoch: 10, batch:    661] loss: 0.00149 time model: 43.04874 acc: 1040.75000\n"
     ]
    },
    {
     "name": "stdout",
     "output_type": "stream",
     "text": [
      "20\n",
      "[epoch: 10, batch:     21] loss: 0.00638 time model: 0.83989 acc: 30.30000\n"
     ]
    },
    {
     "name": "stdout",
     "output_type": "stream",
     "text": [
      "40\n",
      "[epoch: 10, batch:     41] loss: 0.00590 time model: 1.67986 acc: 60.65000\n"
     ]
    },
    {
     "name": "stdout",
     "output_type": "stream",
     "text": [
      "60\n",
      "[epoch: 10, batch:     61] loss: 0.00621 time model: 2.52057 acc: 90.00000\n"
     ]
    },
    {
     "name": "stdout",
     "output_type": "stream",
     "text": [
      "80\n",
      "[epoch: 10, batch:     81] loss: 0.00624 time model: 3.36061 acc: 120.00000\n"
     ]
    },
    {
     "name": "stdout",
     "output_type": "stream",
     "text": [
      "epoch:10 train loss: 0.0014861015912283938 train acc: 0.986259180289031 valid loss: 0.006343400979694304 valid acc: 0.9371362048894063\n",
      "epoch:10 train loss: 0.0014861015912283938 train acc: 0.986259180289031 valid loss: 0.006343400979694304 valid acc: 0.9371362048894063\n"
     ]
    }
   ],
   "source": [
    "MODELNAME = 'full_dataset_fgsm20'\n",
    "LOGFILE_PATH = 'logs/' + MODELNAME\n",
    "global_eps = 2.\n",
    "\n",
    "def fgsm(model, X, y, epsilon=0.3):\n",
    "    \"\"\" Construct FGSM adversarial examples on the examples X\"\"\"\n",
    "    epsilon = global_eps\n",
    "    delta = torch.zeros_like(X, requires_grad=True)\n",
    "    delta = delta.cuda()\n",
    "    loss = nn.CrossEntropyLoss()(model(X + delta), y)\n",
    "    loss.backward()\n",
    "    return epsilon * delta.grad.detach().sign()\n",
    "\n",
    "\n",
    "def pgd_linf(model, X, y, epsilon=0.1, alpha=0.01, num_iter=20, randomize=False):\n",
    "    \"\"\" Construct PGD adversarial examples on the examples X\"\"\"\n",
    "    epsilon = global_eps\n",
    "    if randomize:\n",
    "        delta = torch.rand_like(X, requires_grad=True)\n",
    "        delta.data = delta.data * 2 * epsilon - epsilon\n",
    "    else:\n",
    "        delta = torch.zeros_like(X, requires_grad=True)\n",
    "        \n",
    "    for t in range(num_iter):\n",
    "        loss = nn.CrossEntropyLoss()(model(X + delta), y)\n",
    "        loss.backward()\n",
    "        delta.data = (delta + alpha*delta.grad.detach().sign()).clamp(-epsilon,epsilon)\n",
    "        delta.grad.zero_()\n",
    "    return delta.detach()\n",
    "\n",
    "from models.resnet import ResNet, resnet34\n",
    "model = resnet34(pretrained=False, progress=False).cuda()\n",
    "criterion = torch.nn.CrossEntropyLoss()\n",
    "\n",
    "for param in model.parameters():\n",
    "  param.requires_grad = True\n",
    "\n",
    "trainer = BaseTrainer(model=model, train_dl=train_data_loader, valid_dl=valid_data_loader, test_dl=valid_data_loader, criterion=criterion, model_filename=MODELNAME, n_epochs=1)\n",
    "trainer.fit_model_new(optimizer=optim.Adam(model.parameters(), lr=.001), n_epochs=10, model_filename=MODELNAME, attack=fgsm)"
   ]
  },
  {
   "cell_type": "code",
   "execution_count": 26,
   "metadata": {
    "papermill": {
     "duration": 14869.233692,
     "end_time": "2019-11-05T14:09:26.239339",
     "exception": false,
     "start_time": "2019-11-05T10:01:37.005647",
     "status": "completed"
    },
    "tags": []
   },
   "outputs": [
    {
     "name": "stdout",
     "output_type": "stream",
     "text": [
      "20\n",
      "[epoch: 1, batch:     21] loss: 0.08778 time model: 5.16930 acc: 2.95000\n"
     ]
    },
    {
     "name": "stdout",
     "output_type": "stream",
     "text": [
      "40\n",
      "[epoch: 1, batch:     41] loss: 0.08123 time model: 10.32538 acc: 6.05000\n"
     ]
    },
    {
     "name": "stdout",
     "output_type": "stream",
     "text": [
      "60\n",
      "[epoch: 1, batch:     61] loss: 0.07830 time model: 15.48009 acc: 9.15000\n"
     ]
    },
    {
     "name": "stdout",
     "output_type": "stream",
     "text": [
      "80\n",
      "[epoch: 1, batch:     81] loss: 0.07662 time model: 20.63819 acc: 13.30000\n"
     ]
    },
    {
     "name": "stdout",
     "output_type": "stream",
     "text": [
      "100\n",
      "[epoch: 1, batch:    101] loss: 0.07619 time model: 25.79376 acc: 17.30000\n"
     ]
    },
    {
     "name": "stdout",
     "output_type": "stream",
     "text": [
      "120\n",
      "[epoch: 1, batch:    121] loss: 0.07529 time model: 30.95220 acc: 21.70000\n"
     ]
    },
    {
     "name": "stdout",
     "output_type": "stream",
     "text": [
      "140\n",
      "[epoch: 1, batch:    141] loss: 0.07415 time model: 36.11418 acc: 27.60000\n"
     ]
    },
    {
     "name": "stdout",
     "output_type": "stream",
     "text": [
      "160\n",
      "[epoch: 1, batch:    161] loss: 0.07323 time model: 41.27792 acc: 33.80000\n"
     ]
    },
    {
     "name": "stdout",
     "output_type": "stream",
     "text": [
      "180\n",
      "[epoch: 1, batch:    181] loss: 0.07231 time model: 46.45817 acc: 40.90000\n"
     ]
    },
    {
     "name": "stdout",
     "output_type": "stream",
     "text": [
      "200\n",
      "[epoch: 1, batch:    201] loss: 0.07149 time model: 51.64455 acc: 48.85000\n"
     ]
    },
    {
     "name": "stdout",
     "output_type": "stream",
     "text": [
      "220\n",
      "[epoch: 1, batch:    221] loss: 0.07093 time model: 56.83086 acc: 54.95000\n"
     ]
    },
    {
     "name": "stdout",
     "output_type": "stream",
     "text": [
      "240\n",
      "[epoch: 1, batch:    241] loss: 0.07032 time model: 62.01710 acc: 63.25000\n"
     ]
    },
    {
     "name": "stdout",
     "output_type": "stream",
     "text": [
      "260\n",
      "[epoch: 1, batch:    261] loss: 0.06975 time model: 67.20225 acc: 70.85000\n"
     ]
    },
    {
     "name": "stdout",
     "output_type": "stream",
     "text": [
      "280\n",
      "[epoch: 1, batch:    281] loss: 0.06910 time model: 72.38961 acc: 79.65000\n"
     ]
    },
    {
     "name": "stdout",
     "output_type": "stream",
     "text": [
      "300\n",
      "[epoch: 1, batch:    301] loss: 0.06873 time model: 77.57378 acc: 87.65000\n"
     ]
    },
    {
     "name": "stdout",
     "output_type": "stream",
     "text": [
      "320\n",
      "[epoch: 1, batch:    321] loss: 0.06817 time model: 82.75741 acc: 96.80000\n"
     ]
    },
    {
     "name": "stdout",
     "output_type": "stream",
     "text": [
      "340\n",
      "[epoch: 1, batch:    341] loss: 0.06768 time model: 87.93796 acc: 106.10000\n"
     ]
    },
    {
     "name": "stdout",
     "output_type": "stream",
     "text": [
      "360\n",
      "[epoch: 1, batch:    361] loss: 0.06732 time model: 93.11996 acc: 114.95000\n"
     ]
    },
    {
     "name": "stdout",
     "output_type": "stream",
     "text": [
      "380\n",
      "[epoch: 1, batch:    381] loss: 0.06696 time model: 98.30279 acc: 124.75000\n"
     ]
    },
    {
     "name": "stdout",
     "output_type": "stream",
     "text": [
      "400\n",
      "[epoch: 1, batch:    401] loss: 0.06664 time model: 103.48445 acc: 134.60000\n"
     ]
    },
    {
     "name": "stdout",
     "output_type": "stream",
     "text": [
      "420\n",
      "[epoch: 1, batch:    421] loss: 0.06633 time model: 108.65589 acc: 144.30000\n"
     ]
    },
    {
     "name": "stdout",
     "output_type": "stream",
     "text": [
      "440\n",
      "[epoch: 1, batch:    441] loss: 0.06592 time model: 113.82886 acc: 155.30000\n"
     ]
    },
    {
     "name": "stdout",
     "output_type": "stream",
     "text": [
      "460\n",
      "[epoch: 1, batch:    461] loss: 0.06551 time model: 119.00567 acc: 166.80000\n"
     ]
    },
    {
     "name": "stdout",
     "output_type": "stream",
     "text": [
      "480\n",
      "[epoch: 1, batch:    481] loss: 0.06508 time model: 124.17948 acc: 176.80000\n"
     ]
    },
    {
     "name": "stdout",
     "output_type": "stream",
     "text": [
      "500\n",
      "[epoch: 1, batch:    501] loss: 0.06462 time model: 129.35167 acc: 188.25000\n"
     ]
    },
    {
     "name": "stdout",
     "output_type": "stream",
     "text": [
      "520\n",
      "[epoch: 1, batch:    521] loss: 0.06427 time model: 134.51686 acc: 199.45000\n"
     ]
    },
    {
     "name": "stdout",
     "output_type": "stream",
     "text": [
      "540\n",
      "[epoch: 1, batch:    541] loss: 0.06389 time model: 139.68904 acc: 211.45000\n"
     ]
    },
    {
     "name": "stdout",
     "output_type": "stream",
     "text": [
      "560\n",
      "[epoch: 1, batch:    561] loss: 0.06338 time model: 144.86082 acc: 224.15000\n"
     ]
    },
    {
     "name": "stdout",
     "output_type": "stream",
     "text": [
      "580\n",
      "[epoch: 1, batch:    581] loss: 0.06294 time model: 150.03377 acc: 237.25000\n"
     ]
    },
    {
     "name": "stdout",
     "output_type": "stream",
     "text": [
      "600\n",
      "[epoch: 1, batch:    601] loss: 0.06243 time model: 155.21181 acc: 252.55000\n"
     ]
    },
    {
     "name": "stdout",
     "output_type": "stream",
     "text": [
      "620\n",
      "[epoch: 1, batch:    621] loss: 0.06199 time model: 160.39642 acc: 266.15000\n"
     ]
    },
    {
     "name": "stdout",
     "output_type": "stream",
     "text": [
      "640\n",
      "[epoch: 1, batch:    641] loss: 0.06150 time model: 165.58003 acc: 280.35000\n"
     ]
    },
    {
     "name": "stdout",
     "output_type": "stream",
     "text": [
      "660\n",
      "[epoch: 1, batch:    661] loss: 0.06101 time model: 170.69645 acc: 295.10000\n"
     ]
    },
    {
     "name": "stdout",
     "output_type": "stream",
     "text": [
      "20\n",
      "[epoch: 1, batch:     21] loss: 0.04287 time model: 4.65174 acc: 15.80000\n"
     ]
    },
    {
     "name": "stdout",
     "output_type": "stream",
     "text": [
      "40\n",
      "[epoch: 1, batch:     41] loss: 0.04229 time model: 9.29987 acc: 31.30000\n"
     ]
    },
    {
     "name": "stdout",
     "output_type": "stream",
     "text": [
      "60\n",
      "[epoch: 1, batch:     61] loss: 0.04207 time model: 13.94257 acc: 47.30000\n"
     ]
    },
    {
     "name": "stdout",
     "output_type": "stream",
     "text": [
      "80\n",
      "[epoch: 1, batch:     81] loss: 0.04167 time model: 18.58124 acc: 62.80000\n"
     ]
    },
    {
     "name": "stdout",
     "output_type": "stream",
     "text": [
      "epoch:1 train loss: 0.061011385381066444 train acc: 0.2796493721866856 valid loss: 0.041826150655098836 valid acc: 0.49088086922778423\n",
      "epoch:1 train loss: 0.061011385381066444 train acc: 0.2796493721866856 valid loss: 0.041826150655098836 valid acc: 0.49088086922778423\n"
     ]
    },
    {
     "name": "stdout",
     "output_type": "stream",
     "text": [
      "20\n",
      "[epoch: 2, batch:     21] loss: 0.04408 time model: 5.20284 acc: 14.90000\n"
     ]
    },
    {
     "name": "stdout",
     "output_type": "stream",
     "text": [
      "40\n",
      "[epoch: 2, batch:     41] loss: 0.04346 time model: 10.40721 acc: 31.05000\n"
     ]
    },
    {
     "name": "stdout",
     "output_type": "stream",
     "text": [
      "60\n",
      "[epoch: 2, batch:     61] loss: 0.04303 time model: 15.60329 acc: 46.85000\n"
     ]
    },
    {
     "name": "stdout",
     "output_type": "stream",
     "text": [
      "80\n",
      "[epoch: 2, batch:     81] loss: 0.04224 time model: 20.80193 acc: 63.10000\n"
     ]
    },
    {
     "name": "stdout",
     "output_type": "stream",
     "text": [
      "100\n",
      "[epoch: 2, batch:    101] loss: 0.04150 time model: 26.00850 acc: 80.50000\n"
     ]
    },
    {
     "name": "stdout",
     "output_type": "stream",
     "text": [
      "120\n",
      "[epoch: 2, batch:    121] loss: 0.04118 time model: 31.20271 acc: 97.45000\n"
     ]
    },
    {
     "name": "stdout",
     "output_type": "stream",
     "text": [
      "140\n",
      "[epoch: 2, batch:    141] loss: 0.04106 time model: 36.39609 acc: 114.15000\n"
     ]
    },
    {
     "name": "stdout",
     "output_type": "stream",
     "text": [
      "160\n",
      "[epoch: 2, batch:    161] loss: 0.04066 time model: 41.58853 acc: 131.80000\n"
     ]
    },
    {
     "name": "stdout",
     "output_type": "stream",
     "text": [
      "180\n",
      "[epoch: 2, batch:    181] loss: 0.04008 time model: 46.78160 acc: 149.80000\n"
     ]
    },
    {
     "name": "stdout",
     "output_type": "stream",
     "text": [
      "200\n",
      "[epoch: 2, batch:    201] loss: 0.03991 time model: 51.97610 acc: 166.25000\n"
     ]
    },
    {
     "name": "stdout",
     "output_type": "stream",
     "text": [
      "220\n",
      "[epoch: 2, batch:    221] loss: 0.03948 time model: 57.17127 acc: 183.75000\n"
     ]
    },
    {
     "name": "stdout",
     "output_type": "stream",
     "text": [
      "240\n",
      "[epoch: 2, batch:    241] loss: 0.03940 time model: 62.36407 acc: 201.40000\n"
     ]
    },
    {
     "name": "stdout",
     "output_type": "stream",
     "text": [
      "260\n",
      "[epoch: 2, batch:    261] loss: 0.03913 time model: 67.55661 acc: 219.55000\n"
     ]
    },
    {
     "name": "stdout",
     "output_type": "stream",
     "text": [
      "280\n",
      "[epoch: 2, batch:    281] loss: 0.03905 time model: 72.74554 acc: 236.40000\n"
     ]
    },
    {
     "name": "stdout",
     "output_type": "stream",
     "text": [
      "300\n",
      "[epoch: 2, batch:    301] loss: 0.03856 time model: 77.93749 acc: 255.70000\n"
     ]
    },
    {
     "name": "stdout",
     "output_type": "stream",
     "text": [
      "320\n",
      "[epoch: 2, batch:    321] loss: 0.03814 time model: 83.14284 acc: 275.25000\n"
     ]
    },
    {
     "name": "stdout",
     "output_type": "stream",
     "text": [
      "340\n",
      "[epoch: 2, batch:    341] loss: 0.03793 time model: 88.34214 acc: 294.30000\n"
     ]
    },
    {
     "name": "stdout",
     "output_type": "stream",
     "text": [
      "360\n",
      "[epoch: 2, batch:    361] loss: 0.03757 time model: 93.54995 acc: 314.35000\n"
     ]
    },
    {
     "name": "stdout",
     "output_type": "stream",
     "text": [
      "380\n",
      "[epoch: 2, batch:    381] loss: 0.03734 time model: 98.75689 acc: 333.65000\n"
     ]
    },
    {
     "name": "stdout",
     "output_type": "stream",
     "text": [
      "400\n",
      "[epoch: 2, batch:    401] loss: 0.03712 time model: 103.96296 acc: 353.40000\n"
     ]
    },
    {
     "name": "stdout",
     "output_type": "stream",
     "text": [
      "420\n",
      "[epoch: 2, batch:    421] loss: 0.03677 time model: 109.17220 acc: 373.85000\n"
     ]
    },
    {
     "name": "stdout",
     "output_type": "stream",
     "text": [
      "440\n",
      "[epoch: 2, batch:    441] loss: 0.03653 time model: 114.38066 acc: 393.90000\n"
     ]
    },
    {
     "name": "stdout",
     "output_type": "stream",
     "text": [
      "460\n",
      "[epoch: 2, batch:    461] loss: 0.03630 time model: 119.58764 acc: 413.50000\n"
     ]
    },
    {
     "name": "stdout",
     "output_type": "stream",
     "text": [
      "480\n",
      "[epoch: 2, batch:    481] loss: 0.03603 time model: 124.79520 acc: 433.95000\n"
     ]
    },
    {
     "name": "stdout",
     "output_type": "stream",
     "text": [
      "500\n",
      "[epoch: 2, batch:    501] loss: 0.03580 time model: 130.00574 acc: 454.00000\n"
     ]
    },
    {
     "name": "stdout",
     "output_type": "stream",
     "text": [
      "520\n",
      "[epoch: 2, batch:    521] loss: 0.03556 time model: 135.22347 acc: 474.90000\n"
     ]
    },
    {
     "name": "stdout",
     "output_type": "stream",
     "text": [
      "540\n",
      "[epoch: 2, batch:    541] loss: 0.03546 time model: 140.43169 acc: 495.15000\n"
     ]
    },
    {
     "name": "stdout",
     "output_type": "stream",
     "text": [
      "560\n",
      "[epoch: 2, batch:    561] loss: 0.03542 time model: 145.63142 acc: 513.80000\n"
     ]
    },
    {
     "name": "stdout",
     "output_type": "stream",
     "text": [
      "580\n",
      "[epoch: 2, batch:    581] loss: 0.03525 time model: 150.83383 acc: 533.70000\n"
     ]
    },
    {
     "name": "stdout",
     "output_type": "stream",
     "text": [
      "600\n",
      "[epoch: 2, batch:    601] loss: 0.03500 time model: 156.03554 acc: 554.90000\n"
     ]
    },
    {
     "name": "stdout",
     "output_type": "stream",
     "text": [
      "620\n",
      "[epoch: 2, batch:    621] loss: 0.03493 time model: 161.23829 acc: 575.40000\n"
     ]
    },
    {
     "name": "stdout",
     "output_type": "stream",
     "text": [
      "640\n",
      "[epoch: 2, batch:    641] loss: 0.03471 time model: 166.44176 acc: 597.05000\n"
     ]
    },
    {
     "name": "stdout",
     "output_type": "stream",
     "text": [
      "660\n",
      "[epoch: 2, batch:    661] loss: 0.03461 time model: 171.56834 acc: 617.00000\n"
     ]
    },
    {
     "name": "stdout",
     "output_type": "stream",
     "text": [
      "20\n",
      "[epoch: 2, batch:     21] loss: 0.03342 time model: 4.64580 acc: 19.00000\n"
     ]
    },
    {
     "name": "stdout",
     "output_type": "stream",
     "text": [
      "40\n",
      "[epoch: 2, batch:     41] loss: 0.03323 time model: 9.28469 acc: 37.35000\n"
     ]
    },
    {
     "name": "stdout",
     "output_type": "stream",
     "text": [
      "60\n",
      "[epoch: 2, batch:     61] loss: 0.03354 time model: 13.92909 acc: 55.30000\n"
     ]
    },
    {
     "name": "stdout",
     "output_type": "stream",
     "text": [
      "80\n",
      "[epoch: 2, batch:     81] loss: 0.03316 time model: 18.57917 acc: 75.10000\n"
     ]
    },
    {
     "name": "stdout",
     "output_type": "stream",
     "text": [
      "epoch:2 train loss: 0.0346074053530048 train acc: 0.5846955697701967 valid loss: 0.033400877784008104 valid acc: 0.5867287543655413\n",
      "epoch:2 train loss: 0.0346074053530048 train acc: 0.5846955697701967 valid loss: 0.033400877784008104 valid acc: 0.5867287543655413\n"
     ]
    },
    {
     "name": "stdout",
     "output_type": "stream",
     "text": [
      "20\n",
      "[epoch: 3, batch:     21] loss: 0.02814 time model: 5.21328 acc: 21.05000\n"
     ]
    },
    {
     "name": "stdout",
     "output_type": "stream",
     "text": [
      "40\n",
      "[epoch: 3, batch:     41] loss: 0.02709 time model: 10.42803 acc: 42.55000\n"
     ]
    },
    {
     "name": "stdout",
     "output_type": "stream",
     "text": [
      "60\n",
      "[epoch: 3, batch:     61] loss: 0.02773 time model: 15.64027 acc: 63.35000\n"
     ]
    },
    {
     "name": "stdout",
     "output_type": "stream",
     "text": [
      "80\n",
      "[epoch: 3, batch:     81] loss: 0.02706 time model: 20.85220 acc: 85.05000\n"
     ]
    },
    {
     "name": "stdout",
     "output_type": "stream",
     "text": [
      "100\n",
      "[epoch: 3, batch:    101] loss: 0.02641 time model: 26.06168 acc: 108.00000\n"
     ]
    },
    {
     "name": "stdout",
     "output_type": "stream",
     "text": [
      "120\n",
      "[epoch: 3, batch:    121] loss: 0.02637 time model: 31.26885 acc: 130.85000\n"
     ]
    },
    {
     "name": "stdout",
     "output_type": "stream",
     "text": [
      "140\n",
      "[epoch: 3, batch:    141] loss: 0.02623 time model: 36.47185 acc: 152.50000\n"
     ]
    },
    {
     "name": "stdout",
     "output_type": "stream",
     "text": [
      "160\n",
      "[epoch: 3, batch:    161] loss: 0.02666 time model: 41.66046 acc: 173.45000\n"
     ]
    },
    {
     "name": "stdout",
     "output_type": "stream",
     "text": [
      "180\n",
      "[epoch: 3, batch:    181] loss: 0.02683 time model: 46.85115 acc: 194.65000\n"
     ]
    },
    {
     "name": "stdout",
     "output_type": "stream",
     "text": [
      "200\n",
      "[epoch: 3, batch:    201] loss: 0.02662 time model: 52.03995 acc: 217.45000\n"
     ]
    },
    {
     "name": "stdout",
     "output_type": "stream",
     "text": [
      "220\n",
      "[epoch: 3, batch:    221] loss: 0.02660 time model: 57.23234 acc: 239.70000\n"
     ]
    },
    {
     "name": "stdout",
     "output_type": "stream",
     "text": [
      "240\n",
      "[epoch: 3, batch:    241] loss: 0.02687 time model: 62.40337 acc: 260.65000\n"
     ]
    },
    {
     "name": "stdout",
     "output_type": "stream",
     "text": [
      "260\n",
      "[epoch: 3, batch:    261] loss: 0.02679 time model: 67.57274 acc: 282.55000\n"
     ]
    },
    {
     "name": "stdout",
     "output_type": "stream",
     "text": [
      "280\n",
      "[epoch: 3, batch:    281] loss: 0.02673 time model: 72.75194 acc: 305.05000\n"
     ]
    },
    {
     "name": "stdout",
     "output_type": "stream",
     "text": [
      "300\n",
      "[epoch: 3, batch:    301] loss: 0.02680 time model: 77.94071 acc: 326.20000\n"
     ]
    },
    {
     "name": "stdout",
     "output_type": "stream",
     "text": [
      "320\n",
      "[epoch: 3, batch:    321] loss: 0.02692 time model: 83.13753 acc: 348.00000\n"
     ]
    },
    {
     "name": "stdout",
     "output_type": "stream",
     "text": [
      "340\n",
      "[epoch: 3, batch:    341] loss: 0.02684 time model: 88.33622 acc: 370.35000\n"
     ]
    },
    {
     "name": "stdout",
     "output_type": "stream",
     "text": [
      "360\n",
      "[epoch: 3, batch:    361] loss: 0.02675 time model: 93.53635 acc: 392.80000\n"
     ]
    },
    {
     "name": "stdout",
     "output_type": "stream",
     "text": [
      "380\n",
      "[epoch: 3, batch:    381] loss: 0.02685 time model: 98.73503 acc: 414.65000\n"
     ]
    },
    {
     "name": "stdout",
     "output_type": "stream",
     "text": [
      "400\n",
      "[epoch: 3, batch:    401] loss: 0.02687 time model: 103.93270 acc: 437.00000\n"
     ]
    },
    {
     "name": "stdout",
     "output_type": "stream",
     "text": [
      "420\n",
      "[epoch: 3, batch:    421] loss: 0.02669 time model: 109.13089 acc: 460.40000\n"
     ]
    },
    {
     "name": "stdout",
     "output_type": "stream",
     "text": [
      "440\n",
      "[epoch: 3, batch:    441] loss: 0.02671 time model: 114.34100 acc: 482.15000\n"
     ]
    },
    {
     "name": "stdout",
     "output_type": "stream",
     "text": [
      "460\n",
      "[epoch: 3, batch:    461] loss: 0.02668 time model: 119.55020 acc: 504.80000\n"
     ]
    },
    {
     "name": "stdout",
     "output_type": "stream",
     "text": [
      "480\n",
      "[epoch: 3, batch:    481] loss: 0.02657 time model: 124.74318 acc: 527.70000\n"
     ]
    },
    {
     "name": "stdout",
     "output_type": "stream",
     "text": [
      "500\n",
      "[epoch: 3, batch:    501] loss: 0.02647 time model: 129.93474 acc: 550.35000\n"
     ]
    },
    {
     "name": "stdout",
     "output_type": "stream",
     "text": [
      "520\n",
      "[epoch: 3, batch:    521] loss: 0.02641 time model: 135.12777 acc: 572.80000\n"
     ]
    },
    {
     "name": "stdout",
     "output_type": "stream",
     "text": [
      "540\n",
      "[epoch: 3, batch:    541] loss: 0.02650 time model: 140.36793 acc: 594.75000\n"
     ]
    },
    {
     "name": "stdout",
     "output_type": "stream",
     "text": [
      "560\n",
      "[epoch: 3, batch:    561] loss: 0.02644 time model: 145.61334 acc: 617.20000\n"
     ]
    },
    {
     "name": "stdout",
     "output_type": "stream",
     "text": [
      "580\n",
      "[epoch: 3, batch:    581] loss: 0.02644 time model: 150.85633 acc: 639.80000\n"
     ]
    },
    {
     "name": "stdout",
     "output_type": "stream",
     "text": [
      "600\n",
      "[epoch: 3, batch:    601] loss: 0.02647 time model: 156.10038 acc: 661.45000\n"
     ]
    },
    {
     "name": "stdout",
     "output_type": "stream",
     "text": [
      "620\n",
      "[epoch: 3, batch:    621] loss: 0.02647 time model: 161.34819 acc: 683.15000\n"
     ]
    },
    {
     "name": "stdout",
     "output_type": "stream",
     "text": [
      "640\n",
      "[epoch: 3, batch:    641] loss: 0.02637 time model: 166.58402 acc: 706.65000\n"
     ]
    },
    {
     "name": "stdout",
     "output_type": "stream",
     "text": [
      "660\n",
      "[epoch: 3, batch:    661] loss: 0.02636 time model: 171.72584 acc: 728.65000\n"
     ]
    },
    {
     "name": "stdout",
     "output_type": "stream",
     "text": [
      "20\n",
      "[epoch: 3, batch:     21] loss: 0.02420 time model: 4.65651 acc: 23.05000\n"
     ]
    },
    {
     "name": "stdout",
     "output_type": "stream",
     "text": [
      "40\n",
      "[epoch: 3, batch:     41] loss: 0.02482 time model: 9.31145 acc: 45.50000\n"
     ]
    },
    {
     "name": "stdout",
     "output_type": "stream",
     "text": [
      "60\n",
      "[epoch: 3, batch:     61] loss: 0.02545 time model: 13.96619 acc: 66.90000\n"
     ]
    },
    {
     "name": "stdout",
     "output_type": "stream",
     "text": [
      "80\n",
      "[epoch: 3, batch:     81] loss: 0.02569 time model: 18.61970 acc: 89.15000\n"
     ]
    },
    {
     "name": "stdout",
     "output_type": "stream",
     "text": [
      "epoch:3 train loss: 0.026364633217153887 train acc: 0.6904998815446577 valid loss: 0.025813818047293685 valid acc: 0.696546371750097\n",
      "epoch:3 train loss: 0.026364633217153887 train acc: 0.6904998815446577 valid loss: 0.025813818047293685 valid acc: 0.696546371750097\n"
     ]
    },
    {
     "name": "stdout",
     "output_type": "stream",
     "text": [
      "20\n",
      "[epoch: 4, batch:     21] loss: 0.02155 time model: 5.20969 acc: 23.15000\n"
     ]
    },
    {
     "name": "stdout",
     "output_type": "stream",
     "text": [
      "40\n",
      "[epoch: 4, batch:     41] loss: 0.02199 time model: 10.42390 acc: 46.55000\n"
     ]
    },
    {
     "name": "stdout",
     "output_type": "stream",
     "text": [
      "60\n",
      "[epoch: 4, batch:     61] loss: 0.02268 time model: 15.63559 acc: 69.20000\n"
     ]
    },
    {
     "name": "stdout",
     "output_type": "stream",
     "text": [
      "80\n",
      "[epoch: 4, batch:     81] loss: 0.02281 time model: 20.84785 acc: 92.35000\n"
     ]
    },
    {
     "name": "stdout",
     "output_type": "stream",
     "text": [
      "100\n",
      "[epoch: 4, batch:    101] loss: 0.02293 time model: 26.06945 acc: 115.70000\n"
     ]
    },
    {
     "name": "stdout",
     "output_type": "stream",
     "text": [
      "120\n",
      "[epoch: 4, batch:    121] loss: 0.02317 time model: 31.28602 acc: 137.95000\n"
     ]
    },
    {
     "name": "stdout",
     "output_type": "stream",
     "text": [
      "140\n",
      "[epoch: 4, batch:    141] loss: 0.02298 time model: 36.50389 acc: 161.50000\n"
     ]
    },
    {
     "name": "stdout",
     "output_type": "stream",
     "text": [
      "160\n",
      "[epoch: 4, batch:    161] loss: 0.02328 time model: 41.72651 acc: 185.00000\n"
     ]
    },
    {
     "name": "stdout",
     "output_type": "stream",
     "text": [
      "180\n",
      "[epoch: 4, batch:    181] loss: 0.02325 time model: 46.95087 acc: 208.00000\n"
     ]
    },
    {
     "name": "stdout",
     "output_type": "stream",
     "text": [
      "200\n",
      "[epoch: 4, batch:    201] loss: 0.02323 time model: 52.17747 acc: 231.25000\n"
     ]
    },
    {
     "name": "stdout",
     "output_type": "stream",
     "text": [
      "220\n",
      "[epoch: 4, batch:    221] loss: 0.02325 time model: 57.41309 acc: 254.20000\n"
     ]
    },
    {
     "name": "stdout",
     "output_type": "stream",
     "text": [
      "240\n",
      "[epoch: 4, batch:    241] loss: 0.02327 time model: 62.63856 acc: 277.55000\n"
     ]
    },
    {
     "name": "stdout",
     "output_type": "stream",
     "text": [
      "260\n",
      "[epoch: 4, batch:    261] loss: 0.02311 time model: 67.87384 acc: 301.40000\n"
     ]
    },
    {
     "name": "stdout",
     "output_type": "stream",
     "text": [
      "280\n",
      "[epoch: 4, batch:    281] loss: 0.02312 time model: 73.11727 acc: 324.25000\n"
     ]
    },
    {
     "name": "stdout",
     "output_type": "stream",
     "text": [
      "300\n",
      "[epoch: 4, batch:    301] loss: 0.02320 time model: 78.36322 acc: 347.75000\n"
     ]
    },
    {
     "name": "stdout",
     "output_type": "stream",
     "text": [
      "320\n",
      "[epoch: 4, batch:    321] loss: 0.02322 time model: 83.61143 acc: 371.30000\n"
     ]
    },
    {
     "name": "stdout",
     "output_type": "stream",
     "text": [
      "340\n",
      "[epoch: 4, batch:    341] loss: 0.02338 time model: 88.85912 acc: 393.95000\n"
     ]
    },
    {
     "name": "stdout",
     "output_type": "stream",
     "text": [
      "360\n",
      "[epoch: 4, batch:    361] loss: 0.02335 time model: 94.10249 acc: 417.40000\n"
     ]
    },
    {
     "name": "stdout",
     "output_type": "stream",
     "text": [
      "380\n",
      "[epoch: 4, batch:    381] loss: 0.02322 time model: 99.34204 acc: 441.65000\n"
     ]
    },
    {
     "name": "stdout",
     "output_type": "stream",
     "text": [
      "400\n",
      "[epoch: 4, batch:    401] loss: 0.02311 time model: 104.54939 acc: 465.60000\n"
     ]
    },
    {
     "name": "stdout",
     "output_type": "stream",
     "text": [
      "420\n",
      "[epoch: 4, batch:    421] loss: 0.02304 time model: 109.74664 acc: 489.65000\n"
     ]
    },
    {
     "name": "stdout",
     "output_type": "stream",
     "text": [
      "440\n",
      "[epoch: 4, batch:    441] loss: 0.02303 time model: 114.94273 acc: 513.50000\n"
     ]
    },
    {
     "name": "stdout",
     "output_type": "stream",
     "text": [
      "460\n",
      "[epoch: 4, batch:    461] loss: 0.02301 time model: 120.12757 acc: 536.80000\n"
     ]
    },
    {
     "name": "stdout",
     "output_type": "stream",
     "text": [
      "480\n",
      "[epoch: 4, batch:    481] loss: 0.02283 time model: 125.32212 acc: 561.65000\n"
     ]
    },
    {
     "name": "stdout",
     "output_type": "stream",
     "text": [
      "500\n",
      "[epoch: 4, batch:    501] loss: 0.02278 time model: 130.51686 acc: 584.80000\n"
     ]
    },
    {
     "name": "stdout",
     "output_type": "stream",
     "text": [
      "520\n",
      "[epoch: 4, batch:    521] loss: 0.02277 time model: 135.70811 acc: 608.85000\n"
     ]
    },
    {
     "name": "stdout",
     "output_type": "stream",
     "text": [
      "540\n",
      "[epoch: 4, batch:    541] loss: 0.02281 time model: 140.89303 acc: 632.40000\n"
     ]
    },
    {
     "name": "stdout",
     "output_type": "stream",
     "text": [
      "560\n",
      "[epoch: 4, batch:    561] loss: 0.02283 time model: 146.08478 acc: 655.45000\n"
     ]
    },
    {
     "name": "stdout",
     "output_type": "stream",
     "text": [
      "580\n",
      "[epoch: 4, batch:    581] loss: 0.02277 time model: 151.27786 acc: 679.70000\n"
     ]
    },
    {
     "name": "stdout",
     "output_type": "stream",
     "text": [
      "600\n",
      "[epoch: 4, batch:    601] loss: 0.02277 time model: 156.45910 acc: 703.30000\n"
     ]
    },
    {
     "name": "stdout",
     "output_type": "stream",
     "text": [
      "620\n",
      "[epoch: 4, batch:    621] loss: 0.02278 time model: 161.64177 acc: 726.80000\n"
     ]
    },
    {
     "name": "stdout",
     "output_type": "stream",
     "text": [
      "640\n",
      "[epoch: 4, batch:    641] loss: 0.02276 time model: 166.85269 acc: 750.50000\n"
     ]
    },
    {
     "name": "stdout",
     "output_type": "stream",
     "text": [
      "660\n",
      "[epoch: 4, batch:    661] loss: 0.02278 time model: 171.96866 acc: 773.95000\n"
     ]
    }
   ],
   "source": [
    "MODELNAME = 'full_dataset_pdg03'\n",
    "LOGFILE_PATH = 'logs/' + MODELNAME\n",
    "global_eps = 0.3\n",
    "\n",
    "def fgsm(model, X, y, epsilon=0.3):\n",
    "    \"\"\" Construct FGSM adversarial examples on the examples X\"\"\"\n",
    "    epsilon = global_eps\n",
    "    delta = torch.zeros_like(X, requires_grad=True)\n",
    "    delta = delta.cuda()\n",
    "    loss = nn.CrossEntropyLoss()(model(X + delta), y)\n",
    "    loss.backward()\n",
    "    return epsilon * delta.grad.detach().sign()\n",
    "\n",
    "\n",
    "def pgd_linf(model, X, y, epsilon=0.1, alpha=0.01, num_iter=7, randomize=False):\n",
    "    \"\"\" Construct PGD adversarial examples on the examples X\"\"\"\n",
    "    epsilon = global_eps\n",
    "    if randomize:\n",
    "        delta = torch.rand_like(X, requires_grad=True)\n",
    "        delta.data = delta.data * 2 * epsilon - epsilon\n",
    "    else:\n",
    "        delta = torch.zeros_like(X, requires_grad=True)\n",
    "        \n",
    "    for t in range(num_iter):\n",
    "        loss = nn.CrossEntropyLoss()(model(X + delta), y)\n",
    "        loss.backward()\n",
    "        delta.data = (delta + alpha*delta.grad.detach().sign()).clamp(-epsilon,epsilon)\n",
    "        delta.grad.zero_()\n",
    "    return delta.detach()\n",
    "\n",
    "from models.resnet import ResNet, resnet34\n",
    "model = resnet34(pretrained=False, progress=False).cuda()\n",
    "criterion = torch.nn.CrossEntropyLoss()\n",
    "\n",
    "for param in model.parameters():\n",
    "  param.requires_grad = True\n",
    "\n",
    "trainer = BaseTrainer(model=model, train_dl=train_data_loader, valid_dl=valid_data_loader, test_dl=valid_data_loader, criterion=criterion, model_filename=MODELNAME, n_epochs=1)\n",
    "trainer.fit_model_new(optimizer=optim.Adam(model.parameters(), lr=.001), n_epochs=10, model_filename=MODELNAME, attack=pgd_linf)\n",
    "\n"
   ]
  },
  {
   "cell_type": "code",
   "execution_count": null,
   "metadata": {
    "papermill": {
     "duration": null,
     "end_time": null,
     "exception": null,
     "start_time": null,
     "status": "completed"
    },
    "tags": []
   },
   "outputs": [],
   "source": [
    "MODELNAME = 'full_dataset_pdg20'\n",
    "LOGFILE_PATH = 'logs/' + MODELNAME\n",
    "global_eps = 2.0\n",
    "\n",
    "def fgsm(model, X, y, epsilon=0.3):\n",
    "    \"\"\" Construct FGSM adversarial examples on the examples X\"\"\"\n",
    "    epsilon = global_eps\n",
    "    delta = torch.zeros_like(X, requires_grad=True)\n",
    "    delta = delta.cuda()\n",
    "    loss = nn.CrossEntropyLoss()(model(X + delta), y)\n",
    "    loss.backward()\n",
    "    return epsilon * delta.grad.detach().sign()\n",
    "\n",
    "\n",
    "def pgd_linf(model, X, y, epsilon=0.1, alpha=0.01, num_iter=7, randomize=False):\n",
    "    \"\"\" Construct PGD adversarial examples on the examples X\"\"\"\n",
    "    epsilon = global_eps\n",
    "    if randomize:\n",
    "        delta = torch.rand_like(X, requires_grad=True)\n",
    "        delta.data = delta.data * 2 * epsilon - epsilon\n",
    "    else:\n",
    "        delta = torch.zeros_like(X, requires_grad=True)\n",
    "        \n",
    "    for t in range(num_iter):\n",
    "        loss = nn.CrossEntropyLoss()(model(X + delta), y)\n",
    "        loss.backward()\n",
    "        delta.data = (delta + alpha*delta.grad.detach().sign()).clamp(-epsilon,epsilon)\n",
    "        delta.grad.zero_()\n",
    "    return delta.detach()\n",
    "\n",
    "from models.resnet import ResNet, resnet34\n",
    "model = resnet34(pretrained=False, progress=False).cuda()\n",
    "criterion = torch.nn.CrossEntropyLoss()\n",
    "\n",
    "for param in model.parameters():\n",
    "  param.requires_grad = True\n",
    "\n",
    "trainer = BaseTrainer(model=model, train_dl=train_data_loader, valid_dl=valid_data_loader, test_dl=valid_data_loader, criterion=criterion, model_filename=MODELNAME, n_epochs=1)\n",
    "trainer.fit_model_new(optimizer=optim.Adam(model.parameters(), lr=.001), n_epochs=10, model_filename=MODELNAME, attack=pgd_linf)\n",
    "\n"
   ]
  },
  {
   "cell_type": "code",
   "execution_count": null,
   "metadata": {
    "papermill": {
     "duration": null,
     "end_time": null,
     "exception": null,
     "start_time": null,
     "status": "completed"
    },
    "tags": []
   },
   "outputs": [],
   "source": []
  },
  {
   "cell_type": "code",
   "execution_count": null,
   "metadata": {
    "papermill": {
     "duration": null,
     "end_time": null,
     "exception": null,
     "start_time": null,
     "status": "completed"
    },
    "tags": []
   },
   "outputs": [],
   "source": [
    "error"
   ]
  },
  {
   "cell_type": "code",
   "execution_count": null,
   "metadata": {
    "papermill": {
     "duration": null,
     "end_time": null,
     "exception": null,
     "start_time": null,
     "status": "completed"
    },
    "tags": []
   },
   "outputs": [],
   "source": [
    "np.squeeze(np.moveaxis(dd[0], 0, 2)).shape"
   ]
  },
  {
   "cell_type": "code",
   "execution_count": null,
   "metadata": {
    "papermill": {
     "duration": null,
     "end_time": null,
     "exception": null,
     "start_time": null,
     "status": "completed"
    },
    "tags": []
   },
   "outputs": [],
   "source": [
    "trainset_sub[0][2]"
   ]
  },
  {
   "cell_type": "code",
   "execution_count": null,
   "metadata": {
    "papermill": {
     "duration": null,
     "end_time": null,
     "exception": null,
     "start_time": null,
     "status": "completed"
    },
    "tags": []
   },
   "outputs": [],
   "source": [
    "rate, data = wavfile.read(trainset_sub[0][2])"
   ]
  },
  {
   "cell_type": "code",
   "execution_count": null,
   "metadata": {
    "papermill": {
     "duration": null,
     "end_time": null,
     "exception": null,
     "start_time": null,
     "status": "completed"
    },
    "tags": []
   },
   "outputs": [],
   "source": [
    "output1 = np.squeeze(np.moveaxis(dd[10], 0, 2))"
   ]
  },
  {
   "cell_type": "code",
   "execution_count": null,
   "metadata": {
    "papermill": {
     "duration": null,
     "end_time": null,
     "exception": null,
     "start_time": null,
     "status": "completed"
    },
    "tags": []
   },
   "outputs": [],
   "source": [
    "np.clip(10*np.random.normal(size=output1.shape), a_max=10, a_min=-10).shape"
   ]
  },
  {
   "cell_type": "code",
   "execution_count": null,
   "metadata": {
    "papermill": {
     "duration": null,
     "end_time": null,
     "exception": null,
     "start_time": null,
     "status": "completed"
    },
    "tags": []
   },
   "outputs": [],
   "source": [
    "dddd = np.random.normal(size=(112,1024))*1"
   ]
  },
  {
   "cell_type": "code",
   "execution_count": null,
   "metadata": {
    "papermill": {
     "duration": null,
     "end_time": null,
     "exception": null,
     "start_time": null,
     "status": "completed"
    },
    "tags": []
   },
   "outputs": [],
   "source": [
    "ddd = np.clip(dddd, a_max=3, a_min=-3)*std+mean"
   ]
  },
  {
   "cell_type": "code",
   "execution_count": null,
   "metadata": {
    "papermill": {
     "duration": null,
     "end_time": null,
     "exception": null,
     "start_time": null,
     "status": "completed"
    },
    "tags": []
   },
   "outputs": [],
   "source": [
    "np.sum(np.abs(ddd-dddd))"
   ]
  },
  {
   "cell_type": "code",
   "execution_count": null,
   "metadata": {
    "papermill": {
     "duration": null,
     "end_time": null,
     "exception": null,
     "start_time": null,
     "status": "completed"
    },
    "tags": []
   },
   "outputs": [],
   "source": [
    "output = (output1*std+mean)+ddd"
   ]
  },
  {
   "cell_type": "code",
   "execution_count": null,
   "metadata": {
    "papermill": {
     "duration": null,
     "end_time": null,
     "exception": null,
     "start_time": null,
     "status": "completed"
    },
    "tags": []
   },
   "outputs": [],
   "source": [
    "recovered_audio_orig = invert_pretty_spectrogram(output, fft_size = fft_size,\n",
    "                                            step_size = step_size, log = True, n_iter = 10)\n",
    "IPython.display.Audio(data=recovered_audio_orig, rate=rate) # play the audio"
   ]
  },
  {
   "cell_type": "code",
   "execution_count": null,
   "metadata": {
    "colab": {},
    "colab_type": "code",
    "id": "nAXvblzEBTTq",
    "papermill": {
     "duration": null,
     "end_time": null,
     "exception": null,
     "start_time": null,
     "status": "completed"
    },
    "tags": []
   },
   "outputs": [],
   "source": [
    "# normal training, fgsm attack\n",
    "trainer.run_epoch(valid_data_loader, optimizer=None, attack=fgsm)"
   ]
  }
 ],
 "metadata": {
  "accelerator": "GPU",
  "colab": {
   "collapsed_sections": [],
   "name": "audio_training.ipynb",
   "provenance": [],
   "toc_visible": true
  },
  "kernelspec": {
   "display_name": "Python 3",
   "language": "python",
   "name": "python3"
  },
  "language_info": {
   "codemirror_mode": {
    "name": "ipython",
    "version": 3
   },
   "file_extension": ".py",
   "mimetype": "text/x-python",
   "name": "python",
   "nbconvert_exporter": "python",
   "pygments_lexer": "ipython3",
   "version": "3.7.4"
  },
  "papermill": {
   "duration": 38075.93184,
   "end_time": "2019-11-05T14:09:28.166403",
   "environment_variables": {},
   "exception": null,
   "input_path": "audio_training.ipynb",
   "output_path": "audio_training_output.ipynb",
   "parameters": {},
   "start_time": "2019-11-05T03:34:52.234563",
   "version": "1.2.0"
  }
 },
 "nbformat": 4,
 "nbformat_minor": 1
}